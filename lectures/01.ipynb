{
 "cells": [
  {
   "cell_type": "code",
   "execution_count": 183,
   "id": "064701f0-9b0f-45ff-91e7-fa8ddc69b439",
   "metadata": {
    "tags": []
   },
   "outputs": [],
   "source": [
    "from shapely.geometry import Point, LineString, Polygon, LinearRing, MultiPoint, MultiLineString, MultiPolygon, box"
   ]
  },
  {
   "cell_type": "markdown",
   "id": "3206952f-4737-4924-b23d-ec387d405e51",
   "metadata": {},
   "source": [
    "### Points"
   ]
  },
  {
   "cell_type": "code",
   "execution_count": 38,
   "id": "2d667f6f-f1b3-4368-8ee6-a8e15591aa97",
   "metadata": {
    "tags": []
   },
   "outputs": [
    {
     "data": {
      "image/svg+xml": [
       "<svg xmlns=\"http://www.w3.org/2000/svg\" xmlns:xlink=\"http://www.w3.org/1999/xlink\" width=\"100.0\" height=\"100.0\" viewBox=\"0.0 5.0 2.0 2.0\" preserveAspectRatio=\"xMinYMin meet\"><g transform=\"matrix(1,0,0,-1,0,12.0)\"><circle cx=\"1.0\" cy=\"6.0\" r=\"0.06\" stroke=\"#555555\" stroke-width=\"0.02\" fill=\"#66cc99\" opacity=\"0.6\" /></g></svg>"
      ],
      "text/plain": [
       "<POINT (1 6)>"
      ]
     },
     "execution_count": 38,
     "metadata": {},
     "output_type": "execute_result"
    }
   ],
   "source": [
    "point = Point(1, 6)\n",
    "point_2 = Point(2, 0)\n",
    "point_3 = Point(3, 9)\n",
    "point"
   ]
  },
  {
   "cell_type": "code",
   "execution_count": 68,
   "id": "d1440987-06b8-4416-95f5-794a6907b13d",
   "metadata": {
    "tags": []
   },
   "outputs": [
    {
     "data": {
      "image/svg+xml": [
       "<svg xmlns=\"http://www.w3.org/2000/svg\" xmlns:xlink=\"http://www.w3.org/1999/xlink\" width=\"100.0\" height=\"100.0\" viewBox=\"0.0 1.0 2.0 2.0\" preserveAspectRatio=\"xMinYMin meet\"><g transform=\"matrix(1,0,0,-1,0,4.0)\"><circle cx=\"1.0\" cy=\"2.0\" r=\"0.06\" stroke=\"#555555\" stroke-width=\"0.02\" fill=\"#66cc99\" opacity=\"0.6\" /></g></svg>"
      ],
      "text/plain": [
       "<POINT Z (1 2 3)>"
      ]
     },
     "execution_count": 68,
     "metadata": {},
     "output_type": "execute_result"
    }
   ],
   "source": [
    "point_3d = Point(1, 2, 3)\n",
    "point_3d_1 = Point(2.5, 1.7, 0)\n",
    "point_3d_2 = Point(5, 3.5, 1.5)\n",
    "point_3d"
   ]
  },
  {
   "cell_type": "code",
   "execution_count": 69,
   "id": "0a77f3f1-b586-4839-9d80-af56df21a0a1",
   "metadata": {
    "tags": []
   },
   "outputs": [
    {
     "name": "stdout",
     "output_type": "stream",
     "text": [
      "POINT (1 6)\n",
      "POINT Z (1 2 3)\n"
     ]
    }
   ],
   "source": [
    "print(point)\n",
    "print(point_3d)"
   ]
  },
  {
   "cell_type": "code",
   "execution_count": 70,
   "id": "2dad5ead-4204-4b69-83c5-ccfdd625c063",
   "metadata": {
    "tags": []
   },
   "outputs": [
    {
     "data": {
      "text/plain": [
       "shapely.geometry.point.Point"
      ]
     },
     "execution_count": 70,
     "metadata": {},
     "output_type": "execute_result"
    }
   ],
   "source": [
    "type(point_3d)"
   ]
  },
  {
   "cell_type": "code",
   "execution_count": 71,
   "id": "f9c7e2f7-7d4b-4d4d-87cd-a3930804ba09",
   "metadata": {
    "tags": []
   },
   "outputs": [
    {
     "data": {
      "text/plain": [
       "(False, True)"
      ]
     },
     "execution_count": 71,
     "metadata": {},
     "output_type": "execute_result"
    }
   ],
   "source": [
    "point.has_z, point_3d.has_z, "
   ]
  },
  {
   "cell_type": "code",
   "execution_count": 72,
   "id": "be0c411e-f5c1-4e1b-bbb1-d58cd37a1e71",
   "metadata": {
    "tags": []
   },
   "outputs": [
    {
     "data": {
      "text/plain": [
       "6.082762530298219"
      ]
     },
     "execution_count": 72,
     "metadata": {},
     "output_type": "execute_result"
    }
   ],
   "source": [
    "point.distance(point_2)"
   ]
  },
  {
   "cell_type": "markdown",
   "id": "94f22313-a7eb-42df-9a6a-4cd2598b12c6",
   "metadata": {},
   "source": [
    "### Lines"
   ]
  },
  {
   "cell_type": "code",
   "execution_count": 73,
   "id": "c203eb34-e0f8-461d-88b3-d42e98c588c8",
   "metadata": {
    "tags": []
   },
   "outputs": [
    {
     "data": {
      "image/svg+xml": [
       "<svg xmlns=\"http://www.w3.org/2000/svg\" xmlns:xlink=\"http://www.w3.org/1999/xlink\" width=\"100.0\" height=\"100.0\" viewBox=\"0.64 -0.36 2.7199999999999998 9.719999999999999\" preserveAspectRatio=\"xMinYMin meet\"><g transform=\"matrix(1,0,0,-1,0,9.0)\"><polyline fill=\"none\" stroke=\"#66cc99\" stroke-width=\"0.1944\" points=\"1.0,6.0 2.0,0.0 3.0,9.0\" opacity=\"0.8\" /></g></svg>"
      ],
      "text/plain": [
       "<LINESTRING (1 6, 2 0, 3 9)>"
      ]
     },
     "execution_count": 73,
     "metadata": {},
     "output_type": "execute_result"
    }
   ],
   "source": [
    "line = LineString([point, point_2, point_3])\n",
    "line"
   ]
  },
  {
   "cell_type": "code",
   "execution_count": 74,
   "id": "b7249c3e-eaac-4960-bef3-d006445e3577",
   "metadata": {
    "tags": []
   },
   "outputs": [
    {
     "name": "stdout",
     "output_type": "stream",
     "text": [
      "LINESTRING (1 6, 2 0, 3 9)\n"
     ]
    }
   ],
   "source": [
    "print(line)"
   ]
  },
  {
   "cell_type": "code",
   "execution_count": 75,
   "id": "82d4e3c3-db27-4698-b272-5a2c58594929",
   "metadata": {
    "tags": []
   },
   "outputs": [
    {
     "data": {
      "text/plain": [
       "(array('d', [1.0, 2.0, 3.0]), array('d', [6.0, 0.0, 9.0]))"
      ]
     },
     "execution_count": 75,
     "metadata": {},
     "output_type": "execute_result"
    }
   ],
   "source": [
    "line.xy"
   ]
  },
  {
   "cell_type": "code",
   "execution_count": 82,
   "id": "02b639d3-2b19-4c13-988c-d5bc6513ea2b",
   "metadata": {
    "tags": []
   },
   "outputs": [
    {
     "data": {
      "text/plain": [
       "[(2.098183168540408, 3.897274752810612)]"
      ]
     },
     "execution_count": 82,
     "metadata": {},
     "output_type": "execute_result"
    }
   ],
   "source": [
    "list(line.centroid.coords)"
   ]
  },
  {
   "cell_type": "code",
   "execution_count": 91,
   "id": "2196d20f-3baa-4d20-8b25-7a11e02aa98e",
   "metadata": {
    "tags": []
   },
   "outputs": [
    {
     "data": {
      "image/svg+xml": [
       "<svg xmlns=\"http://www.w3.org/2000/svg\" xmlns:xlink=\"http://www.w3.org/1999/xlink\" width=\"100.0\" height=\"100.0\" viewBox=\"0.84 1.54 4.32 2.12\" preserveAspectRatio=\"xMinYMin meet\"><g transform=\"matrix(1,0,0,-1,0,5.2)\"><polyline fill=\"none\" stroke=\"#66cc99\" stroke-width=\"0.0864\" points=\"1.0,2.0 2.5,1.7 5.0,3.5 4.1,2.2\" opacity=\"0.8\" /></g></svg>"
      ],
      "text/plain": [
       "<LINESTRING Z (1 2 3, 2.5 1.7 0, 5 3.5 1.5, 4.1 2.2 3.4)>"
      ]
     },
     "execution_count": 91,
     "metadata": {},
     "output_type": "execute_result"
    }
   ],
   "source": [
    "line_3d = LineString([point_3d, point_3d_1, point_3d_2, Point(4.1, 2.2, 3.4)])\n",
    "line_3d"
   ]
  },
  {
   "cell_type": "code",
   "execution_count": 92,
   "id": "f1f4c314-ae31-4a6c-af0d-5c3dbf9ff7f5",
   "metadata": {
    "tags": []
   },
   "outputs": [
    {
     "data": {
      "text/plain": [
       "(array('d', [1.0, 2.5, 5.0, 4.1]), array('d', [2.0, 1.7, 3.5, 2.2]))"
      ]
     },
     "execution_count": 92,
     "metadata": {},
     "output_type": "execute_result"
    }
   ],
   "source": [
    "line_3d.xy"
   ]
  },
  {
   "cell_type": "code",
   "execution_count": 93,
   "id": "bdcdecf9-e3f4-4155-b303-6f7bc8ad5c7c",
   "metadata": {
    "tags": []
   },
   "outputs": [
    {
     "data": {
      "text/plain": [
       "[(3.4601637390584425, 2.478542630844136)]"
      ]
     },
     "execution_count": 93,
     "metadata": {},
     "output_type": "execute_result"
    }
   ],
   "source": [
    "list(line_3d.centroid.coords)"
   ]
  },
  {
   "cell_type": "markdown",
   "id": "7492900c-6634-4a3b-a496-63d7f73ef77a",
   "metadata": {},
   "source": [
    "### Polygons"
   ]
  },
  {
   "cell_type": "code",
   "execution_count": 94,
   "id": "9990ca7d-5177-4a88-8d5b-82b6e0310b32",
   "metadata": {
    "tags": []
   },
   "outputs": [
    {
     "data": {
      "image/svg+xml": [
       "<svg xmlns=\"http://www.w3.org/2000/svg\" xmlns:xlink=\"http://www.w3.org/1999/xlink\" width=\"100.0\" height=\"100.0\" viewBox=\"0.64 -0.36 2.7199999999999998 9.719999999999999\" preserveAspectRatio=\"xMinYMin meet\"><g transform=\"matrix(1,0,0,-1,0,9.0)\"><path fill-rule=\"evenodd\" fill=\"#66cc99\" stroke=\"#555555\" stroke-width=\"0.1944\" opacity=\"0.6\" d=\"M 1.0,6.0 L 2.0,0.0 L 3.0,9.0 L 1.0,6.0 z\" /></g></svg>"
      ],
      "text/plain": [
       "<POLYGON ((1 6, 2 0, 3 9, 1 6))>"
      ]
     },
     "execution_count": 94,
     "metadata": {},
     "output_type": "execute_result"
    }
   ],
   "source": [
    "polygon = Polygon([point, point_2, point_3])\n",
    "polygon"
   ]
  },
  {
   "cell_type": "code",
   "execution_count": 95,
   "id": "7866e7a9-506d-408e-b14e-b496b828b947",
   "metadata": {
    "tags": []
   },
   "outputs": [
    {
     "data": {
      "image/svg+xml": [
       "<svg xmlns=\"http://www.w3.org/2000/svg\" xmlns:xlink=\"http://www.w3.org/1999/xlink\" width=\"100.0\" height=\"100.0\" viewBox=\"0.84 1.54 4.32 2.12\" preserveAspectRatio=\"xMinYMin meet\"><g transform=\"matrix(1,0,0,-1,0,5.2)\"><path fill-rule=\"evenodd\" fill=\"#ff3333\" stroke=\"#555555\" stroke-width=\"0.0864\" opacity=\"0.6\" d=\"M 1.0,2.0 L 2.5,1.7 L 5.0,3.5 L 4.1,2.2 L 1.0,2.0 z\" /></g></svg>"
      ],
      "text/plain": [
       "<POLYGON Z ((1 2 3, 2.5 1.7 0, 5 3.5 1.5, 4.1 2.2 3.4, 1 2 3))>"
      ]
     },
     "execution_count": 95,
     "metadata": {},
     "output_type": "execute_result"
    }
   ],
   "source": [
    "polygon = Polygon([point_3d, point_3d_1, point_3d_2, Point(4.1, 2.2, 3.4)])\n",
    "polygon"
   ]
  },
  {
   "cell_type": "code",
   "execution_count": 97,
   "id": "f2e32947-243a-4746-913b-a417b5dff878",
   "metadata": {
    "tags": []
   },
   "outputs": [
    {
     "data": {
      "image/svg+xml": [
       "<svg xmlns=\"http://www.w3.org/2000/svg\" xmlns:xlink=\"http://www.w3.org/1999/xlink\" width=\"100.0\" height=\"100.0\" viewBox=\"0.64 -0.36 2.7199999999999998 9.719999999999999\" preserveAspectRatio=\"xMinYMin meet\"><g transform=\"matrix(1,0,0,-1,0,9.0)\"><polyline fill=\"none\" stroke=\"#66cc99\" stroke-width=\"0.1944\" points=\"1.0,6.0 2.0,0.0 3.0,9.0 1.0,6.0\" opacity=\"0.8\" /></g></svg>"
      ],
      "text/plain": [
       "<LINEARRING (1 6, 2 0, 3 9, 1 6)>"
      ]
     },
     "execution_count": 97,
     "metadata": {},
     "output_type": "execute_result"
    }
   ],
   "source": [
    "linear_ring = LinearRing([point, point_2, point_3, point])\n",
    "linear_ring"
   ]
  },
  {
   "cell_type": "code",
   "execution_count": 117,
   "id": "78a9b176-b042-468f-86cb-c10253558fee",
   "metadata": {
    "tags": []
   },
   "outputs": [
    {
     "data": {
      "text/plain": [
       "True"
      ]
     },
     "execution_count": 117,
     "metadata": {},
     "output_type": "execute_result"
    }
   ],
   "source": [
    "LinearRing([point, point_2, point_3, point]) == LinearRing([point, point_2, point_3])"
   ]
  },
  {
   "cell_type": "code",
   "execution_count": 98,
   "id": "5e68102e-aca6-4815-9227-7ad476010159",
   "metadata": {
    "tags": []
   },
   "outputs": [
    {
     "data": {
      "image/svg+xml": [
       "<svg xmlns=\"http://www.w3.org/2000/svg\" xmlns:xlink=\"http://www.w3.org/1999/xlink\" width=\"100.0\" height=\"100.0\" viewBox=\"0.64 -0.36 2.7199999999999998 9.719999999999999\" preserveAspectRatio=\"xMinYMin meet\"><g transform=\"matrix(1,0,0,-1,0,9.0)\"><path fill-rule=\"evenodd\" fill=\"#66cc99\" stroke=\"#555555\" stroke-width=\"0.1944\" opacity=\"0.6\" d=\"M 1.0,6.0 L 2.0,0.0 L 3.0,9.0 L 1.0,6.0 z\" /></g></svg>"
      ],
      "text/plain": [
       "<POLYGON ((1 6, 2 0, 3 9, 1 6))>"
      ]
     },
     "execution_count": 98,
     "metadata": {},
     "output_type": "execute_result"
    }
   ],
   "source": [
    "linear_ring_2 = Polygon([point, point_2, point_3, point])\n",
    "linear_ring_2"
   ]
  },
  {
   "cell_type": "code",
   "execution_count": 101,
   "id": "de2ffe52-0fa0-45be-8d1e-414ccb04c574",
   "metadata": {
    "tags": []
   },
   "outputs": [
    {
     "data": {
      "text/plain": [
       "True"
      ]
     },
     "execution_count": 101,
     "metadata": {},
     "output_type": "execute_result"
    }
   ],
   "source": [
    "Polygon(shell=linear_ring) == linear_ring_2"
   ]
  },
  {
   "cell_type": "code",
   "execution_count": 110,
   "id": "f05b594a-040b-4e12-b498-7eb410fb50c7",
   "metadata": {
    "tags": []
   },
   "outputs": [
    {
     "data": {
      "image/svg+xml": [
       "<svg xmlns=\"http://www.w3.org/2000/svg\" xmlns:xlink=\"http://www.w3.org/1999/xlink\" width=\"100.0\" height=\"100.0\" viewBox=\"-0.2 -0.2 5.4 5.4\" preserveAspectRatio=\"xMinYMin meet\"><g transform=\"matrix(1,0,0,-1,0,5.0)\"><polyline fill=\"none\" stroke=\"#66cc99\" stroke-width=\"0.10800000000000001\" points=\"0.0,0.0 0.0,5.0 5.0,5.0 5.0,0.0 0.0,0.0\" opacity=\"0.8\" /></g></svg>"
      ],
      "text/plain": [
       "<LINEARRING (0 0, 0 5, 5 5, 5 0, 0 0)>"
      ]
     },
     "execution_count": 110,
     "metadata": {},
     "output_type": "execute_result"
    }
   ],
   "source": [
    "shell = LinearRing([Point(0, 0), Point(0, 5), Point(5, 5), Point(5, 0)])\n",
    "shell"
   ]
  },
  {
   "cell_type": "code",
   "execution_count": 130,
   "id": "716d0014-23e9-48f4-b4cc-95c0889ddd95",
   "metadata": {
    "tags": []
   },
   "outputs": [
    {
     "data": {
      "image/svg+xml": [
       "<svg xmlns=\"http://www.w3.org/2000/svg\" xmlns:xlink=\"http://www.w3.org/1999/xlink\" width=\"100.0\" height=\"100.0\" viewBox=\"0.92 0.92 2.16 2.16\" preserveAspectRatio=\"xMinYMin meet\"><g transform=\"matrix(1,0,0,-1,0,4.0)\"><polyline fill=\"none\" stroke=\"#66cc99\" stroke-width=\"0.0432\" points=\"1.0,2.0 2.0,2.0 2.7,3.0 3.0,1.0 1.0,2.0\" opacity=\"0.8\" /></g></svg>"
      ],
      "text/plain": [
       "<LINEARRING (1 2, 2 2, 2.7 3, 3 1, 1 2)>"
      ]
     },
     "execution_count": 130,
     "metadata": {},
     "output_type": "execute_result"
    }
   ],
   "source": [
    "hole_1 = LinearRing([Point(1, 2), Point(2, 2), Point(2.7, 3), Point(3, 1)])\n",
    "hole_1"
   ]
  },
  {
   "cell_type": "code",
   "execution_count": 152,
   "id": "940ac1a0-aeb0-4202-b57a-9fc5b1d3905e",
   "metadata": {
    "tags": []
   },
   "outputs": [
    {
     "data": {
      "image/svg+xml": [
       "<svg xmlns=\"http://www.w3.org/2000/svg\" xmlns:xlink=\"http://www.w3.org/1999/xlink\" width=\"100.0\" height=\"100.0\" viewBox=\"3.84 3.84 4.32 4.32\" preserveAspectRatio=\"xMinYMin meet\"><g transform=\"matrix(1,0,0,-1,0,12.0)\"><polyline fill=\"none\" stroke=\"#66cc99\" stroke-width=\"0.0864\" points=\"4.0,4.0 4.0,8.0 8.0,8.0 8.0,4.0 4.0,4.0\" opacity=\"0.8\" /></g></svg>"
      ],
      "text/plain": [
       "<LINEARRING (4 4, 4 8, 8 8, 8 4, 4 4)>"
      ]
     },
     "execution_count": 152,
     "metadata": {},
     "output_type": "execute_result"
    }
   ],
   "source": [
    "hole_2 = LinearRing([Point(4, 4), Point(4, 8), Point(8, 8), Point(8, 4)])\n",
    "hole_2"
   ]
  },
  {
   "cell_type": "code",
   "execution_count": 153,
   "id": "567e1df2-d3f8-4e1d-956c-df74e219f42a",
   "metadata": {
    "tags": []
   },
   "outputs": [
    {
     "data": {
      "image/svg+xml": [
       "<svg xmlns=\"http://www.w3.org/2000/svg\" xmlns:xlink=\"http://www.w3.org/1999/xlink\" width=\"100.0\" height=\"100.0\" viewBox=\"-0.2 -0.2 5.4 5.4\" preserveAspectRatio=\"xMinYMin meet\"><g transform=\"matrix(1,0,0,-1,0,5.0)\"><path fill-rule=\"evenodd\" fill=\"#ff3333\" stroke=\"#555555\" stroke-width=\"0.10800000000000001\" opacity=\"0.6\" d=\"M 0.0,0.0 L 0.0,5.0 L 5.0,5.0 L 5.0,0.0 L 0.0,0.0 z M 1.0,2.0 L 2.0,2.0 L 2.7,3.0 L 3.0,1.0 L 1.0,2.0 z M 4.0,4.0 L 4.0,8.0 L 8.0,8.0 L 8.0,4.0 L 4.0,4.0 z\" /></g></svg>"
      ],
      "text/plain": [
       "<POLYGON ((0 0, 0 5, 5 5, 5 0, 0 0), (1 2, 2 2, 2.7 3, 3 1, 1 2), (4 4, 4 8,...>"
      ]
     },
     "execution_count": 153,
     "metadata": {},
     "output_type": "execute_result"
    }
   ],
   "source": [
    "polygon = Polygon(shell=shell, holes=[hole_1, hole_2])\n",
    "polygon"
   ]
  },
  {
   "cell_type": "code",
   "execution_count": 203,
   "id": "7620b080-402e-4678-9f68-671f53bf8b14",
   "metadata": {
    "tags": []
   },
   "outputs": [
    {
     "data": {
      "text/plain": [
       "False"
      ]
     },
     "execution_count": 203,
     "metadata": {},
     "output_type": "execute_result"
    }
   ],
   "source": [
    "polygon.is_valid"
   ]
  },
  {
   "cell_type": "code",
   "execution_count": 158,
   "id": "5500795b-e085-4923-b0d6-57142bd288f4",
   "metadata": {
    "tags": []
   },
   "outputs": [
    {
     "data": {
      "image/svg+xml": [
       "<svg xmlns=\"http://www.w3.org/2000/svg\" xmlns:xlink=\"http://www.w3.org/1999/xlink\" width=\"100.0\" height=\"100.0\" viewBox=\"27.9372 -1.7828 4.125600000000002 3.9455999999999998\" preserveAspectRatio=\"xMinYMin meet\"><g transform=\"matrix(1,0,0,-1,0,0.3799999999999999)\"><path fill-rule=\"evenodd\" fill=\"#66cc99\" stroke=\"#555555\" stroke-width=\"0.08251200000000004\" opacity=\"0.6\" d=\"M 30.0,2.01 L 31.91,0.62 L 31.18,-1.63 L 28.82,-1.63 L 28.09,0.62 L 30.0,2.01 z\" /></g></svg>"
      ],
      "text/plain": [
       "<POLYGON ((30 2.01, 31.91 0.62, 31.18 -1.63, 28.82 -1.63, 28.09 0.62, 30 2.01))>"
      ]
     },
     "execution_count": 158,
     "metadata": {},
     "output_type": "execute_result"
    }
   ],
   "source": [
    "Polygon([Point(30, 2.01), Point(31.91, 0.62), Point(31.18, -1.63), Point(28.82, -1.63), Point(28.09, 0.62)])"
   ]
  },
  {
   "cell_type": "code",
   "execution_count": 167,
   "id": "10aa3b03-eb0e-44d7-a076-ae7a453ab738",
   "metadata": {
    "tags": []
   },
   "outputs": [
    {
     "data": {
      "image/svg+xml": [
       "<svg xmlns=\"http://www.w3.org/2000/svg\" xmlns:xlink=\"http://www.w3.org/1999/xlink\" width=\"100.0\" height=\"100.0\" viewBox=\"-0.24 -0.24 6.48 6.48\" preserveAspectRatio=\"xMinYMin meet\"><g transform=\"matrix(1,0,0,-1,0,6.0)\"><path fill-rule=\"evenodd\" fill=\"#66cc99\" stroke=\"#555555\" stroke-width=\"0.12960000000000002\" opacity=\"0.6\" d=\"M 0.0,0.0 L 3.0,6.0 L 6.0,0.0 L 0.0,0.0 z\" /></g></svg>"
      ],
      "text/plain": [
       "<POLYGON ((0 0, 3 6, 6 0, 0 0))>"
      ]
     },
     "execution_count": 167,
     "metadata": {},
     "output_type": "execute_result"
    }
   ],
   "source": [
    "Polygon([Point(0, 0), Point(3, 6), Point(6, 0)])"
   ]
  },
  {
   "cell_type": "code",
   "execution_count": 170,
   "id": "edc429a8-8762-4c34-8a66-59f33c629b16",
   "metadata": {
    "tags": []
   },
   "outputs": [
    {
     "data": {
      "image/svg+xml": [
       "<svg xmlns=\"http://www.w3.org/2000/svg\" xmlns:xlink=\"http://www.w3.org/1999/xlink\" width=\"100.0\" height=\"100.0\" viewBox=\"-3.4 -3.4 10.8 10.8\" preserveAspectRatio=\"xMinYMin meet\"><g transform=\"matrix(1,0,0,-1,0,4.0)\"><path fill-rule=\"evenodd\" fill=\"#66cc99\" stroke=\"#555555\" stroke-width=\"0.21600000000000003\" opacity=\"0.6\" d=\"M 7.0,2.0 L 6.975923633360985,1.509914298352197 L 6.903926402016152,1.0245483899193588 L 6.784701678661044,0.5485766137276884 L 6.619397662556434,0.08658283817455104 L 6.409606321741776,-0.35698368412998827 L 6.157348061512726,-0.7778511650980109 L 5.865052266813684,-1.1719664208182277 L 5.535533905932738,-1.5355339059327373 L 5.171966420818228,-1.8650522668136849 L 4.777851165098012,-2.1573480615127263 L 4.35698368412999,-2.4096063217417747 L 3.913417161825449,-2.619397662556434 L 3.4514233862723116,-2.784701678661045 L 2.9754516100806416,-2.903926402016152 L 2.490085701647804,-2.975923633360984 L 2.0000000000000004,-3.0 L 1.5099142983521967,-2.975923633360985 L 1.024548389919359,-2.903926402016152 L 0.5485766137276893,-2.784701678661045 L 0.08658283817455148,-2.619397662556434 L -0.3569836841299887,-2.4096063217417756 L -0.77785116509801,-2.157348061512727 L -1.1719664208182268,-1.8650522668136853 L -1.5355339059327373,-1.5355339059327378 L -1.8650522668136849,-1.1719664208182277 L -2.1573480615127263,-0.7778511650980109 L -2.4096063217417747,-0.35698368412998915 L -2.619397662556434,0.08658283817455059 L -2.784701678661044,0.548576613727688 L -2.903926402016152,1.024548389919357 L -2.975923633360984,1.5099142983521958 L -3.0,1.9999999999999993 L -2.975923633360985,2.490085701647803 L -2.903926402016152,2.9754516100806416 L -2.784701678661045,3.4514233862723103 L -2.619397662556434,3.913417161825448 L -2.4096063217417756,4.356983684129988 L -2.157348061512727,4.77785116509801 L -1.8650522668136853,5.171966420818226 L -1.5355339059327386,5.535533905932738 L -1.1719664208182294,5.8650522668136835 L -0.7778511650980109,6.157348061512726 L -0.35698368412998915,6.409606321741775 L 0.08658283817454837,6.619397662556432 L 0.5485766137276877,6.784701678661044 L 1.0245483899193566,6.903926402016151 L 1.5099142983521978,6.975923633360985 L 1.9999999999999991,7.0 L 2.4900857016478004,6.975923633360985 L 2.9754516100806416,6.903926402016152 L 3.4514233862723103,6.784701678661045 L 3.91341716182545,6.619397662556433 L 4.356983684129988,6.409606321741776 L 4.777851165098009,6.157348061512727 L 5.171966420818228,5.865052266813684 L 5.535533905932737,5.535533905932739 L 5.8650522668136835,5.171966420818229 L 6.157348061512726,4.777851165098011 L 6.409606321741774,4.35698368412999 L 6.619397662556432,3.913417161825452 L 6.784701678661044,3.4514233862723125 L 6.903926402016151,2.9754516100806434 L 6.975923633360985,2.4900857016478026 L 7.0,2.0 z\" /></g></svg>"
      ],
      "text/plain": [
       "<POLYGON ((7 2, 6.976 1.51, 6.904 1.025, 6.785 0.549, 6.619 0.087, 6.41 -0.3...>"
      ]
     },
     "execution_count": 170,
     "metadata": {},
     "output_type": "execute_result"
    }
   ],
   "source": [
    "Point(2, 2).buffer(5)"
   ]
  },
  {
   "cell_type": "markdown",
   "id": "4e25e8a0-a999-4669-a525-97a961d8ea89",
   "metadata": {},
   "source": [
    "### Geometries"
   ]
  },
  {
   "cell_type": "code",
   "execution_count": 175,
   "id": "be75ef75-0e81-47fc-804c-beaf16c93596",
   "metadata": {
    "tags": []
   },
   "outputs": [
    {
     "data": {
      "image/svg+xml": [
       "<svg xmlns=\"http://www.w3.org/2000/svg\" xmlns:xlink=\"http://www.w3.org/1999/xlink\" width=\"100.0\" height=\"100.0\" viewBox=\"-0.8 -0.8 21.6 11.600000000000001\" preserveAspectRatio=\"xMinYMin meet\"><g transform=\"matrix(1,0,0,-1,0,10.0)\"><g><circle cx=\"0.0\" cy=\"0.0\" r=\"0.6480000000000001\" stroke=\"#555555\" stroke-width=\"0.21600000000000003\" fill=\"#66cc99\" opacity=\"0.6\" /><circle cx=\"10.0\" cy=\"10.0\" r=\"0.6480000000000001\" stroke=\"#555555\" stroke-width=\"0.21600000000000003\" fill=\"#66cc99\" opacity=\"0.6\" /><circle cx=\"20.0\" cy=\"0.0\" r=\"0.6480000000000001\" stroke=\"#555555\" stroke-width=\"0.21600000000000003\" fill=\"#66cc99\" opacity=\"0.6\" /></g></g></svg>"
      ],
      "text/plain": [
       "<MULTIPOINT (0 0, 10 10, 20 0)>"
      ]
     },
     "execution_count": 175,
     "metadata": {},
     "output_type": "execute_result"
    }
   ],
   "source": [
    "multipoint = MultiPoint([Point(0, 0), Point(10, 10), Point(20, 0)])\n",
    "multipoint"
   ]
  },
  {
   "cell_type": "code",
   "execution_count": 182,
   "id": "7f4fba87-7a33-4518-9fdf-afe32883cac4",
   "metadata": {
    "tags": []
   },
   "outputs": [
    {
     "data": {
      "image/svg+xml": [
       "<svg xmlns=\"http://www.w3.org/2000/svg\" xmlns:xlink=\"http://www.w3.org/1999/xlink\" width=\"100.0\" height=\"100.0\" viewBox=\"-0.4 -0.4 10.8 10.8\" preserveAspectRatio=\"xMinYMin meet\"><g transform=\"matrix(1,0,0,-1,0,10.0)\"><g><polyline fill=\"none\" stroke=\"#66cc99\" stroke-width=\"0.21600000000000003\" points=\"0.0,0.0 10.0,10.0\" opacity=\"0.8\" /><polyline fill=\"none\" stroke=\"#66cc99\" stroke-width=\"0.21600000000000003\" points=\"0.0,10.0 10.0,0.0\" opacity=\"0.8\" /><polyline fill=\"none\" stroke=\"#66cc99\" stroke-width=\"0.21600000000000003\" points=\"5.0,0.0 5.0,10.0\" opacity=\"0.8\" /></g></g></svg>"
      ],
      "text/plain": [
       "<MULTILINESTRING ((0 0, 10 10), (0 10, 10 0), (5 0, 5 10))>"
      ]
     },
     "execution_count": 182,
     "metadata": {},
     "output_type": "execute_result"
    }
   ],
   "source": [
    "multiline = MultiLineString([\n",
    "    LineString([Point(0, 0), Point(10, 10)]),\n",
    "    LineString([Point(0, 10), Point(10, 0)]),\n",
    "    LineString([Point(5, 0), Point(5, 10)]),    \n",
    "])\n",
    "multiline"
   ]
  },
  {
   "cell_type": "code",
   "execution_count": 184,
   "id": "1c2746bf-14e3-42ec-9b8d-06751f01bd31",
   "metadata": {
    "tags": []
   },
   "outputs": [
    {
     "data": {
      "image/svg+xml": [
       "<svg xmlns=\"http://www.w3.org/2000/svg\" xmlns:xlink=\"http://www.w3.org/1999/xlink\" width=\"100.0\" height=\"100.0\" viewBox=\"-0.4 -0.4 10.8 10.8\" preserveAspectRatio=\"xMinYMin meet\"><g transform=\"matrix(1,0,0,-1,0,10.0)\"><path fill-rule=\"evenodd\" fill=\"#66cc99\" stroke=\"#555555\" stroke-width=\"0.21600000000000003\" opacity=\"0.6\" d=\"M 10.0,0.0 L 10.0,10.0 L 0.0,10.0 L 0.0,0.0 L 10.0,0.0 z\" /></g></svg>"
      ],
      "text/plain": [
       "<POLYGON ((10 0, 10 10, 0 10, 0 0, 10 0))>"
      ]
     },
     "execution_count": 184,
     "metadata": {},
     "output_type": "execute_result"
    }
   ],
   "source": [
    "box_1 = box(0, 0, 10, 10)\n",
    "box_1"
   ]
  },
  {
   "cell_type": "code",
   "execution_count": 185,
   "id": "d3c212b8-b445-420d-bff0-353499ee3015",
   "metadata": {
    "tags": []
   },
   "outputs": [
    {
     "data": {
      "image/svg+xml": [
       "<svg xmlns=\"http://www.w3.org/2000/svg\" xmlns:xlink=\"http://www.w3.org/1999/xlink\" width=\"100.0\" height=\"100.0\" viewBox=\"18.4 -1.6 23.200000000000003 43.2\" preserveAspectRatio=\"xMinYMin meet\"><g transform=\"matrix(1,0,0,-1,0,40.0)\"><path fill-rule=\"evenodd\" fill=\"#66cc99\" stroke=\"#555555\" stroke-width=\"0.8640000000000001\" opacity=\"0.6\" d=\"M 40.0,0.0 L 40.0,40.0 L 20.0,40.0 L 20.0,0.0 L 40.0,0.0 z\" /></g></svg>"
      ],
      "text/plain": [
       "<POLYGON ((40 0, 40 40, 20 40, 20 0, 40 0))>"
      ]
     },
     "execution_count": 185,
     "metadata": {},
     "output_type": "execute_result"
    }
   ],
   "source": [
    "box_2 = box(20, 0, 40, 40)\n",
    "box_2"
   ]
  },
  {
   "cell_type": "code",
   "execution_count": 187,
   "id": "48d74860-adfd-48df-86b5-ae35432fa054",
   "metadata": {
    "tags": []
   },
   "outputs": [
    {
     "data": {
      "image/svg+xml": [
       "<svg xmlns=\"http://www.w3.org/2000/svg\" xmlns:xlink=\"http://www.w3.org/1999/xlink\" width=\"100.0\" height=\"100.0\" viewBox=\"-1.6 -1.6 43.2 43.2\" preserveAspectRatio=\"xMinYMin meet\"><g transform=\"matrix(1,0,0,-1,0,40.0)\"><g><path fill-rule=\"evenodd\" fill=\"#66cc99\" stroke=\"#555555\" stroke-width=\"0.8640000000000001\" opacity=\"0.6\" d=\"M 10.0,0.0 L 10.0,10.0 L 0.0,10.0 L 0.0,0.0 L 10.0,0.0 z\" /><path fill-rule=\"evenodd\" fill=\"#66cc99\" stroke=\"#555555\" stroke-width=\"0.8640000000000001\" opacity=\"0.6\" d=\"M 40.0,0.0 L 40.0,40.0 L 20.0,40.0 L 20.0,0.0 L 40.0,0.0 z\" /></g></g></svg>"
      ],
      "text/plain": [
       "<MULTIPOLYGON (((10 0, 10 10, 0 10, 0 0, 10 0)), ((40 0, 40 40, 20 40, 20 0,...>"
      ]
     },
     "execution_count": 187,
     "metadata": {},
     "output_type": "execute_result"
    }
   ],
   "source": [
    "multipolygon = MultiPolygon([box_1, box_2])\n",
    "multipolygon"
   ]
  },
  {
   "cell_type": "code",
   "execution_count": 189,
   "id": "9ac443c0-5db6-4711-be05-1c9952c6fc62",
   "metadata": {
    "tags": []
   },
   "outputs": [
    {
     "data": {
      "text/plain": [
       "True"
      ]
     },
     "execution_count": 189,
     "metadata": {},
     "output_type": "execute_result"
    }
   ],
   "source": [
    "box_1.area + box_2.area == multipolygon.area"
   ]
  },
  {
   "cell_type": "code",
   "execution_count": 195,
   "id": "c9d146a0-c839-40c1-af78-693b3fc3f15f",
   "metadata": {
    "tags": []
   },
   "outputs": [
    {
     "data": {
      "image/svg+xml": [
       "<svg xmlns=\"http://www.w3.org/2000/svg\" xmlns:xlink=\"http://www.w3.org/1999/xlink\" width=\"100.0\" height=\"100.0\" viewBox=\"-1.6 -1.6 43.2 43.2\" preserveAspectRatio=\"xMinYMin meet\"><g transform=\"matrix(1,0,0,-1,0,40.0)\"><path fill-rule=\"evenodd\" fill=\"#66cc99\" stroke=\"#555555\" stroke-width=\"0.8640000000000001\" opacity=\"0.6\" d=\"M 0.0,0.0 L 0.0,10.0 L 20.0,40.0 L 40.0,40.0 L 40.0,0.0 L 0.0,0.0 z\" /></g></svg>"
      ],
      "text/plain": [
       "<POLYGON ((0 0, 0 10, 20 40, 40 40, 40 0, 0 0))>"
      ]
     },
     "execution_count": 195,
     "metadata": {},
     "output_type": "execute_result"
    }
   ],
   "source": [
    "multipolygon.convex_hull"
   ]
  },
  {
   "cell_type": "code",
   "execution_count": 200,
   "id": "ff8b9beb-fb9e-488e-902a-6a6c4bc56605",
   "metadata": {
    "tags": []
   },
   "outputs": [
    {
     "data": {
      "image/svg+xml": [
       "<svg xmlns=\"http://www.w3.org/2000/svg\" xmlns:xlink=\"http://www.w3.org/1999/xlink\" width=\"100.0\" height=\"100.0\" viewBox=\"-1.24 -2.24 6.48 4.48\" preserveAspectRatio=\"xMinYMin meet\"><g transform=\"matrix(1,0,0,-1,0,0.0)\"><g><path fill-rule=\"evenodd\" fill=\"#ff3333\" stroke=\"#555555\" stroke-width=\"0.12960000000000002\" opacity=\"0.6\" d=\"M 1.0,0.0 L 0.9951847266721969,-0.0980171403295606 L 0.9807852804032304,-0.19509032201612825 L 0.9569403357322088,-0.29028467725446233 L 0.9238795325112867,-0.3826834323650898 L 0.881921264348355,-0.47139673682599764 L 0.8314696123025452,-0.5555702330196022 L 0.773010453362737,-0.6343932841636455 L 0.7071067811865476,-0.7071067811865475 L 0.6343932841636455,-0.773010453362737 L 0.5555702330196023,-0.8314696123025452 L 0.4713967368259978,-0.8819212643483549 L 0.38268343236508984,-0.9238795325112867 L 0.29028467725446233,-0.9569403357322089 L 0.19509032201612833,-0.9807852804032304 L 0.09801714032956077,-0.9951847266721968 L 6.123233995736766e-17,-1.0 L -0.09801714032956065,-0.9951847266721969 L -0.1950903220161282,-0.9807852804032304 L -0.29028467725446216,-0.9569403357322089 L -0.3826834323650897,-0.9238795325112867 L -0.4713967368259977,-0.881921264348355 L -0.555570233019602,-0.8314696123025455 L -0.6343932841636454,-0.7730104533627371 L -0.7071067811865475,-0.7071067811865476 L -0.773010453362737,-0.6343932841636455 L -0.8314696123025453,-0.5555702330196022 L -0.8819212643483549,-0.47139673682599786 L -0.9238795325112867,-0.3826834323650899 L -0.9569403357322088,-0.2902846772544624 L -0.9807852804032304,-0.1950903220161286 L -0.9951847266721968,-0.09801714032956083 L -1.0,-1.2246467991473532e-16 L -0.9951847266721969,0.09801714032956059 L -0.9807852804032304,0.19509032201612836 L -0.9569403357322089,0.2902846772544621 L -0.9238795325112868,0.38268343236508967 L -0.881921264348355,0.47139673682599764 L -0.8314696123025455,0.555570233019602 L -0.7730104533627371,0.6343932841636453 L -0.7071067811865477,0.7071067811865475 L -0.6343932841636459,0.7730104533627367 L -0.5555702330196022,0.8314696123025452 L -0.47139673682599786,0.8819212643483549 L -0.38268343236509034,0.9238795325112865 L -0.29028467725446244,0.9569403357322088 L -0.19509032201612866,0.9807852804032303 L -0.09801714032956045,0.9951847266721969 L -1.8369701987210297e-16,1.0 L 0.09801714032956009,0.9951847266721969 L 0.1950903220161283,0.9807852804032304 L 0.29028467725446205,0.9569403357322089 L 0.38268343236509,0.9238795325112866 L 0.4713967368259976,0.881921264348355 L 0.5555702330196018,0.8314696123025455 L 0.6343932841636456,0.7730104533627369 L 0.7071067811865474,0.7071067811865477 L 0.7730104533627367,0.6343932841636459 L 0.8314696123025452,0.5555702330196022 L 0.8819212643483548,0.4713967368259979 L 0.9238795325112865,0.3826834323650904 L 0.9569403357322088,0.2902846772544625 L 0.9807852804032303,0.19509032201612872 L 0.9951847266721969,0.0980171403295605 L 1.0,0.0 z\" /><path fill-rule=\"evenodd\" fill=\"#ff3333\" stroke=\"#555555\" stroke-width=\"0.12960000000000002\" opacity=\"0.6\" d=\"M 4.0,0.0 L 3.990369453344394,-0.1960342806591212 L 3.961570560806461,-0.3901806440322565 L 3.9138806714644176,-0.5805693545089247 L 3.8477590650225735,-0.7653668647301796 L 3.76384252869671,-0.9427934736519953 L 3.6629392246050907,-1.1111404660392044 L 3.5460209067254738,-1.268786568327291 L 3.414213562373095,-1.414213562373095 L 3.268786568327291,-1.546020906725474 L 3.1111404660392044,-1.6629392246050905 L 2.942793473651996,-1.7638425286967099 L 2.7653668647301797,-1.8477590650225735 L 2.5805693545089246,-1.9138806714644179 L 2.390180644032257,-1.9615705608064609 L 2.1960342806591218,-1.9903694533443936 L 2.0,-2.0 L 1.8039657193408787,-1.9903694533443939 L 1.6098193559677436,-1.9615705608064609 L 1.4194306454910757,-1.9138806714644179 L 1.2346331352698205,-1.8477590650225735 L 1.0572065263480046,-1.76384252869671 L 0.8888595339607961,-1.662939224605091 L 0.7312134316727092,-1.5460209067254742 L 0.5857864376269051,-1.4142135623730951 L 0.453979093274526,-1.268786568327291 L 0.3370607753949093,-1.1111404660392044 L 0.23615747130329012,-0.9427934736519957 L 0.15224093497742652,-0.7653668647301798 L 0.08611932853558235,-0.5805693545089248 L 0.03842943919353914,-0.3901806440322572 L 0.009630546655606365,-0.19603428065912165 L 0.0,-2.4492935982947064e-16 L 0.009630546655606143,0.19603428065912118 L 0.03842943919353914,0.3901806440322567 L 0.08611932853558213,0.5805693545089242 L 0.1522409349774263,0.7653668647301793 L 0.2361574713032899,0.9427934736519953 L 0.3370607753949091,1.111140466039204 L 0.4539790932745258,1.2687865683272905 L 0.5857864376269046,1.414213562373095 L 0.7312134316727081,1.5460209067254733 L 0.8888595339607956,1.6629392246050905 L 1.0572065263480042,1.7638425286967099 L 1.2346331352698194,1.847759065022573 L 1.419430645491075,1.9138806714644176 L 1.6098193559677427,1.9615705608064606 L 1.8039657193408791,1.9903694533443939 L 1.9999999999999996,2.0 L 2.19603428065912,1.9903694533443939 L 2.390180644032257,1.9615705608064609 L 2.580569354508924,1.9138806714644179 L 2.76536686473018,1.8477590650225733 L 2.942793473651995,1.76384252869671 L 3.1111404660392035,1.662939224605091 L 3.2687865683272914,1.5460209067254738 L 3.414213562373095,1.4142135623730954 L 3.5460209067254733,1.2687865683272919 L 3.6629392246050907,1.1111404660392044 L 3.76384252869671,0.9427934736519958 L 3.847759065022573,0.7653668647301808 L 3.9138806714644176,0.580569354508925 L 3.961570560806461,0.39018064403225744 L 3.990369453344394,0.196034280659121 L 4.0,0.0 z\" /><path fill-rule=\"evenodd\" fill=\"#ff3333\" stroke=\"#555555\" stroke-width=\"0.12960000000000002\" opacity=\"0.6\" d=\"M 5.0,0.0 L 4.995184726672197,-0.0980171403295606 L 4.98078528040323,-0.19509032201612825 L 4.956940335732209,-0.29028467725446233 L 4.923879532511287,-0.3826834323650898 L 4.881921264348355,-0.47139673682599764 L 4.831469612302545,-0.5555702330196022 L 4.773010453362737,-0.6343932841636455 L 4.707106781186548,-0.7071067811865475 L 4.634393284163646,-0.773010453362737 L 4.555570233019602,-0.8314696123025452 L 4.471396736825998,-0.8819212643483549 L 4.38268343236509,-0.9238795325112867 L 4.290284677254462,-0.9569403357322089 L 4.195090322016128,-0.9807852804032304 L 4.098017140329561,-0.9951847266721968 L 4.0,-1.0 L 3.9019828596704396,-0.9951847266721969 L 3.804909677983872,-0.9807852804032304 L 3.709715322745538,-0.9569403357322089 L 3.6173165676349104,-0.9238795325112867 L 3.528603263174002,-0.881921264348355 L 3.444429766980398,-0.8314696123025455 L 3.3656067158363547,-0.7730104533627371 L 3.2928932188134525,-0.7071067811865476 L 3.226989546637263,-0.6343932841636455 L 3.1685303876974547,-0.5555702330196022 L 3.118078735651645,-0.47139673682599786 L 3.076120467488713,-0.3826834323650899 L 3.0430596642677914,-0.2902846772544624 L 3.0192147195967696,-0.1950903220161286 L 3.0048152733278033,-0.09801714032956083 L 3.0,-1.2246467991473532e-16 L 3.004815273327803,0.09801714032956059 L 3.0192147195967696,0.19509032201612836 L 3.043059664267791,0.2902846772544621 L 3.076120467488713,0.38268343236508967 L 3.118078735651645,0.47139673682599764 L 3.1685303876974547,0.555570233019602 L 3.226989546637263,0.6343932841636453 L 3.292893218813452,0.7071067811865475 L 3.3656067158363543,0.7730104533627367 L 3.444429766980398,0.8314696123025452 L 3.528603263174002,0.8819212643483549 L 3.6173165676349095,0.9238795325112865 L 3.7097153227455375,0.9569403357322088 L 3.804909677983871,0.9807852804032303 L 3.9019828596704396,0.9951847266721969 L 4.0,1.0 L 4.09801714032956,0.9951847266721969 L 4.195090322016128,0.9807852804032304 L 4.290284677254462,0.9569403357322089 L 4.38268343236509,0.9238795325112866 L 4.471396736825998,0.881921264348355 L 4.555570233019602,0.8314696123025455 L 4.634393284163646,0.7730104533627369 L 4.707106781186547,0.7071067811865477 L 4.773010453362737,0.6343932841636459 L 4.831469612302545,0.5555702330196022 L 4.881921264348355,0.4713967368259979 L 4.923879532511286,0.3826834323650904 L 4.956940335732209,0.2902846772544625 L 4.98078528040323,0.19509032201612872 L 4.995184726672197,0.0980171403295605 L 5.0,0.0 z\" /></g></g></svg>"
      ],
      "text/plain": [
       "<MULTIPOLYGON (((1 0, 0.995 -0.098, 0.981 -0.195, 0.957 -0.29, 0.924 -0.383,...>"
      ]
     },
     "execution_count": 200,
     "metadata": {},
     "output_type": "execute_result"
    }
   ],
   "source": [
    "multipolygon_2 = MultiPolygon([Point(0, 0).buffer(1), Point(2, 0).buffer(2), Point(4, 0).buffer(1)])\n",
    "multipolygon_2"
   ]
  },
  {
   "cell_type": "code",
   "execution_count": 201,
   "id": "61707f74-e296-4a10-aa66-e996799a02b3",
   "metadata": {
    "tags": []
   },
   "outputs": [
    {
     "data": {
      "image/svg+xml": [
       "<svg xmlns=\"http://www.w3.org/2000/svg\" xmlns:xlink=\"http://www.w3.org/1999/xlink\" width=\"100.0\" height=\"100.0\" viewBox=\"-1.24 -2.24 6.48 4.48\" preserveAspectRatio=\"xMinYMin meet\"><g transform=\"matrix(1,0,0,-1,0,0.0)\"><path fill-rule=\"evenodd\" fill=\"#66cc99\" stroke=\"#555555\" stroke-width=\"0.12960000000000002\" opacity=\"0.6\" d=\"M 2.0,-2.0 L 1.8039657193408787,-1.9903694533443939 L 1.6098193559677436,-1.9615705608064609 L 1.4194306454910757,-1.9138806714644179 L 1.2346331352698205,-1.8477590650225735 L 1.0572065263480046,-1.76384252869671 L -0.4713967368259977,-0.881921264348355 L -0.555570233019602,-0.8314696123025455 L -0.6343932841636454,-0.7730104533627371 L -0.7071067811865475,-0.7071067811865476 L -0.773010453362737,-0.6343932841636455 L -0.8314696123025453,-0.5555702330196022 L -0.8819212643483549,-0.47139673682599786 L -0.9238795325112867,-0.3826834323650899 L -0.9569403357322088,-0.2902846772544624 L -0.9807852804032304,-0.1950903220161286 L -0.9951847266721968,-0.09801714032956083 L -1.0,-1.2246467991473532e-16 L -0.9951847266721969,0.09801714032956059 L -0.9807852804032304,0.19509032201612836 L -0.9569403357322089,0.2902846772544621 L -0.9238795325112868,0.38268343236508967 L -0.881921264348355,0.47139673682599764 L -0.8314696123025455,0.555570233019602 L -0.7730104533627371,0.6343932841636453 L -0.7071067811865477,0.7071067811865475 L -0.6343932841636459,0.7730104533627367 L -0.5555702330196022,0.8314696123025452 L -0.47139673682599786,0.8819212643483549 L 1.0572065263480042,1.7638425286967099 L 1.2346331352698194,1.847759065022573 L 1.419430645491075,1.9138806714644176 L 1.6098193559677427,1.9615705608064606 L 1.8039657193408791,1.9903694533443939 L 1.9999999999999996,2.0 L 2.19603428065912,1.9903694533443939 L 2.390180644032257,1.9615705608064609 L 2.580569354508924,1.9138806714644179 L 2.76536686473018,1.8477590650225733 L 2.942793473651995,1.76384252869671 L 4.471396736825998,0.881921264348355 L 4.555570233019602,0.8314696123025455 L 4.634393284163646,0.7730104533627369 L 4.707106781186547,0.7071067811865477 L 4.773010453362737,0.6343932841636459 L 4.831469612302545,0.5555702330196022 L 4.881921264348355,0.4713967368259979 L 4.923879532511286,0.3826834323650904 L 4.956940335732209,0.2902846772544625 L 4.98078528040323,0.19509032201612872 L 4.995184726672197,0.0980171403295605 L 5.0,0.0 L 4.995184726672197,-0.0980171403295606 L 4.98078528040323,-0.19509032201612825 L 4.956940335732209,-0.29028467725446233 L 4.923879532511287,-0.3826834323650898 L 4.881921264348355,-0.47139673682599764 L 4.831469612302545,-0.5555702330196022 L 4.773010453362737,-0.6343932841636455 L 4.707106781186548,-0.7071067811865475 L 4.634393284163646,-0.773010453362737 L 4.555570233019602,-0.8314696123025452 L 4.471396736825998,-0.8819212643483549 L 2.942793473651996,-1.7638425286967099 L 2.7653668647301797,-1.8477590650225735 L 2.5805693545089246,-1.9138806714644179 L 2.390180644032257,-1.9615705608064609 L 2.1960342806591218,-1.9903694533443936 L 2.0,-2.0 z\" /></g></svg>"
      ],
      "text/plain": [
       "<POLYGON ((2 -2, 1.804 -1.99, 1.61 -1.962, 1.419 -1.914, 1.235 -1.848, 1.057...>"
      ]
     },
     "execution_count": 201,
     "metadata": {},
     "output_type": "execute_result"
    }
   ],
   "source": [
    "multipolygon_2.convex_hull"
   ]
  },
  {
   "cell_type": "code",
   "execution_count": null,
   "id": "5f37bf0e-fce3-4bec-b650-d0fc5e2e2e68",
   "metadata": {},
   "outputs": [],
   "source": []
  }
 ],
 "metadata": {
  "kernelspec": {
   "display_name": "Python 3 (ipykernel)",
   "language": "python",
   "name": "python3"
  },
  "language_info": {
   "codemirror_mode": {
    "name": "ipython",
    "version": 3
   },
   "file_extension": ".py",
   "mimetype": "text/x-python",
   "name": "python",
   "nbconvert_exporter": "python",
   "pygments_lexer": "ipython3",
   "version": "3.10.9"
  }
 },
 "nbformat": 4,
 "nbformat_minor": 5
}
