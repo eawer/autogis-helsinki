{
 "cells": [
  {
   "cell_type": "code",
   "execution_count": 1,
   "id": "0fc7c2b2-b688-4893-830d-0c0216656947",
   "metadata": {
    "tags": []
   },
   "outputs": [],
   "source": [
    "import os\n",
    "os.environ['USE_PYGEOS'] = '0'\n",
    "import geopandas as gpd\n",
    "\n",
    "import pathlib\n",
    "import numpy as np\n",
    "import pandas as pd\n",
    "from shapely import Point, Polygon, LineString, MultiLineString"
   ]
  },
  {
   "cell_type": "code",
   "execution_count": 2,
   "id": "ea1b724e-5ec8-44f2-b5a6-c60fb5be10ae",
   "metadata": {
    "tags": []
   },
   "outputs": [],
   "source": [
    "NOTEBOOK_PATH = pathlib.Path().resolve()\n",
    "DATA_DIRECTORY = NOTEBOOK_PATH / \"data\""
   ]
  },
  {
   "cell_type": "code",
   "execution_count": 3,
   "id": "516a0587-934e-4ac8-b4b4-e37c836af010",
   "metadata": {
    "tags": []
   },
   "outputs": [
    {
     "data": {
      "text/html": [
       "<div>\n",
       "<style scoped>\n",
       "    .dataframe tbody tr th:only-of-type {\n",
       "        vertical-align: middle;\n",
       "    }\n",
       "\n",
       "    .dataframe tbody tr th {\n",
       "        vertical-align: top;\n",
       "    }\n",
       "\n",
       "    .dataframe thead th {\n",
       "        text-align: right;\n",
       "    }\n",
       "</style>\n",
       "<table border=\"1\" class=\"dataframe\">\n",
       "  <thead>\n",
       "    <tr style=\"text-align: right;\">\n",
       "      <th></th>\n",
       "      <th>id</th>\n",
       "      <th>addr</th>\n",
       "    </tr>\n",
       "  </thead>\n",
       "  <tbody>\n",
       "    <tr>\n",
       "      <th>0</th>\n",
       "      <td>1000</td>\n",
       "      <td>Itämerenkatu 14, 00101 Helsinki, Finland</td>\n",
       "    </tr>\n",
       "    <tr>\n",
       "      <th>1</th>\n",
       "      <td>1001</td>\n",
       "      <td>Kampinkuja 1, 00100 Helsinki, Finland</td>\n",
       "    </tr>\n",
       "    <tr>\n",
       "      <th>2</th>\n",
       "      <td>1002</td>\n",
       "      <td>Kaivokatu 8, 00101 Helsinki, Finland</td>\n",
       "    </tr>\n",
       "    <tr>\n",
       "      <th>3</th>\n",
       "      <td>1003</td>\n",
       "      <td>Hermannin rantatie 1, 00580 Helsinki, Finland</td>\n",
       "    </tr>\n",
       "    <tr>\n",
       "      <th>4</th>\n",
       "      <td>1005</td>\n",
       "      <td>Tyynenmerenkatu 9, 00220 Helsinki, Finland</td>\n",
       "    </tr>\n",
       "  </tbody>\n",
       "</table>\n",
       "</div>"
      ],
      "text/plain": [
       "     id                                           addr\n",
       "0  1000       Itämerenkatu 14, 00101 Helsinki, Finland\n",
       "1  1001          Kampinkuja 1, 00100 Helsinki, Finland\n",
       "2  1002           Kaivokatu 8, 00101 Helsinki, Finland\n",
       "3  1003  Hermannin rantatie 1, 00580 Helsinki, Finland\n",
       "4  1005     Tyynenmerenkatu 9, 00220 Helsinki, Finland"
      ]
     },
     "execution_count": 3,
     "metadata": {},
     "output_type": "execute_result"
    }
   ],
   "source": [
    "addresses = pd.read_csv(DATA_DIRECTORY / \"helsinki_addresses\" / \"addresses.txt\", sep=\";\")\n",
    "addresses.head()"
   ]
  },
  {
   "cell_type": "code",
   "execution_count": 4,
   "id": "1a2bfd09-dacc-4660-be29-6600a051f4d2",
   "metadata": {
    "tags": []
   },
   "outputs": [
    {
     "data": {
      "text/html": [
       "<div>\n",
       "<style scoped>\n",
       "    .dataframe tbody tr th:only-of-type {\n",
       "        vertical-align: middle;\n",
       "    }\n",
       "\n",
       "    .dataframe tbody tr th {\n",
       "        vertical-align: top;\n",
       "    }\n",
       "\n",
       "    .dataframe thead th {\n",
       "        text-align: right;\n",
       "    }\n",
       "</style>\n",
       "<table border=\"1\" class=\"dataframe\">\n",
       "  <thead>\n",
       "    <tr style=\"text-align: right;\">\n",
       "      <th></th>\n",
       "      <th>geometry</th>\n",
       "      <th>address</th>\n",
       "    </tr>\n",
       "  </thead>\n",
       "  <tbody>\n",
       "    <tr>\n",
       "      <th>0</th>\n",
       "      <td>POINT (24.91556 60.16320)</td>\n",
       "      <td>Ruoholahti, 14, Itämerenkatu, Ruoholahti, Läns...</td>\n",
       "    </tr>\n",
       "    <tr>\n",
       "      <th>1</th>\n",
       "      <td>POINT (24.93166 60.16905)</td>\n",
       "      <td>Kamppi, 1, Kampinkuja, Kamppi, Eteläinen suurp...</td>\n",
       "    </tr>\n",
       "    <tr>\n",
       "      <th>2</th>\n",
       "      <td>POINT (24.94168 60.16996)</td>\n",
       "      <td>Bangkok9, 8, Kaivokatu, Keskusta, Kluuvi, Etel...</td>\n",
       "    </tr>\n",
       "    <tr>\n",
       "      <th>3</th>\n",
       "      <td>POINT (24.97865 60.19005)</td>\n",
       "      <td>Hermannin rantatie, Verkkosaari, Kalasatama, S...</td>\n",
       "    </tr>\n",
       "    <tr>\n",
       "      <th>4</th>\n",
       "      <td>POINT (24.92151 60.15662)</td>\n",
       "      <td>9, Tyynenmerenkatu, Jätkäsaari, Länsisatama, E...</td>\n",
       "    </tr>\n",
       "  </tbody>\n",
       "</table>\n",
       "</div>"
      ],
      "text/plain": [
       "                    geometry  \\\n",
       "0  POINT (24.91556 60.16320)   \n",
       "1  POINT (24.93166 60.16905)   \n",
       "2  POINT (24.94168 60.16996)   \n",
       "3  POINT (24.97865 60.19005)   \n",
       "4  POINT (24.92151 60.15662)   \n",
       "\n",
       "                                             address  \n",
       "0  Ruoholahti, 14, Itämerenkatu, Ruoholahti, Läns...  \n",
       "1  Kamppi, 1, Kampinkuja, Kamppi, Eteläinen suurp...  \n",
       "2  Bangkok9, 8, Kaivokatu, Keskusta, Kluuvi, Etel...  \n",
       "3  Hermannin rantatie, Verkkosaari, Kalasatama, S...  \n",
       "4  9, Tyynenmerenkatu, Jätkäsaari, Länsisatama, E...  "
      ]
     },
     "execution_count": 4,
     "metadata": {},
     "output_type": "execute_result"
    }
   ],
   "source": [
    "geocoded_addresses = gpd.tools.geocode(addresses[\"addr\"], provider=\"nominatim\", user_agent=\"autogis2022\", timeout=10)\n",
    "geocoded_addresses.head()"
   ]
  },
  {
   "cell_type": "code",
   "execution_count": 5,
   "id": "2553f302-b405-4a2c-adcf-753e460d754a",
   "metadata": {
    "tags": []
   },
   "outputs": [
    {
     "data": {
      "text/html": [
       "<div>\n",
       "<style scoped>\n",
       "    .dataframe tbody tr th:only-of-type {\n",
       "        vertical-align: middle;\n",
       "    }\n",
       "\n",
       "    .dataframe tbody tr th {\n",
       "        vertical-align: top;\n",
       "    }\n",
       "\n",
       "    .dataframe thead th {\n",
       "        text-align: right;\n",
       "    }\n",
       "</style>\n",
       "<table border=\"1\" class=\"dataframe\">\n",
       "  <thead>\n",
       "    <tr style=\"text-align: right;\">\n",
       "      <th></th>\n",
       "      <th>id</th>\n",
       "      <th>addr</th>\n",
       "      <th>geometry</th>\n",
       "      <th>address</th>\n",
       "    </tr>\n",
       "  </thead>\n",
       "  <tbody>\n",
       "    <tr>\n",
       "      <th>0</th>\n",
       "      <td>1000</td>\n",
       "      <td>Itämerenkatu 14, 00101 Helsinki, Finland</td>\n",
       "      <td>POINT (24.91556 60.16320)</td>\n",
       "      <td>Ruoholahti, 14, Itämerenkatu, Ruoholahti, Läns...</td>\n",
       "    </tr>\n",
       "    <tr>\n",
       "      <th>1</th>\n",
       "      <td>1001</td>\n",
       "      <td>Kampinkuja 1, 00100 Helsinki, Finland</td>\n",
       "      <td>POINT (24.93166 60.16905)</td>\n",
       "      <td>Kamppi, 1, Kampinkuja, Kamppi, Eteläinen suurp...</td>\n",
       "    </tr>\n",
       "    <tr>\n",
       "      <th>2</th>\n",
       "      <td>1002</td>\n",
       "      <td>Kaivokatu 8, 00101 Helsinki, Finland</td>\n",
       "      <td>POINT (24.94168 60.16996)</td>\n",
       "      <td>Bangkok9, 8, Kaivokatu, Keskusta, Kluuvi, Etel...</td>\n",
       "    </tr>\n",
       "    <tr>\n",
       "      <th>3</th>\n",
       "      <td>1003</td>\n",
       "      <td>Hermannin rantatie 1, 00580 Helsinki, Finland</td>\n",
       "      <td>POINT (24.97865 60.19005)</td>\n",
       "      <td>Hermannin rantatie, Verkkosaari, Kalasatama, S...</td>\n",
       "    </tr>\n",
       "    <tr>\n",
       "      <th>4</th>\n",
       "      <td>1005</td>\n",
       "      <td>Tyynenmerenkatu 9, 00220 Helsinki, Finland</td>\n",
       "      <td>POINT (24.92151 60.15662)</td>\n",
       "      <td>9, Tyynenmerenkatu, Jätkäsaari, Länsisatama, E...</td>\n",
       "    </tr>\n",
       "    <tr>\n",
       "      <th>5</th>\n",
       "      <td>1006</td>\n",
       "      <td>Kontulantie 18, 00940 Helsinki, Finland</td>\n",
       "      <td>POINT (25.08174 60.23522)</td>\n",
       "      <td>18, Kontulantie, Kontula, Mellunkylä, Itäinen ...</td>\n",
       "    </tr>\n",
       "    <tr>\n",
       "      <th>6</th>\n",
       "      <td>1007</td>\n",
       "      <td>Itäväylä 3, 00950 Helsinki, Finland</td>\n",
       "      <td>POINT (25.10974 60.22102)</td>\n",
       "      <td>Itäväylä, Vartioharju, Vartiokylä, Itäinen suu...</td>\n",
       "    </tr>\n",
       "    <tr>\n",
       "      <th>7</th>\n",
       "      <td>1008</td>\n",
       "      <td>Tapulikaupungintie 3, 00750 Helsinki, Finland</td>\n",
       "      <td>POINT (25.02948 60.27858)</td>\n",
       "      <td>Tapulikaupungintie, Tapulikaupunki, Suutarila,...</td>\n",
       "    </tr>\n",
       "    <tr>\n",
       "      <th>8</th>\n",
       "      <td>1009</td>\n",
       "      <td>Sompionpolku 2, 00730 Helsinki, Finland</td>\n",
       "      <td>POINT (25.02867 60.26370)</td>\n",
       "      <td>Sompionpolku, Fallkullan kiila, Tapanila, Tapa...</td>\n",
       "    </tr>\n",
       "    <tr>\n",
       "      <th>9</th>\n",
       "      <td>1010</td>\n",
       "      <td>Atomitie 5, 00370 Helsinki, Finland</td>\n",
       "      <td>POINT (24.87103 60.22250)</td>\n",
       "      <td>Sodexo, 5, Atomitie, Strömberg, Pitäjänmäen te...</td>\n",
       "    </tr>\n",
       "    <tr>\n",
       "      <th>10</th>\n",
       "      <td>1011</td>\n",
       "      <td>Rautatientori 1, 00100 Helsinki, Finland</td>\n",
       "      <td>POINT (24.94410 60.17133)</td>\n",
       "      <td>Rautatientori, Kaisaniemi, Kluuvi, Eteläinen s...</td>\n",
       "    </tr>\n",
       "    <tr>\n",
       "      <th>11</th>\n",
       "      <td>1012</td>\n",
       "      <td>Kuparitie 8, 00440 Helsinki, Finland</td>\n",
       "      <td>POINT (24.88281 60.23080)</td>\n",
       "      <td>Kuparitie, Lassila, Haaga, Läntinen suurpiiri,...</td>\n",
       "    </tr>\n",
       "    <tr>\n",
       "      <th>12</th>\n",
       "      <td>1013</td>\n",
       "      <td>Rumpupolku 8, 00420 Helsinki, Finland</td>\n",
       "      <td>POINT (24.87533 60.23794)</td>\n",
       "      <td>Rumpupolku, Kannelmäki, Kaarela, Läntinen suur...</td>\n",
       "    </tr>\n",
       "    <tr>\n",
       "      <th>13</th>\n",
       "      <td>1014</td>\n",
       "      <td>Mäkitorpantie 1, 00620 Helsinki, Finland</td>\n",
       "      <td>POINT (24.94801 60.22179)</td>\n",
       "      <td>K-Supermarket Mustapekka, 1, Mäkitorpantie, Pa...</td>\n",
       "    </tr>\n",
       "    <tr>\n",
       "      <th>14</th>\n",
       "      <td>1015</td>\n",
       "      <td>Malminkaari 15, 00700 Helsinki, Finland</td>\n",
       "      <td>POINT (25.01295 60.25107)</td>\n",
       "      <td>Yliopiston Apteekki, 15, Malminkaari, Ala-Malm...</td>\n",
       "    </tr>\n",
       "    <tr>\n",
       "      <th>15</th>\n",
       "      <td>1016</td>\n",
       "      <td>Kylätie 23, 00320 Helsinki, Finland</td>\n",
       "      <td>POINT (24.89418 60.21722)</td>\n",
       "      <td>23, Kylätie, Etelä-Haaga, Haaga, Läntinen suur...</td>\n",
       "    </tr>\n",
       "    <tr>\n",
       "      <th>16</th>\n",
       "      <td>1017</td>\n",
       "      <td>Malminkartanontie 17, 00410 Helsinki, Finland</td>\n",
       "      <td>POINT (24.86592 60.25035)</td>\n",
       "      <td>Malminkartanontie, Malminkartano, Kaarela, Län...</td>\n",
       "    </tr>\n",
       "    <tr>\n",
       "      <th>17</th>\n",
       "      <td>1018</td>\n",
       "      <td>Oulunkylän tori 2b, 00640 Helsinki, Finland</td>\n",
       "      <td>POINT (24.96553 60.22947)</td>\n",
       "      <td>Oulunkylän tori, Patola, Oulunkylä, Pohjoinen ...</td>\n",
       "    </tr>\n",
       "    <tr>\n",
       "      <th>18</th>\n",
       "      <td>1019</td>\n",
       "      <td>Ratapihantie 6, 00101 Helsinki, Finland</td>\n",
       "      <td>POINT (24.93435 60.19857)</td>\n",
       "      <td>6, Ratapihantie, Itä-Pasila, Pasila, Keskinen ...</td>\n",
       "    </tr>\n",
       "    <tr>\n",
       "      <th>19</th>\n",
       "      <td>1020</td>\n",
       "      <td>Pitäjänmäentie 15, 00370 Helsinki, Finland</td>\n",
       "      <td>POINT (24.86084 60.22402)</td>\n",
       "      <td>Pizza Benitto, 15, Pitäjänmäentie, Reimarla, P...</td>\n",
       "    </tr>\n",
       "    <tr>\n",
       "      <th>20</th>\n",
       "      <td>1021</td>\n",
       "      <td>Eskolantie 2, 00720 Helsinki, Finland</td>\n",
       "      <td>POINT (24.99362 60.24365)</td>\n",
       "      <td>K-Market Pukinmäki, 2, Eskolantie, Savela, Puk...</td>\n",
       "    </tr>\n",
       "    <tr>\n",
       "      <th>21</th>\n",
       "      <td>1022</td>\n",
       "      <td>Tattariharjuntie, 00700 Helsinki, Finland</td>\n",
       "      <td>POINT (25.02063 60.24355)</td>\n",
       "      <td>Tattariharjuntie, Ala-Malmi, Malmi, Koillinen ...</td>\n",
       "    </tr>\n",
       "    <tr>\n",
       "      <th>22</th>\n",
       "      <td>1023</td>\n",
       "      <td>Tallinnanaukio 1, 00930 Helsinki, Finland</td>\n",
       "      <td>POINT (25.07835 60.20982)</td>\n",
       "      <td>Danske Bank, 1, Tallinnanaukio, Itäkeskus, Var...</td>\n",
       "    </tr>\n",
       "    <tr>\n",
       "      <th>23</th>\n",
       "      <td>1024</td>\n",
       "      <td>Tyynylaavantie 7, 00980 Helsinki, Finland</td>\n",
       "      <td>POINT (25.13517 60.20727)</td>\n",
       "      <td>Tyynylaavantie, Keski-Vuosaari, Vuosaari, Itäi...</td>\n",
       "    </tr>\n",
       "    <tr>\n",
       "      <th>24</th>\n",
       "      <td>1025</td>\n",
       "      <td>Myllypurontie 5, 00920 Helsinki, Finland</td>\n",
       "      <td>POINT (25.07453 60.22556)</td>\n",
       "      <td>Myllypurontie, Myllypuro, Vartiokylä, Itäinen ...</td>\n",
       "    </tr>\n",
       "    <tr>\n",
       "      <th>25</th>\n",
       "      <td>1026</td>\n",
       "      <td>Mellunmäenraitio 6, 00970 Helsinki, Finland</td>\n",
       "      <td>POINT (25.10979 60.23785)</td>\n",
       "      <td>Mellunmäenraitio, Mellunmäki, Mellunkylä, Itäi...</td>\n",
       "    </tr>\n",
       "    <tr>\n",
       "      <th>26</th>\n",
       "      <td>1027</td>\n",
       "      <td>Vaasanpolku 2, 00101 Helsinki, Finland</td>\n",
       "      <td>POINT (24.96108 60.18801)</td>\n",
       "      <td>Vaasanpolku, Kurvi, Harju, Alppiharju, Keskine...</td>\n",
       "    </tr>\n",
       "    <tr>\n",
       "      <th>27</th>\n",
       "      <td>1028</td>\n",
       "      <td>Hiihtäjäntie 2, 00810 Helsinki, Finland</td>\n",
       "      <td>POINT (25.02832 60.19442)</td>\n",
       "      <td>Alko, 2, Hiihtäjäntie, Länsi-Herttoniemi, Hert...</td>\n",
       "    </tr>\n",
       "    <tr>\n",
       "      <th>28</th>\n",
       "      <td>1029</td>\n",
       "      <td>Ukko-Pekan porras 2, 00570 Helsinki, Finland</td>\n",
       "      <td>POINT (25.00681 60.18872)</td>\n",
       "      <td>Metro Kulosaari, 2, Ukko-Pekan porras, Kulosaa...</td>\n",
       "    </tr>\n",
       "    <tr>\n",
       "      <th>29</th>\n",
       "      <td>1030</td>\n",
       "      <td>Siltasaarenkatu 16, 00530 Helsinki, Finland</td>\n",
       "      <td>POINT (24.94954 60.17944)</td>\n",
       "      <td>K-Market, 16, Siltasaarenkatu, Siltasaari, Kal...</td>\n",
       "    </tr>\n",
       "    <tr>\n",
       "      <th>30</th>\n",
       "      <td>1031</td>\n",
       "      <td>Urho Kekkosen katu 1, 00100 Helsinki, Finland</td>\n",
       "      <td>POINT (24.93312 60.16909)</td>\n",
       "      <td>Kampin keskus, 1, Urho Kekkosen katu, Kamppi, ...</td>\n",
       "    </tr>\n",
       "    <tr>\n",
       "      <th>31</th>\n",
       "      <td>1032</td>\n",
       "      <td>Ruoholahdenkatu 17, 00101 Helsinki, Finland</td>\n",
       "      <td>POINT (24.93028 60.16650)</td>\n",
       "      <td>Ruoholahdenkatu, Hietalahti, Kamppi, Eteläinen...</td>\n",
       "    </tr>\n",
       "    <tr>\n",
       "      <th>32</th>\n",
       "      <td>1033</td>\n",
       "      <td>Tyynenmerenkatu 3, 00220 Helsinki, Finland</td>\n",
       "      <td>POINT (24.92121 60.15878)</td>\n",
       "      <td>3, Tyynenmerenkatu, Jätkäsaari, Länsisatama, E...</td>\n",
       "    </tr>\n",
       "    <tr>\n",
       "      <th>33</th>\n",
       "      <td>1034</td>\n",
       "      <td>Vilhonkatu 4, 00101 Helsinki, Finland</td>\n",
       "      <td>POINT (24.94709 60.17191)</td>\n",
       "      <td>Oluthuone Kaisla, 4, Vilhonkatu, Kaisaniemi, K...</td>\n",
       "    </tr>\n",
       "  </tbody>\n",
       "</table>\n",
       "</div>"
      ],
      "text/plain": [
       "      id                                           addr  \\\n",
       "0   1000       Itämerenkatu 14, 00101 Helsinki, Finland   \n",
       "1   1001          Kampinkuja 1, 00100 Helsinki, Finland   \n",
       "2   1002           Kaivokatu 8, 00101 Helsinki, Finland   \n",
       "3   1003  Hermannin rantatie 1, 00580 Helsinki, Finland   \n",
       "4   1005     Tyynenmerenkatu 9, 00220 Helsinki, Finland   \n",
       "5   1006        Kontulantie 18, 00940 Helsinki, Finland   \n",
       "6   1007            Itäväylä 3, 00950 Helsinki, Finland   \n",
       "7   1008  Tapulikaupungintie 3, 00750 Helsinki, Finland   \n",
       "8   1009        Sompionpolku 2, 00730 Helsinki, Finland   \n",
       "9   1010            Atomitie 5, 00370 Helsinki, Finland   \n",
       "10  1011       Rautatientori 1, 00100 Helsinki, Finland   \n",
       "11  1012           Kuparitie 8, 00440 Helsinki, Finland   \n",
       "12  1013          Rumpupolku 8, 00420 Helsinki, Finland   \n",
       "13  1014       Mäkitorpantie 1, 00620 Helsinki, Finland   \n",
       "14  1015        Malminkaari 15, 00700 Helsinki, Finland   \n",
       "15  1016            Kylätie 23, 00320 Helsinki, Finland   \n",
       "16  1017  Malminkartanontie 17, 00410 Helsinki, Finland   \n",
       "17  1018    Oulunkylän tori 2b, 00640 Helsinki, Finland   \n",
       "18  1019        Ratapihantie 6, 00101 Helsinki, Finland   \n",
       "19  1020     Pitäjänmäentie 15, 00370 Helsinki, Finland   \n",
       "20  1021          Eskolantie 2, 00720 Helsinki, Finland   \n",
       "21  1022      Tattariharjuntie, 00700 Helsinki, Finland   \n",
       "22  1023      Tallinnanaukio 1, 00930 Helsinki, Finland   \n",
       "23  1024      Tyynylaavantie 7, 00980 Helsinki, Finland   \n",
       "24  1025       Myllypurontie 5, 00920 Helsinki, Finland   \n",
       "25  1026    Mellunmäenraitio 6, 00970 Helsinki, Finland   \n",
       "26  1027         Vaasanpolku 2, 00101 Helsinki, Finland   \n",
       "27  1028        Hiihtäjäntie 2, 00810 Helsinki, Finland   \n",
       "28  1029   Ukko-Pekan porras 2, 00570 Helsinki, Finland   \n",
       "29  1030    Siltasaarenkatu 16, 00530 Helsinki, Finland   \n",
       "30  1031  Urho Kekkosen katu 1, 00100 Helsinki, Finland   \n",
       "31  1032    Ruoholahdenkatu 17, 00101 Helsinki, Finland   \n",
       "32  1033     Tyynenmerenkatu 3, 00220 Helsinki, Finland   \n",
       "33  1034          Vilhonkatu 4, 00101 Helsinki, Finland   \n",
       "\n",
       "                     geometry  \\\n",
       "0   POINT (24.91556 60.16320)   \n",
       "1   POINT (24.93166 60.16905)   \n",
       "2   POINT (24.94168 60.16996)   \n",
       "3   POINT (24.97865 60.19005)   \n",
       "4   POINT (24.92151 60.15662)   \n",
       "5   POINT (25.08174 60.23522)   \n",
       "6   POINT (25.10974 60.22102)   \n",
       "7   POINT (25.02948 60.27858)   \n",
       "8   POINT (25.02867 60.26370)   \n",
       "9   POINT (24.87103 60.22250)   \n",
       "10  POINT (24.94410 60.17133)   \n",
       "11  POINT (24.88281 60.23080)   \n",
       "12  POINT (24.87533 60.23794)   \n",
       "13  POINT (24.94801 60.22179)   \n",
       "14  POINT (25.01295 60.25107)   \n",
       "15  POINT (24.89418 60.21722)   \n",
       "16  POINT (24.86592 60.25035)   \n",
       "17  POINT (24.96553 60.22947)   \n",
       "18  POINT (24.93435 60.19857)   \n",
       "19  POINT (24.86084 60.22402)   \n",
       "20  POINT (24.99362 60.24365)   \n",
       "21  POINT (25.02063 60.24355)   \n",
       "22  POINT (25.07835 60.20982)   \n",
       "23  POINT (25.13517 60.20727)   \n",
       "24  POINT (25.07453 60.22556)   \n",
       "25  POINT (25.10979 60.23785)   \n",
       "26  POINT (24.96108 60.18801)   \n",
       "27  POINT (25.02832 60.19442)   \n",
       "28  POINT (25.00681 60.18872)   \n",
       "29  POINT (24.94954 60.17944)   \n",
       "30  POINT (24.93312 60.16909)   \n",
       "31  POINT (24.93028 60.16650)   \n",
       "32  POINT (24.92121 60.15878)   \n",
       "33  POINT (24.94709 60.17191)   \n",
       "\n",
       "                                              address  \n",
       "0   Ruoholahti, 14, Itämerenkatu, Ruoholahti, Läns...  \n",
       "1   Kamppi, 1, Kampinkuja, Kamppi, Eteläinen suurp...  \n",
       "2   Bangkok9, 8, Kaivokatu, Keskusta, Kluuvi, Etel...  \n",
       "3   Hermannin rantatie, Verkkosaari, Kalasatama, S...  \n",
       "4   9, Tyynenmerenkatu, Jätkäsaari, Länsisatama, E...  \n",
       "5   18, Kontulantie, Kontula, Mellunkylä, Itäinen ...  \n",
       "6   Itäväylä, Vartioharju, Vartiokylä, Itäinen suu...  \n",
       "7   Tapulikaupungintie, Tapulikaupunki, Suutarila,...  \n",
       "8   Sompionpolku, Fallkullan kiila, Tapanila, Tapa...  \n",
       "9   Sodexo, 5, Atomitie, Strömberg, Pitäjänmäen te...  \n",
       "10  Rautatientori, Kaisaniemi, Kluuvi, Eteläinen s...  \n",
       "11  Kuparitie, Lassila, Haaga, Läntinen suurpiiri,...  \n",
       "12  Rumpupolku, Kannelmäki, Kaarela, Läntinen suur...  \n",
       "13  K-Supermarket Mustapekka, 1, Mäkitorpantie, Pa...  \n",
       "14  Yliopiston Apteekki, 15, Malminkaari, Ala-Malm...  \n",
       "15  23, Kylätie, Etelä-Haaga, Haaga, Läntinen suur...  \n",
       "16  Malminkartanontie, Malminkartano, Kaarela, Län...  \n",
       "17  Oulunkylän tori, Patola, Oulunkylä, Pohjoinen ...  \n",
       "18  6, Ratapihantie, Itä-Pasila, Pasila, Keskinen ...  \n",
       "19  Pizza Benitto, 15, Pitäjänmäentie, Reimarla, P...  \n",
       "20  K-Market Pukinmäki, 2, Eskolantie, Savela, Puk...  \n",
       "21  Tattariharjuntie, Ala-Malmi, Malmi, Koillinen ...  \n",
       "22  Danske Bank, 1, Tallinnanaukio, Itäkeskus, Var...  \n",
       "23  Tyynylaavantie, Keski-Vuosaari, Vuosaari, Itäi...  \n",
       "24  Myllypurontie, Myllypuro, Vartiokylä, Itäinen ...  \n",
       "25  Mellunmäenraitio, Mellunmäki, Mellunkylä, Itäi...  \n",
       "26  Vaasanpolku, Kurvi, Harju, Alppiharju, Keskine...  \n",
       "27  Alko, 2, Hiihtäjäntie, Länsi-Herttoniemi, Hert...  \n",
       "28  Metro Kulosaari, 2, Ukko-Pekan porras, Kulosaa...  \n",
       "29  K-Market, 16, Siltasaarenkatu, Siltasaari, Kal...  \n",
       "30  Kampin keskus, 1, Urho Kekkosen katu, Kamppi, ...  \n",
       "31  Ruoholahdenkatu, Hietalahti, Kamppi, Eteläinen...  \n",
       "32  3, Tyynenmerenkatu, Jätkäsaari, Länsisatama, E...  \n",
       "33  Oluthuone Kaisla, 4, Vilhonkatu, Kaisaniemi, K...  "
      ]
     },
     "execution_count": 5,
     "metadata": {},
     "output_type": "execute_result"
    }
   ],
   "source": [
    "geocoded_addresses_with_id = addresses.join(geocoded_addresses)\n",
    "geocoded_addresses_with_id"
   ]
  },
  {
   "cell_type": "code",
   "execution_count": 6,
   "id": "3a32bd10-e92d-4e20-9208-abbd7dea3cda",
   "metadata": {
    "tags": []
   },
   "outputs": [],
   "source": [
    "geocoded_addresses.to_file(DATA_DIRECTORY / \"addresses.gpkg\")"
   ]
  },
  {
   "cell_type": "code",
   "execution_count": 7,
   "id": "0b42092b-7108-43c0-b843-426e50d5463f",
   "metadata": {
    "tags": []
   },
   "outputs": [],
   "source": [
    "point1, point2 = Point(24.952242, 60.1696017), Point(24.976567, 60.1612500)"
   ]
  },
  {
   "cell_type": "code",
   "execution_count": 8,
   "id": "62cf2431-29a8-4278-b5fb-c56578f5f4f7",
   "metadata": {
    "tags": []
   },
   "outputs": [],
   "source": [
    "polygon = Polygon(\n",
    "    [\n",
    "        (24.950899, 60.169158),\n",
    "        (24.953492, 60.169158),\n",
    "        (24.953510, 60.170104),\n",
    "        (24.950958, 60.169990)\n",
    "    ]\n",
    ")"
   ]
  },
  {
   "cell_type": "code",
   "execution_count": 9,
   "id": "fc796df2-5d1b-491b-8c00-b32f89efe861",
   "metadata": {
    "tags": []
   },
   "outputs": [
    {
     "data": {
      "text/plain": [
       "True"
      ]
     },
     "execution_count": 9,
     "metadata": {},
     "output_type": "execute_result"
    }
   ],
   "source": [
    "point1.within(polygon)"
   ]
  },
  {
   "cell_type": "code",
   "execution_count": 10,
   "id": "944c99ec-73aa-473a-b5b1-304e2e359d3c",
   "metadata": {
    "tags": []
   },
   "outputs": [
    {
     "data": {
      "text/plain": [
       "False"
      ]
     },
     "execution_count": 10,
     "metadata": {},
     "output_type": "execute_result"
    }
   ],
   "source": [
    "point2.within(polygon)"
   ]
  },
  {
   "cell_type": "code",
   "execution_count": 11,
   "id": "c72d66f9-b74d-48ac-97b3-e4d9cf4a7c45",
   "metadata": {
    "tags": []
   },
   "outputs": [
    {
     "data": {
      "text/plain": [
       "(True, False)"
      ]
     },
     "execution_count": 11,
     "metadata": {},
     "output_type": "execute_result"
    }
   ],
   "source": [
    "polygon.contains(point1), polygon.contains(point2)"
   ]
  },
  {
   "cell_type": "code",
   "execution_count": 12,
   "id": "d2457d1e-6997-4661-b12b-d2a9bd0f6a48",
   "metadata": {
    "tags": []
   },
   "outputs": [
    {
     "data": {
      "text/html": [
       "<div>\n",
       "<style scoped>\n",
       "    .dataframe tbody tr th:only-of-type {\n",
       "        vertical-align: middle;\n",
       "    }\n",
       "\n",
       "    .dataframe tbody tr th {\n",
       "        vertical-align: top;\n",
       "    }\n",
       "\n",
       "    .dataframe thead th {\n",
       "        text-align: right;\n",
       "    }\n",
       "</style>\n",
       "<table border=\"1\" class=\"dataframe\">\n",
       "  <thead>\n",
       "    <tr style=\"text-align: right;\">\n",
       "      <th></th>\n",
       "      <th>name</th>\n",
       "      <th>geometry</th>\n",
       "    </tr>\n",
       "  </thead>\n",
       "  <tbody>\n",
       "    <tr>\n",
       "      <th>0</th>\n",
       "      <td>Eteläinen</td>\n",
       "      <td>POLYGON ((24.78280 60.09996, 24.80437 60.07607...</td>\n",
       "    </tr>\n",
       "    <tr>\n",
       "      <th>1</th>\n",
       "      <td>Läntinen</td>\n",
       "      <td>POLYGON ((24.83140 60.25406, 24.83168 60.25321...</td>\n",
       "    </tr>\n",
       "    <tr>\n",
       "      <th>2</th>\n",
       "      <td>Keskinen</td>\n",
       "      <td>POLYGON ((24.93345 60.18317, 24.93502 60.18005...</td>\n",
       "    </tr>\n",
       "    <tr>\n",
       "      <th>3</th>\n",
       "      <td>Pohjoinen</td>\n",
       "      <td>POLYGON ((24.90081 60.23526, 24.89944 60.23500...</td>\n",
       "    </tr>\n",
       "    <tr>\n",
       "      <th>4</th>\n",
       "      <td>Koillinen</td>\n",
       "      <td>POLYGON ((24.97163 60.24253, 24.97163 60.24246...</td>\n",
       "    </tr>\n",
       "  </tbody>\n",
       "</table>\n",
       "</div>"
      ],
      "text/plain": [
       "        name                                           geometry\n",
       "0  Eteläinen  POLYGON ((24.78280 60.09996, 24.80437 60.07607...\n",
       "1   Läntinen  POLYGON ((24.83140 60.25406, 24.83168 60.25321...\n",
       "2   Keskinen  POLYGON ((24.93345 60.18317, 24.93502 60.18005...\n",
       "3  Pohjoinen  POLYGON ((24.90081 60.23526, 24.89944 60.23500...\n",
       "4  Koillinen  POLYGON ((24.97163 60.24253, 24.97163 60.24246..."
      ]
     },
     "execution_count": 12,
     "metadata": {},
     "output_type": "execute_result"
    }
   ],
   "source": [
    "city_districts = gpd.read_file(\n",
    "    DATA_DIRECTORY / \"helsinki_city_districts\" / \"helsinki_city_districts_2021.gpkg\"\n",
    ")\n",
    "city_districts.head()"
   ]
  },
  {
   "cell_type": "code",
   "execution_count": 13,
   "id": "65a8b477-bfbe-4be3-9fa9-99eb7de0adf5",
   "metadata": {
    "tags": []
   },
   "outputs": [
    {
     "data": {
      "text/plain": [
       "<AxesSubplot: >"
      ]
     },
     "execution_count": 13,
     "metadata": {},
     "output_type": "execute_result"
    },
    {
     "data": {
      "image/png": "[encoded data removed]",
      "text/plain": [
       "<Figure size 640x480 with 1 Axes>"
      ]
     },
     "metadata": {},
     "output_type": "display_data"
    }
   ],
   "source": [
    "city_districts.plot()"
   ]
  },
  {
   "cell_type": "code",
   "execution_count": 14,
   "id": "0aa602db-730d-4b92-8afc-49931df2336d",
   "metadata": {
    "tags": []
   },
   "outputs": [
    {
     "data": {
      "text/html": [
       "<div>\n",
       "<style scoped>\n",
       "    .dataframe tbody tr th:only-of-type {\n",
       "        vertical-align: middle;\n",
       "    }\n",
       "\n",
       "    .dataframe tbody tr th {\n",
       "        vertical-align: top;\n",
       "    }\n",
       "\n",
       "    .dataframe thead th {\n",
       "        text-align: right;\n",
       "    }\n",
       "</style>\n",
       "<table border=\"1\" class=\"dataframe\">\n",
       "  <thead>\n",
       "    <tr style=\"text-align: right;\">\n",
       "      <th></th>\n",
       "      <th>id</th>\n",
       "      <th>geometry_x</th>\n",
       "      <th>address</th>\n",
       "      <th>name</th>\n",
       "    </tr>\n",
       "  </thead>\n",
       "  <tbody>\n",
       "    <tr>\n",
       "      <th>0</th>\n",
       "      <td>1000</td>\n",
       "      <td>POINT (24.91556 60.16320)</td>\n",
       "      <td>Ruoholahti, 14, Itämerenkatu, Ruoholahti, Läns...</td>\n",
       "      <td>Eteläinen</td>\n",
       "    </tr>\n",
       "    <tr>\n",
       "      <th>1</th>\n",
       "      <td>1001</td>\n",
       "      <td>POINT (24.93166 60.16905)</td>\n",
       "      <td>Kamppi, 1, Kampinkuja, Kamppi, Eteläinen suurp...</td>\n",
       "      <td>Eteläinen</td>\n",
       "    </tr>\n",
       "    <tr>\n",
       "      <th>2</th>\n",
       "      <td>1002</td>\n",
       "      <td>POINT (24.94168 60.16996)</td>\n",
       "      <td>Bangkok9, 8, Kaivokatu, Keskusta, Kluuvi, Etel...</td>\n",
       "      <td>Eteläinen</td>\n",
       "    </tr>\n",
       "    <tr>\n",
       "      <th>3</th>\n",
       "      <td>1003</td>\n",
       "      <td>POINT (24.97865 60.19005)</td>\n",
       "      <td>Hermannin rantatie, Verkkosaari, Kalasatama, S...</td>\n",
       "      <td>Keskinen</td>\n",
       "    </tr>\n",
       "    <tr>\n",
       "      <th>4</th>\n",
       "      <td>1005</td>\n",
       "      <td>POINT (24.92151 60.15662)</td>\n",
       "      <td>9, Tyynenmerenkatu, Jätkäsaari, Länsisatama, E...</td>\n",
       "      <td>Eteläinen</td>\n",
       "    </tr>\n",
       "    <tr>\n",
       "      <th>5</th>\n",
       "      <td>1006</td>\n",
       "      <td>POINT (25.08174 60.23522)</td>\n",
       "      <td>18, Kontulantie, Kontula, Mellunkylä, Itäinen ...</td>\n",
       "      <td>Itäinen</td>\n",
       "    </tr>\n",
       "    <tr>\n",
       "      <th>6</th>\n",
       "      <td>1007</td>\n",
       "      <td>POINT (25.10974 60.22102)</td>\n",
       "      <td>Itäväylä, Vartioharju, Vartiokylä, Itäinen suu...</td>\n",
       "      <td>Itäinen</td>\n",
       "    </tr>\n",
       "    <tr>\n",
       "      <th>7</th>\n",
       "      <td>1008</td>\n",
       "      <td>POINT (25.02948 60.27858)</td>\n",
       "      <td>Tapulikaupungintie, Tapulikaupunki, Suutarila,...</td>\n",
       "      <td>Koillinen</td>\n",
       "    </tr>\n",
       "    <tr>\n",
       "      <th>8</th>\n",
       "      <td>1009</td>\n",
       "      <td>POINT (25.02867 60.26370)</td>\n",
       "      <td>Sompionpolku, Fallkullan kiila, Tapanila, Tapa...</td>\n",
       "      <td>Koillinen</td>\n",
       "    </tr>\n",
       "    <tr>\n",
       "      <th>9</th>\n",
       "      <td>1010</td>\n",
       "      <td>POINT (24.87103 60.22250)</td>\n",
       "      <td>Sodexo, 5, Atomitie, Strömberg, Pitäjänmäen te...</td>\n",
       "      <td>Läntinen</td>\n",
       "    </tr>\n",
       "    <tr>\n",
       "      <th>10</th>\n",
       "      <td>1011</td>\n",
       "      <td>POINT (24.94410 60.17133)</td>\n",
       "      <td>Rautatientori, Kaisaniemi, Kluuvi, Eteläinen s...</td>\n",
       "      <td>Eteläinen</td>\n",
       "    </tr>\n",
       "    <tr>\n",
       "      <th>11</th>\n",
       "      <td>1012</td>\n",
       "      <td>POINT (24.88281 60.23080)</td>\n",
       "      <td>Kuparitie, Lassila, Haaga, Läntinen suurpiiri,...</td>\n",
       "      <td>Läntinen</td>\n",
       "    </tr>\n",
       "    <tr>\n",
       "      <th>12</th>\n",
       "      <td>1013</td>\n",
       "      <td>POINT (24.87533 60.23794)</td>\n",
       "      <td>Rumpupolku, Kannelmäki, Kaarela, Läntinen suur...</td>\n",
       "      <td>Läntinen</td>\n",
       "    </tr>\n",
       "    <tr>\n",
       "      <th>13</th>\n",
       "      <td>1014</td>\n",
       "      <td>POINT (24.94801 60.22179)</td>\n",
       "      <td>K-Supermarket Mustapekka, 1, Mäkitorpantie, Pa...</td>\n",
       "      <td>Pohjoinen</td>\n",
       "    </tr>\n",
       "    <tr>\n",
       "      <th>14</th>\n",
       "      <td>1015</td>\n",
       "      <td>POINT (25.01295 60.25107)</td>\n",
       "      <td>Yliopiston Apteekki, 15, Malminkaari, Ala-Malm...</td>\n",
       "      <td>Koillinen</td>\n",
       "    </tr>\n",
       "    <tr>\n",
       "      <th>15</th>\n",
       "      <td>1016</td>\n",
       "      <td>POINT (24.89418 60.21722)</td>\n",
       "      <td>23, Kylätie, Etelä-Haaga, Haaga, Läntinen suur...</td>\n",
       "      <td>Läntinen</td>\n",
       "    </tr>\n",
       "    <tr>\n",
       "      <th>16</th>\n",
       "      <td>1017</td>\n",
       "      <td>POINT (24.86592 60.25035)</td>\n",
       "      <td>Malminkartanontie, Malminkartano, Kaarela, Län...</td>\n",
       "      <td>Läntinen</td>\n",
       "    </tr>\n",
       "    <tr>\n",
       "      <th>17</th>\n",
       "      <td>1018</td>\n",
       "      <td>POINT (24.96553 60.22947)</td>\n",
       "      <td>Oulunkylän tori, Patola, Oulunkylä, Pohjoinen ...</td>\n",
       "      <td>Pohjoinen</td>\n",
       "    </tr>\n",
       "    <tr>\n",
       "      <th>18</th>\n",
       "      <td>1019</td>\n",
       "      <td>POINT (24.93435 60.19857)</td>\n",
       "      <td>6, Ratapihantie, Itä-Pasila, Pasila, Keskinen ...</td>\n",
       "      <td>Keskinen</td>\n",
       "    </tr>\n",
       "    <tr>\n",
       "      <th>19</th>\n",
       "      <td>1020</td>\n",
       "      <td>POINT (24.86084 60.22402)</td>\n",
       "      <td>Pizza Benitto, 15, Pitäjänmäentie, Reimarla, P...</td>\n",
       "      <td>Läntinen</td>\n",
       "    </tr>\n",
       "    <tr>\n",
       "      <th>20</th>\n",
       "      <td>1021</td>\n",
       "      <td>POINT (24.99362 60.24365)</td>\n",
       "      <td>K-Market Pukinmäki, 2, Eskolantie, Savela, Puk...</td>\n",
       "      <td>Koillinen</td>\n",
       "    </tr>\n",
       "    <tr>\n",
       "      <th>21</th>\n",
       "      <td>1022</td>\n",
       "      <td>POINT (25.02063 60.24355)</td>\n",
       "      <td>Tattariharjuntie, Ala-Malmi, Malmi, Koillinen ...</td>\n",
       "      <td>Koillinen</td>\n",
       "    </tr>\n",
       "    <tr>\n",
       "      <th>22</th>\n",
       "      <td>1023</td>\n",
       "      <td>POINT (25.07835 60.20982)</td>\n",
       "      <td>Danske Bank, 1, Tallinnanaukio, Itäkeskus, Var...</td>\n",
       "      <td>Itäinen</td>\n",
       "    </tr>\n",
       "    <tr>\n",
       "      <th>23</th>\n",
       "      <td>1024</td>\n",
       "      <td>POINT (25.13517 60.20727)</td>\n",
       "      <td>Tyynylaavantie, Keski-Vuosaari, Vuosaari, Itäi...</td>\n",
       "      <td>Itäinen</td>\n",
       "    </tr>\n",
       "    <tr>\n",
       "      <th>24</th>\n",
       "      <td>1025</td>\n",
       "      <td>POINT (25.07453 60.22556)</td>\n",
       "      <td>Myllypurontie, Myllypuro, Vartiokylä, Itäinen ...</td>\n",
       "      <td>Itäinen</td>\n",
       "    </tr>\n",
       "    <tr>\n",
       "      <th>25</th>\n",
       "      <td>1026</td>\n",
       "      <td>POINT (25.10979 60.23785)</td>\n",
       "      <td>Mellunmäenraitio, Mellunmäki, Mellunkylä, Itäi...</td>\n",
       "      <td>Itäinen</td>\n",
       "    </tr>\n",
       "    <tr>\n",
       "      <th>26</th>\n",
       "      <td>1027</td>\n",
       "      <td>POINT (24.96108 60.18801)</td>\n",
       "      <td>Vaasanpolku, Kurvi, Harju, Alppiharju, Keskine...</td>\n",
       "      <td>Keskinen</td>\n",
       "    </tr>\n",
       "    <tr>\n",
       "      <th>27</th>\n",
       "      <td>1028</td>\n",
       "      <td>POINT (25.02832 60.19442)</td>\n",
       "      <td>Alko, 2, Hiihtäjäntie, Länsi-Herttoniemi, Hert...</td>\n",
       "      <td>Kaakkoinen</td>\n",
       "    </tr>\n",
       "    <tr>\n",
       "      <th>28</th>\n",
       "      <td>1029</td>\n",
       "      <td>POINT (25.00681 60.18872)</td>\n",
       "      <td>Metro Kulosaari, 2, Ukko-Pekan porras, Kulosaa...</td>\n",
       "      <td>Kaakkoinen</td>\n",
       "    </tr>\n",
       "    <tr>\n",
       "      <th>29</th>\n",
       "      <td>1030</td>\n",
       "      <td>POINT (24.94954 60.17944)</td>\n",
       "      <td>K-Market, 16, Siltasaarenkatu, Siltasaari, Kal...</td>\n",
       "      <td>Keskinen</td>\n",
       "    </tr>\n",
       "    <tr>\n",
       "      <th>30</th>\n",
       "      <td>1031</td>\n",
       "      <td>POINT (24.93312 60.16909)</td>\n",
       "      <td>Kampin keskus, 1, Urho Kekkosen katu, Kamppi, ...</td>\n",
       "      <td>Eteläinen</td>\n",
       "    </tr>\n",
       "    <tr>\n",
       "      <th>31</th>\n",
       "      <td>1032</td>\n",
       "      <td>POINT (24.93028 60.16650)</td>\n",
       "      <td>Ruoholahdenkatu, Hietalahti, Kamppi, Eteläinen...</td>\n",
       "      <td>Eteläinen</td>\n",
       "    </tr>\n",
       "    <tr>\n",
       "      <th>32</th>\n",
       "      <td>1033</td>\n",
       "      <td>POINT (24.92121 60.15878)</td>\n",
       "      <td>3, Tyynenmerenkatu, Jätkäsaari, Länsisatama, E...</td>\n",
       "      <td>Eteläinen</td>\n",
       "    </tr>\n",
       "    <tr>\n",
       "      <th>33</th>\n",
       "      <td>1034</td>\n",
       "      <td>POINT (24.94709 60.17191)</td>\n",
       "      <td>Oluthuone Kaisla, 4, Vilhonkatu, Kaisaniemi, K...</td>\n",
       "      <td>Eteläinen</td>\n",
       "    </tr>\n",
       "  </tbody>\n",
       "</table>\n",
       "</div>"
      ],
      "text/plain": [
       "      id                 geometry_x  \\\n",
       "0   1000  POINT (24.91556 60.16320)   \n",
       "1   1001  POINT (24.93166 60.16905)   \n",
       "2   1002  POINT (24.94168 60.16996)   \n",
       "3   1003  POINT (24.97865 60.19005)   \n",
       "4   1005  POINT (24.92151 60.15662)   \n",
       "5   1006  POINT (25.08174 60.23522)   \n",
       "6   1007  POINT (25.10974 60.22102)   \n",
       "7   1008  POINT (25.02948 60.27858)   \n",
       "8   1009  POINT (25.02867 60.26370)   \n",
       "9   1010  POINT (24.87103 60.22250)   \n",
       "10  1011  POINT (24.94410 60.17133)   \n",
       "11  1012  POINT (24.88281 60.23080)   \n",
       "12  1013  POINT (24.87533 60.23794)   \n",
       "13  1014  POINT (24.94801 60.22179)   \n",
       "14  1015  POINT (25.01295 60.25107)   \n",
       "15  1016  POINT (24.89418 60.21722)   \n",
       "16  1017  POINT (24.86592 60.25035)   \n",
       "17  1018  POINT (24.96553 60.22947)   \n",
       "18  1019  POINT (24.93435 60.19857)   \n",
       "19  1020  POINT (24.86084 60.22402)   \n",
       "20  1021  POINT (24.99362 60.24365)   \n",
       "21  1022  POINT (25.02063 60.24355)   \n",
       "22  1023  POINT (25.07835 60.20982)   \n",
       "23  1024  POINT (25.13517 60.20727)   \n",
       "24  1025  POINT (25.07453 60.22556)   \n",
       "25  1026  POINT (25.10979 60.23785)   \n",
       "26  1027  POINT (24.96108 60.18801)   \n",
       "27  1028  POINT (25.02832 60.19442)   \n",
       "28  1029  POINT (25.00681 60.18872)   \n",
       "29  1030  POINT (24.94954 60.17944)   \n",
       "30  1031  POINT (24.93312 60.16909)   \n",
       "31  1032  POINT (24.93028 60.16650)   \n",
       "32  1033  POINT (24.92121 60.15878)   \n",
       "33  1034  POINT (24.94709 60.17191)   \n",
       "\n",
       "                                              address        name  \n",
       "0   Ruoholahti, 14, Itämerenkatu, Ruoholahti, Läns...   Eteläinen  \n",
       "1   Kamppi, 1, Kampinkuja, Kamppi, Eteläinen suurp...   Eteläinen  \n",
       "2   Bangkok9, 8, Kaivokatu, Keskusta, Kluuvi, Etel...   Eteläinen  \n",
       "3   Hermannin rantatie, Verkkosaari, Kalasatama, S...    Keskinen  \n",
       "4   9, Tyynenmerenkatu, Jätkäsaari, Länsisatama, E...   Eteläinen  \n",
       "5   18, Kontulantie, Kontula, Mellunkylä, Itäinen ...     Itäinen  \n",
       "6   Itäväylä, Vartioharju, Vartiokylä, Itäinen suu...     Itäinen  \n",
       "7   Tapulikaupungintie, Tapulikaupunki, Suutarila,...   Koillinen  \n",
       "8   Sompionpolku, Fallkullan kiila, Tapanila, Tapa...   Koillinen  \n",
       "9   Sodexo, 5, Atomitie, Strömberg, Pitäjänmäen te...    Läntinen  \n",
       "10  Rautatientori, Kaisaniemi, Kluuvi, Eteläinen s...   Eteläinen  \n",
       "11  Kuparitie, Lassila, Haaga, Läntinen suurpiiri,...    Läntinen  \n",
       "12  Rumpupolku, Kannelmäki, Kaarela, Läntinen suur...    Läntinen  \n",
       "13  K-Supermarket Mustapekka, 1, Mäkitorpantie, Pa...   Pohjoinen  \n",
       "14  Yliopiston Apteekki, 15, Malminkaari, Ala-Malm...   Koillinen  \n",
       "15  23, Kylätie, Etelä-Haaga, Haaga, Läntinen suur...    Läntinen  \n",
       "16  Malminkartanontie, Malminkartano, Kaarela, Län...    Läntinen  \n",
       "17  Oulunkylän tori, Patola, Oulunkylä, Pohjoinen ...   Pohjoinen  \n",
       "18  6, Ratapihantie, Itä-Pasila, Pasila, Keskinen ...    Keskinen  \n",
       "19  Pizza Benitto, 15, Pitäjänmäentie, Reimarla, P...    Läntinen  \n",
       "20  K-Market Pukinmäki, 2, Eskolantie, Savela, Puk...   Koillinen  \n",
       "21  Tattariharjuntie, Ala-Malmi, Malmi, Koillinen ...   Koillinen  \n",
       "22  Danske Bank, 1, Tallinnanaukio, Itäkeskus, Var...     Itäinen  \n",
       "23  Tyynylaavantie, Keski-Vuosaari, Vuosaari, Itäi...     Itäinen  \n",
       "24  Myllypurontie, Myllypuro, Vartiokylä, Itäinen ...     Itäinen  \n",
       "25  Mellunmäenraitio, Mellunmäki, Mellunkylä, Itäi...     Itäinen  \n",
       "26  Vaasanpolku, Kurvi, Harju, Alppiharju, Keskine...    Keskinen  \n",
       "27  Alko, 2, Hiihtäjäntie, Länsi-Herttoniemi, Hert...  Kaakkoinen  \n",
       "28  Metro Kulosaari, 2, Ukko-Pekan porras, Kulosaa...  Kaakkoinen  \n",
       "29  K-Market, 16, Siltasaarenkatu, Siltasaari, Kal...    Keskinen  \n",
       "30  Kampin keskus, 1, Urho Kekkosen katu, Kamppi, ...   Eteläinen  \n",
       "31  Ruoholahdenkatu, Hietalahti, Kamppi, Eteläinen...   Eteläinen  \n",
       "32  3, Tyynenmerenkatu, Jätkäsaari, Länsisatama, E...   Eteläinen  \n",
       "33  Oluthuone Kaisla, 4, Vilhonkatu, Kaisaniemi, K...   Eteläinen  "
      ]
     },
     "execution_count": 14,
     "metadata": {},
     "output_type": "execute_result"
    }
   ],
   "source": [
    "geocoded_addresses_with_id[\"district_id\"] = geocoded_addresses_with_id[\"geometry\"].apply(city_districts.contains).apply(np.argmax, axis=1)\n",
    "geocoded_addresses_with_id.merge(city_districts, left_on=\"district_id\", right_index=True).drop(columns=[\"district_id\", \"addr\", \"geometry_y\"]).sort_index()"
   ]
  },
  {
   "cell_type": "code",
   "execution_count": 15,
   "id": "e04bc782-521f-4471-b658-0bb8cf031101",
   "metadata": {
    "tags": []
   },
   "outputs": [
    {
     "data": {
      "text/plain": [
       "<AxesSubplot: >"
      ]
     },
     "execution_count": 15,
     "metadata": {},
     "output_type": "execute_result"
    },
    {
     "data": {
      "image/png": "[encoded data removed]",
      "text/plain": [
       "<Figure size 640x480 with 1 Axes>"
      ]
     },
     "metadata": {},
     "output_type": "display_data"
    }
   ],
   "source": [
    "axes = city_districts.plot(facecolor=\"green\", edgecolor=\"black\", alpha=0.5)\n",
    "geocoded_addresses.plot(ax=axes, markersize=5)"
   ]
  },
  {
   "cell_type": "code",
   "execution_count": 16,
   "id": "76b7a8af-b06c-4615-9328-b5991848b1e1",
   "metadata": {
    "tags": []
   },
   "outputs": [],
   "source": [
    "line1 = LineString([(0, 0), (1, 1)])\n",
    "line2 = LineString([(1, 1), (0, 2)])"
   ]
  },
  {
   "cell_type": "code",
   "execution_count": 17,
   "id": "1a8ae32d-5553-4099-9cd3-2cc09d1e3010",
   "metadata": {
    "tags": []
   },
   "outputs": [
    {
     "data": {
      "text/plain": [
       "True"
      ]
     },
     "execution_count": 17,
     "metadata": {},
     "output_type": "execute_result"
    }
   ],
   "source": [
    "line1.intersects(line2)"
   ]
  },
  {
   "cell_type": "code",
   "execution_count": 18,
   "id": "32fd52a7-faf9-4763-a80b-917139c600a3",
   "metadata": {
    "tags": []
   },
   "outputs": [
    {
     "data": {
      "text/plain": [
       "True"
      ]
     },
     "execution_count": 18,
     "metadata": {},
     "output_type": "execute_result"
    }
   ],
   "source": [
    "line2.touches(line1)"
   ]
  },
  {
   "cell_type": "code",
   "execution_count": 19,
   "id": "8bc3ea42-a0f3-4b2a-9931-b469c1613c18",
   "metadata": {
    "tags": []
   },
   "outputs": [
    {
     "data": {
      "image/svg+xml": [
       "<svg xmlns=\"http://www.w3.org/2000/svg\" xmlns:xlink=\"http://www.w3.org/1999/xlink\" width=\"100.0\" height=\"100.0\" viewBox=\"-0.08 -0.08 1.1600000000000001 2.16\" preserveAspectRatio=\"xMinYMin meet\"><g transform=\"matrix(1,0,0,-1,0,2.0)\"><g><polyline fill=\"none\" stroke=\"#66cc99\" stroke-width=\"0.0432\" points=\"0.0,0.0 1.0,1.0\" opacity=\"0.8\" /><polyline fill=\"none\" stroke=\"#66cc99\" stroke-width=\"0.0432\" points=\"1.0,1.0 0.0,2.0\" opacity=\"0.8\" /></g></g></svg>"
      ],
      "text/plain": [
       "<MULTILINESTRING ((0 0, 1 1), (1 1, 0 2))>"
      ]
     },
     "execution_count": 19,
     "metadata": {},
     "output_type": "execute_result"
    }
   ],
   "source": [
    "MultiLineString([line1, line2])"
   ]
  },
  {
   "cell_type": "code",
   "execution_count": 20,
   "id": "a70192dd-b639-4d5d-ba7f-585967f876c7",
   "metadata": {
    "tags": []
   },
   "outputs": [],
   "source": [
    "population_grid = gpd.read_file(\n",
    "    (\n",
    "        \"https://kartta.hsy.fi/geoserver/wfs\"\n",
    "        \"?service=wfs\"\n",
    "        \"&version=2.0.0\"\n",
    "        \"&request=GetFeature\"\n",
    "        \"&typeName=asuminen_ja_maankaytto:Vaestotietoruudukko_2020\"\n",
    "        \"&srsName=EPSG:3879\"\n",
    "    ),\n",
    ")\n",
    "population_grid.crs = \"EPSG:3879\"\n",
    "population_grid = population_grid[[\"asukkaita\", \"geometry\"]]\n",
    "population_grid = population_grid.rename(columns={\"asukkaita\": \"population\"})"
   ]
  },
  {
   "cell_type": "code",
   "execution_count": 21,
   "id": "b3b3b2db-9b8b-4b25-b5a3-9be51a0903a5",
   "metadata": {
    "tags": []
   },
   "outputs": [
    {
     "data": {
      "text/plain": [
       "<Derived Projected CRS: EPSG:3879>\n",
       "Name: ETRS89 / GK25FIN\n",
       "Axis Info [cartesian]:\n",
       "- N[north]: Northing (metre)\n",
       "- E[east]: Easting (metre)\n",
       "Area of Use:\n",
       "- name: Finland - nominally onshore between 24°30'E and 25°30'E but may be used in adjacent areas if a municipality chooses to use one zone over its whole extent.\n",
       "- bounds: (24.5, 59.94, 25.5, 68.9)\n",
       "Coordinate Operation:\n",
       "- name: Finland Gauss-Kruger zone 25\n",
       "- method: Transverse Mercator\n",
       "Datum: European Terrestrial Reference System 1989 ensemble\n",
       "- Ellipsoid: GRS 1980\n",
       "- Prime Meridian: Greenwich"
      ]
     },
     "execution_count": 21,
     "metadata": {},
     "output_type": "execute_result"
    }
   ],
   "source": [
    "population_grid.crs"
   ]
  },
  {
   "cell_type": "code",
   "execution_count": 22,
   "id": "3d50727b-4f4d-4d88-847c-3572ebd610b0",
   "metadata": {
    "tags": []
   },
   "outputs": [
    {
     "data": {
      "text/html": [
       "<div>\n",
       "<style scoped>\n",
       "    .dataframe tbody tr th:only-of-type {\n",
       "        vertical-align: middle;\n",
       "    }\n",
       "\n",
       "    .dataframe tbody tr th {\n",
       "        vertical-align: top;\n",
       "    }\n",
       "\n",
       "    .dataframe thead th {\n",
       "        text-align: right;\n",
       "    }\n",
       "</style>\n",
       "<table border=\"1\" class=\"dataframe\">\n",
       "  <thead>\n",
       "    <tr style=\"text-align: right;\">\n",
       "      <th></th>\n",
       "      <th>population</th>\n",
       "      <th>geometry</th>\n",
       "    </tr>\n",
       "  </thead>\n",
       "  <tbody>\n",
       "    <tr>\n",
       "      <th>0</th>\n",
       "      <td>5</td>\n",
       "      <td>POLYGON ((25472499.995 6685998.998, 25472499.9...</td>\n",
       "    </tr>\n",
       "    <tr>\n",
       "      <th>1</th>\n",
       "      <td>8</td>\n",
       "      <td>POLYGON ((25472499.995 6684249.004, 25472499.9...</td>\n",
       "    </tr>\n",
       "    <tr>\n",
       "      <th>2</th>\n",
       "      <td>5</td>\n",
       "      <td>POLYGON ((25472499.995 6683999.005, 25472499.9...</td>\n",
       "    </tr>\n",
       "    <tr>\n",
       "      <th>3</th>\n",
       "      <td>13</td>\n",
       "      <td>POLYGON ((25472499.995 6682998.998, 25472499.9...</td>\n",
       "    </tr>\n",
       "    <tr>\n",
       "      <th>4</th>\n",
       "      <td>5</td>\n",
       "      <td>POLYGON ((25472749.993 6690249.003, 25472749.9...</td>\n",
       "    </tr>\n",
       "  </tbody>\n",
       "</table>\n",
       "</div>"
      ],
      "text/plain": [
       "   population                                           geometry\n",
       "0           5  POLYGON ((25472499.995 6685998.998, 25472499.9...\n",
       "1           8  POLYGON ((25472499.995 6684249.004, 25472499.9...\n",
       "2           5  POLYGON ((25472499.995 6683999.005, 25472499.9...\n",
       "3          13  POLYGON ((25472499.995 6682998.998, 25472499.9...\n",
       "4           5  POLYGON ((25472749.993 6690249.003, 25472749.9..."
      ]
     },
     "execution_count": 22,
     "metadata": {},
     "output_type": "execute_result"
    }
   ],
   "source": [
    "population_grid.head()"
   ]
  },
  {
   "cell_type": "code",
   "execution_count": 23,
   "id": "ed75b5e3-f93b-4856-b33c-ccb5948684cf",
   "metadata": {
    "tags": []
   },
   "outputs": [
    {
     "data": {
      "text/html": [
       "<div>\n",
       "<style scoped>\n",
       "    .dataframe tbody tr th:only-of-type {\n",
       "        vertical-align: middle;\n",
       "    }\n",
       "\n",
       "    .dataframe tbody tr th {\n",
       "        vertical-align: top;\n",
       "    }\n",
       "\n",
       "    .dataframe thead th {\n",
       "        text-align: right;\n",
       "    }\n",
       "</style>\n",
       "<table border=\"1\" class=\"dataframe\">\n",
       "  <thead>\n",
       "    <tr style=\"text-align: right;\">\n",
       "      <th></th>\n",
       "      <th>population</th>\n",
       "      <th>geometry</th>\n",
       "      <th>density</th>\n",
       "    </tr>\n",
       "  </thead>\n",
       "  <tbody>\n",
       "    <tr>\n",
       "      <th>0</th>\n",
       "      <td>5</td>\n",
       "      <td>POLYGON ((25472499.995 6685998.998, 25472499.9...</td>\n",
       "      <td>80.001048</td>\n",
       "    </tr>\n",
       "    <tr>\n",
       "      <th>1</th>\n",
       "      <td>8</td>\n",
       "      <td>POLYGON ((25472499.995 6684249.004, 25472499.9...</td>\n",
       "      <td>128.001677</td>\n",
       "    </tr>\n",
       "    <tr>\n",
       "      <th>2</th>\n",
       "      <td>5</td>\n",
       "      <td>POLYGON ((25472499.995 6683999.005, 25472499.9...</td>\n",
       "      <td>80.001048</td>\n",
       "    </tr>\n",
       "    <tr>\n",
       "      <th>3</th>\n",
       "      <td>13</td>\n",
       "      <td>POLYGON ((25472499.995 6682998.998, 25472499.9...</td>\n",
       "      <td>208.002724</td>\n",
       "    </tr>\n",
       "    <tr>\n",
       "      <th>4</th>\n",
       "      <td>5</td>\n",
       "      <td>POLYGON ((25472749.993 6690249.003, 25472749.9...</td>\n",
       "      <td>79.998352</td>\n",
       "    </tr>\n",
       "  </tbody>\n",
       "</table>\n",
       "</div>"
      ],
      "text/plain": [
       "   population                                           geometry     density\n",
       "0           5  POLYGON ((25472499.995 6685998.998, 25472499.9...   80.001048\n",
       "1           8  POLYGON ((25472499.995 6684249.004, 25472499.9...  128.001677\n",
       "2           5  POLYGON ((25472499.995 6683999.005, 25472499.9...   80.001048\n",
       "3          13  POLYGON ((25472499.995 6682998.998, 25472499.9...  208.002724\n",
       "4           5  POLYGON ((25472749.993 6690249.003, 25472749.9...   79.998352"
      ]
     },
     "execution_count": 23,
     "metadata": {},
     "output_type": "execute_result"
    }
   ],
   "source": [
    "population_grid[\"density\"] = population_grid[\"population\"] / (population_grid.area / 1e6)\n",
    "population_grid.head()"
   ]
  },
  {
   "cell_type": "code",
   "execution_count": 24,
   "id": "8677d501-1b18-49ae-9205-af5cd0925a11",
   "metadata": {
    "tags": []
   },
   "outputs": [],
   "source": [
    "geocoded_addresses = geocoded_addresses.to_crs(\"EPSG:3879\")"
   ]
  },
  {
   "cell_type": "code",
   "execution_count": 28,
   "id": "9c65756d-f5a0-46e1-ac1c-237f29eb182f",
   "metadata": {
    "tags": []
   },
   "outputs": [
    {
     "data": {
      "text/html": [
       "<div>\n",
       "<style scoped>\n",
       "    .dataframe tbody tr th:only-of-type {\n",
       "        vertical-align: middle;\n",
       "    }\n",
       "\n",
       "    .dataframe tbody tr th {\n",
       "        vertical-align: top;\n",
       "    }\n",
       "\n",
       "    .dataframe thead th {\n",
       "        text-align: right;\n",
       "    }\n",
       "</style>\n",
       "<table border=\"1\" class=\"dataframe\">\n",
       "  <thead>\n",
       "    <tr style=\"text-align: right;\">\n",
       "      <th></th>\n",
       "      <th>geometry</th>\n",
       "      <th>address</th>\n",
       "      <th>index_right</th>\n",
       "      <th>population</th>\n",
       "      <th>density</th>\n",
       "    </tr>\n",
       "  </thead>\n",
       "  <tbody>\n",
       "    <tr>\n",
       "      <th>0</th>\n",
       "      <td>POINT (25495311.608 6672258.695)</td>\n",
       "      <td>Ruoholahti, 14, Itämerenkatu, Ruoholahti, Läns...</td>\n",
       "      <td>3247.0</td>\n",
       "      <td>492.0</td>\n",
       "      <td>7872.103107</td>\n",
       "    </tr>\n",
       "    <tr>\n",
       "      <th>1</th>\n",
       "      <td>POINT (25496206.216 6672909.016)</td>\n",
       "      <td>Kamppi, 1, Kampinkuja, Kamppi, Eteläinen suurp...</td>\n",
       "      <td>3362.0</td>\n",
       "      <td>182.0</td>\n",
       "      <td>2912.038141</td>\n",
       "    </tr>\n",
       "    <tr>\n",
       "      <th>2</th>\n",
       "      <td>POINT (25496762.723 6673010.538)</td>\n",
       "      <td>Bangkok9, 8, Kaivokatu, Keskusta, Kluuvi, Etel...</td>\n",
       "      <td>3485.0</td>\n",
       "      <td>45.0</td>\n",
       "      <td>720.009431</td>\n",
       "    </tr>\n",
       "    <tr>\n",
       "      <th>3</th>\n",
       "      <td>POINT (25498815.415 6675246.744)</td>\n",
       "      <td>Hermannin rantatie, Verkkosaari, Kalasatama, S...</td>\n",
       "      <td>3824.0</td>\n",
       "      <td>686.0</td>\n",
       "      <td>10976.143763</td>\n",
       "    </tr>\n",
       "    <tr>\n",
       "      <th>4</th>\n",
       "      <td>POINT (25495641.151 6671525.076)</td>\n",
       "      <td>9, Tyynenmerenkatu, Jätkäsaari, Länsisatama, E...</td>\n",
       "      <td>3293.0</td>\n",
       "      <td>1410.0</td>\n",
       "      <td>22559.535398</td>\n",
       "    </tr>\n",
       "  </tbody>\n",
       "</table>\n",
       "</div>"
      ],
      "text/plain": [
       "                           geometry  \\\n",
       "0  POINT (25495311.608 6672258.695)   \n",
       "1  POINT (25496206.216 6672909.016)   \n",
       "2  POINT (25496762.723 6673010.538)   \n",
       "3  POINT (25498815.415 6675246.744)   \n",
       "4  POINT (25495641.151 6671525.076)   \n",
       "\n",
       "                                             address  index_right  population  \\\n",
       "0  Ruoholahti, 14, Itämerenkatu, Ruoholahti, Läns...       3247.0       492.0   \n",
       "1  Kamppi, 1, Kampinkuja, Kamppi, Eteläinen suurp...       3362.0       182.0   \n",
       "2  Bangkok9, 8, Kaivokatu, Keskusta, Kluuvi, Etel...       3485.0        45.0   \n",
       "3  Hermannin rantatie, Verkkosaari, Kalasatama, S...       3824.0       686.0   \n",
       "4  9, Tyynenmerenkatu, Jätkäsaari, Länsisatama, E...       3293.0      1410.0   \n",
       "\n",
       "        density  \n",
       "0   7872.103107  \n",
       "1   2912.038141  \n",
       "2    720.009431  \n",
       "3  10976.143763  \n",
       "4  22559.535398  "
      ]
     },
     "execution_count": 28,
     "metadata": {},
     "output_type": "execute_result"
    }
   ],
   "source": [
    "addresses_with_population_data = geocoded_addresses.sjoin(population_grid, how=\"left\", predicate='within')\n",
    "addresses_with_population_data.head()"
   ]
  },
  {
   "cell_type": "code",
   "execution_count": 26,
   "id": "8163c18e-46e8-4bac-81ad-4b2ab36274cd",
   "metadata": {
    "tags": []
   },
   "outputs": [
    {
     "data": {
      "text/plain": [
       "<AxesSubplot: >"
      ]
     },
     "execution_count": 26,
     "metadata": {},
     "output_type": "execute_result"
    },
    {
     "data": {
      "image/png": "[encoded data removed]",
      "text/plain": [
       "<Figure size 1000x1000 with 1 Axes>"
      ]
     },
     "metadata": {},
     "output_type": "display_data"
    }
   ],
   "source": [
    "addresses_with_population_data.plot(\n",
    "    figsize=(10, 10),\n",
    "    column=\"density\",\n",
    "    cmap=\"Reds\",\n",
    "    scheme=\"quantiles\",\n",
    "    markersize=15,\n",
    "    legend=True\n",
    ")"
   ]
  },
  {
   "cell_type": "code",
   "execution_count": 29,
   "id": "776bff5d-d762-4cba-a752-c67bcf48f84e",
   "metadata": {},
   "outputs": [
    {
     "data": {
      "text/plain": [
       "<AxesSubplot: >"
      ]
     },
     "execution_count": 29,
     "metadata": {},
     "output_type": "execute_result"
    },
    {
     "data": {
      "image/png": "[encoded data removed]",
      "text/plain": [
       "<Figure size 1000x1000 with 1 Axes>"
      ]
     },
     "metadata": {},
     "output_type": "display_data"
    }
   ],
   "source": [
    "population_grid.plot(\n",
    "    figsize=(10, 10),\n",
    "    column=\"density\",\n",
    "    cmap=\"Reds\",\n",
    "    scheme=\"quantiles\",\n",
    "    markersize=15,\n",
    "    legend=True\n",
    ")"
   ]
  },
  {
   "cell_type": "code",
   "execution_count": 30,
   "id": "0f020138-289d-46ec-9d07-83ba29ec17e4",
   "metadata": {
    "tags": []
   },
   "outputs": [],
   "source": [
    "addresses_with_population_data.to_file(\n",
    "    DATA_DIRECTORY / \"addresses.gpkg\",\n",
    "    layer=\"addresses_with_population_data\"\n",
    ")"
   ]
  },
  {
   "cell_type": "code",
   "execution_count": null,
   "id": "b13e75de-1a74-4578-b142-8ce027056a98",
   "metadata": {},
   "outputs": [],
   "source": []
  }
 ],
 "metadata": {
  "kernelspec": {
   "display_name": "Python 3 (ipykernel)",
   "language": "python",
   "name": "python3"
  },
  "language_info": {
   "codemirror_mode": {
    "name": "ipython",
    "version": 3
   },
   "file_extension": ".py",
   "mimetype": "text/x-python",
   "name": "python",
   "nbconvert_exporter": "python",
   "pygments_lexer": "ipython3",
   "version": "3.10.9"
  }
 },
 "nbformat": 4,
 "nbformat_minor": 5
}
