{
 "cells": [
  {
   "cell_type": "markdown",
   "id": "a382272e-7680-4c19-a0ff-e07e3d02078f",
   "metadata": {},
   "source": [
    "### Solutions for https://github.com/Automating-GIS-processes-2022/Exercise-1/blob/main/Exercise-1-problem-3-4.ipynb"
   ]
  },
  {
   "cell_type": "code",
   "execution_count": 1,
   "id": "abac95a8-c63e-436f-8aa3-ffb5765b9750",
   "metadata": {
    "tags": []
   },
   "outputs": [],
   "source": [
    "from shapely.geometry.base import BaseGeometry\n",
    "from shapely import Point, LineString, Polygon\n",
    "from typing import Union\n",
    "import pandas as pd"
   ]
  },
  {
   "cell_type": "markdown",
   "id": "9f99400b-0734-4e47-8525-596c301f954c",
   "metadata": {
    "tags": []
   },
   "source": [
    "### Problem 3"
   ]
  },
  {
   "cell_type": "markdown",
   "id": "7a89ebec-6491-492f-a7a4-7c66539da5cc",
   "metadata": {},
   "source": [
    "#### 1"
   ]
  },
  {
   "cell_type": "code",
   "execution_count": 12,
   "id": "dbf69cd7-5932-47df-a47d-c4c579ea9e80",
   "metadata": {},
   "outputs": [],
   "source": [
    "data = pd.read_csv('data/travel_times_2015_helsinki.txt', sep=';', usecols=['from_x', 'from_y', 'to_x', 'to_y', 'total_route_time'])"
   ]
  },
  {
   "cell_type": "code",
   "execution_count": 13,
   "id": "112716f9-67cf-4578-b8a7-524e13d0a6ed",
   "metadata": {
    "tags": []
   },
   "outputs": [
    {
     "name": "stdout",
     "output_type": "stream",
     "text": [
      "(14643, 5)\n"
     ]
    }
   ],
   "source": [
    "# ADD YOU OWN CODE HERE\n",
    "print(data.shape)"
   ]
  },
  {
   "cell_type": "code",
   "execution_count": 14,
   "id": "3632ec3c-d184-4e14-9c80-20a6b5dfda43",
   "metadata": {
    "tags": []
   },
   "outputs": [
    {
     "data": {
      "text/html": [
       "<div>\n",
       "<style scoped>\n",
       "    .dataframe tbody tr th:only-of-type {\n",
       "        vertical-align: middle;\n",
       "    }\n",
       "\n",
       "    .dataframe tbody tr th {\n",
       "        vertical-align: top;\n",
       "    }\n",
       "\n",
       "    .dataframe thead th {\n",
       "        text-align: right;\n",
       "    }\n",
       "</style>\n",
       "<table border=\"1\" class=\"dataframe\">\n",
       "  <thead>\n",
       "    <tr style=\"text-align: right;\">\n",
       "      <th></th>\n",
       "      <th>from_x</th>\n",
       "      <th>from_y</th>\n",
       "      <th>to_x</th>\n",
       "      <th>to_y</th>\n",
       "      <th>total_route_time</th>\n",
       "    </tr>\n",
       "  </thead>\n",
       "  <tbody>\n",
       "    <tr>\n",
       "      <th>0</th>\n",
       "      <td>24.970438</td>\n",
       "      <td>60.311917</td>\n",
       "      <td>24.856034</td>\n",
       "      <td>60.399941</td>\n",
       "      <td>125.0</td>\n",
       "    </tr>\n",
       "    <tr>\n",
       "      <th>1</th>\n",
       "      <td>24.970438</td>\n",
       "      <td>60.311917</td>\n",
       "      <td>24.860568</td>\n",
       "      <td>60.400014</td>\n",
       "      <td>123.0</td>\n",
       "    </tr>\n",
       "    <tr>\n",
       "      <th>2</th>\n",
       "      <td>24.970438</td>\n",
       "      <td>60.311917</td>\n",
       "      <td>24.865102</td>\n",
       "      <td>60.400086</td>\n",
       "      <td>125.0</td>\n",
       "    </tr>\n",
       "    <tr>\n",
       "      <th>3</th>\n",
       "      <td>24.970438</td>\n",
       "      <td>60.311917</td>\n",
       "      <td>24.869636</td>\n",
       "      <td>60.400159</td>\n",
       "      <td>129.0</td>\n",
       "    </tr>\n",
       "    <tr>\n",
       "      <th>4</th>\n",
       "      <td>24.970438</td>\n",
       "      <td>60.311917</td>\n",
       "      <td>24.842582</td>\n",
       "      <td>60.397478</td>\n",
       "      <td>118.0</td>\n",
       "    </tr>\n",
       "  </tbody>\n",
       "</table>\n",
       "</div>"
      ],
      "text/plain": [
       "      from_x     from_y       to_x       to_y  total_route_time\n",
       "0  24.970438  60.311917  24.856034  60.399941             125.0\n",
       "1  24.970438  60.311917  24.860568  60.400014             123.0\n",
       "2  24.970438  60.311917  24.865102  60.400086             125.0\n",
       "3  24.970438  60.311917  24.869636  60.400159             129.0\n",
       "4  24.970438  60.311917  24.842582  60.397478             118.0"
      ]
     },
     "execution_count": 14,
     "metadata": {},
     "output_type": "execute_result"
    }
   ],
   "source": [
    "# NON-EDITABLE CODE CELL FOR TESTING YOUR SOLUTION\n",
    "data.head()"
   ]
  },
  {
   "cell_type": "markdown",
   "id": "2ebdbbb3-4abc-4d17-8716-ab6b7a278e80",
   "metadata": {},
   "source": [
    "#### 2"
   ]
  },
  {
   "cell_type": "code",
   "execution_count": 15,
   "id": "a853bdcb-06ff-4f99-8d68-26b774664952",
   "metadata": {
    "tags": []
   },
   "outputs": [],
   "source": [
    "data = data[['from_x', 'from_y', 'to_x', 'to_y']]"
   ]
  },
  {
   "cell_type": "code",
   "execution_count": 16,
   "id": "4d8b055c-a8ca-40a5-b710-4de4d25d08f1",
   "metadata": {
    "tags": []
   },
   "outputs": [],
   "source": [
    "# NON-EDITABLE CODE CELL FOR TESTING YOUR SOLUTION\n",
    "assert list(data.columns) == [\"from_x\", \"from_y\", \"to_x\", \"to_y\"], \"Error: `data` does not (or not only) contain the four columns it should\""
   ]
  },
  {
   "cell_type": "markdown",
   "id": "62ca3951-c7e6-40e0-b2cd-71d7d28b02e4",
   "metadata": {},
   "source": [
    "#### 3"
   ]
  },
  {
   "cell_type": "code",
   "execution_count": 24,
   "id": "7c0fc1f9-1bcc-466b-8dfc-48210566f1a6",
   "metadata": {
    "tags": []
   },
   "outputs": [],
   "source": [
    "origin_points = data[['from_x', 'from_y']].apply(Point, axis=1).values.tolist()"
   ]
  },
  {
   "cell_type": "code",
   "execution_count": 25,
   "id": "51670064-d275-4302-93ea-cc3ca088104d",
   "metadata": {
    "tags": []
   },
   "outputs": [],
   "source": [
    "destination_points = data[['to_x', 'to_y']].apply(Point, axis=1).values.tolist()"
   ]
  },
  {
   "cell_type": "code",
   "execution_count": 26,
   "id": "eca823fb-612c-4067-aa32-e20e1de50304",
   "metadata": {
    "tags": []
   },
   "outputs": [
    {
     "name": "stdout",
     "output_type": "stream",
     "text": [
      "ORIGIN X Y: 24.9704379 60.3119173\n",
      "DESTINATION X Y: 24.8560344 60.3999406\n"
     ]
    }
   ],
   "source": [
    "# NON-EDITABLE CODE CELL FOR TESTING YOUR SOLUTION\n",
    "\n",
    "# This test print should print out the first origin and destination coordinates in the two lists:\n",
    "print(\"ORIGIN X Y:\", origin_points[0].x, origin_points[0].y)\n",
    "print(\"DESTINATION X Y:\", destination_points[0].x, destination_points[0].y)\n",
    "\n",
    "# Check that you created a correct amount of points:\n",
    "assert len(origin_points) == len(data), \"Number of origin points must be the same as number of rows in the original file\"\n",
    "assert len(destination_points) == len(data), \"Number of destination points must be the same as number of rows in the original file\""
   ]
  },
  {
   "cell_type": "markdown",
   "id": "222d1e18-8db3-46f5-8f57-4e172bbc6966",
   "metadata": {
    "tags": []
   },
   "source": [
    "### Problem 4"
   ]
  },
  {
   "cell_type": "markdown",
   "id": "e381e5b5-2830-4ff2-b818-6b8be37d3664",
   "metadata": {},
   "source": [
    "#### 1"
   ]
  },
  {
   "cell_type": "code",
   "execution_count": 40,
   "id": "404467f4-f549-4be2-9aff-2718ab7c528b",
   "metadata": {
    "tags": []
   },
   "outputs": [],
   "source": [
    "def create_line(row: pd.Series) -> LineString:\n",
    "    # Create a line using two points\n",
    "    \n",
    "    return LineString([\n",
    "        Point(row['from_x'], row['from_y']),\n",
    "        Point(row['to_x'], row['to_y']),\n",
    "    ])"
   ]
  },
  {
   "cell_type": "code",
   "execution_count": 41,
   "id": "ee81befd-ecee-4cb3-be7e-1de8e92eb26c",
   "metadata": {
    "tags": []
   },
   "outputs": [],
   "source": [
    "lines = data.apply(create_line, axis=1).values.tolist()"
   ]
  },
  {
   "cell_type": "code",
   "execution_count": 35,
   "id": "cbd72c9a-1013-4127-9fe5-4b805f59edc7",
   "metadata": {
    "tags": []
   },
   "outputs": [],
   "source": [
    "# NON-EDITABLE CODE CELL FOR TESTING YOUR SOLUTION\n",
    "\n",
    "# Test that the list has correct number of LineStrings\n",
    "assert len(lines) == len(data), \"There should be as many lines as there are rows in the original data\""
   ]
  },
  {
   "cell_type": "markdown",
   "id": "a6162034-12eb-4f09-8c8e-052d348a95a3",
   "metadata": {},
   "source": [
    "#### 2"
   ]
  },
  {
   "cell_type": "code",
   "execution_count": 36,
   "id": "5455d15a-7095-4314-bed1-cd8a78b2cd38",
   "metadata": {
    "tags": []
   },
   "outputs": [],
   "source": [
    "total_length = sum(line.length for line in lines)"
   ]
  },
  {
   "cell_type": "code",
   "execution_count": 37,
   "id": "6cac41e0-f6ca-4bfa-beb1-58dc10c8bce4",
   "metadata": {
    "tags": []
   },
   "outputs": [
    {
     "name": "stdout",
     "output_type": "stream",
     "text": [
      "Total length of all lines is 3148.57\n"
     ]
    }
   ],
   "source": [
    "# NON-EDITABLE CODE CELL FOR TESTING YOUR SOLUTION\n",
    "\n",
    "# This test print should print the total length of all lines\n",
    "print(\"Total length of all lines is\", round(total_length, 2))\n",
    "assert round(total_length, 2) == 3148.57"
   ]
  },
  {
   "cell_type": "markdown",
   "id": "ba24847a-8f19-427f-bbb2-eef0a9a5d807",
   "metadata": {},
   "source": [
    "#### 3"
   ]
  },
  {
   "cell_type": "code",
   "execution_count": 45,
   "id": "4b1558dc-9d58-434c-9f78-353d621a4646",
   "metadata": {
    "tags": []
   },
   "outputs": [],
   "source": [
    "def create_od_lines(start_points: list[Point], finish_points: list[Point]) -> list[LineString]:\n",
    "    # Create a list of lines based on two lists of points\n",
    "    assert len(start_points) == len(finish_points), \"Input lists should be of the same length\"\n",
    "    \n",
    "    return [LineString([start_points[i], finish_points[i]]) for i in range(len(start_points))]\n",
    "    "
   ]
  },
  {
   "cell_type": "code",
   "execution_count": 46,
   "id": "ab04cf02-5b0b-45c3-a285-2f10f674cf6d",
   "metadata": {
    "tags": []
   },
   "outputs": [],
   "source": [
    "def calculate_total_distance(lines: list[LineString]) -> float:\n",
    "    # Calculate the total length of lines in the provided list\n",
    "\n",
    "    return sum(line.length for line in lines)"
   ]
  },
  {
   "cell_type": "code",
   "execution_count": 47,
   "id": "06076742-4c84-41ad-b714-b63ddbc3c580",
   "metadata": {
    "tags": []
   },
   "outputs": [
    {
     "name": "stdout",
     "output_type": "stream",
     "text": [
      "Total distance 3148.57\n"
     ]
    }
   ],
   "source": [
    "# NON-EDITABLE CODE CELL FOR TESTING YOUR SOLUTION\n",
    "\n",
    "# Create origin-destination lines\n",
    "od_lines = create_od_lines(origin_points, destination_points)\n",
    "\n",
    "# Calculate the total distance\n",
    "tot_dist = calculate_total_distance(od_lines)\n",
    "\n",
    "print(\"Total distance\", round(tot_dist,2))\n",
    "assert tot_dist == total_length"
   ]
  },
  {
   "cell_type": "code",
   "execution_count": null,
   "id": "942f0f05-d93a-474b-a032-c9e747956d5c",
   "metadata": {},
   "outputs": [],
   "source": []
  }
 ],
 "metadata": {
  "kernelspec": {
   "display_name": "Python 3 (ipykernel)",
   "language": "python",
   "name": "python3"
  },
  "language_info": {
   "codemirror_mode": {
    "name": "ipython",
    "version": 3
   },
   "file_extension": ".py",
   "mimetype": "text/x-python",
   "name": "python",
   "nbconvert_exporter": "python",
   "pygments_lexer": "ipython3",
   "version": "3.10.9"
  }
 },
 "nbformat": 4,
 "nbformat_minor": 5
}
