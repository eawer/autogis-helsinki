{
 "cells": [
  {
   "cell_type": "markdown",
   "id": "a382272e-7680-4c19-a0ff-e07e3d02078f",
   "metadata": {},
   "source": [
    "### Solutions for https://github.com/Automating-GIS-processes-2022/Exercise-1/blob/main/Exercise-1-problem-3-4.ipynb"
   ]
  },
  {
   "cell_type": "code",
   "execution_count": 67,
   "id": "abac95a8-c63e-436f-8aa3-ffb5765b9750",
   "metadata": {
    "tags": []
   },
   "outputs": [],
   "source": [
    "from shapely.geometry.base import BaseGeometry\n",
    "from shapely import Point, LineString, Polygon\n",
    "from typing import Union"
   ]
  },
  {
   "cell_type": "markdown",
   "id": "9f99400b-0734-4e47-8525-596c301f954c",
   "metadata": {
    "tags": []
   },
   "source": [
    "### Problem 1"
   ]
  },
  {
   "cell_type": "markdown",
   "id": "7a89ebec-6491-492f-a7a4-7c66539da5cc",
   "metadata": {},
   "source": [
    "#### 1a"
   ]
  },
  {
   "cell_type": "code",
   "execution_count": 4,
   "id": "c36c6be0-c99a-45b1-8745-79dcd5a2af06",
   "metadata": {
    "tags": []
   },
   "outputs": [],
   "source": [
    "def create_point_geometry(x_coord: float, y_coord: float) -> Point:\n",
    "    return Point(x_coord, y_coord)"
   ]
  },
  {
   "cell_type": "code",
   "execution_count": 5,
   "id": "a6cc4fbb-0d52-4f80-98de-4f53d62ebc3c",
   "metadata": {
    "tags": []
   },
   "outputs": [
    {
     "name": "stdout",
     "output_type": "stream",
     "text": [
      "POINT (0 1.1)\n",
      "Point\n"
     ]
    }
   ],
   "source": [
    "# NON-EDITABLE CODE CELL FOR TESTING YOUR SOLUTION\n",
    "point1 = create_point_geometry(0.0, 1.1)\n",
    "print(point1)\n",
    "print(point1.geom_type)"
   ]
  },
  {
   "cell_type": "markdown",
   "id": "73bea545-ba45-4f7a-9d74-c8cd37e9987b",
   "metadata": {},
   "source": [
    "#### 1b"
   ]
  },
  {
   "cell_type": "code",
   "execution_count": 10,
   "id": "7e4001a6-af62-4a5d-a024-5b25edca8edb",
   "metadata": {
    "tags": []
   },
   "outputs": [],
   "source": [
    "def create_line_geometry(points: list[Point]) -> LineString:\n",
    "    assert isinstance(points, list)\n",
    "    assert len(points) > 1, \"At minimum two points are required for a LineString\"\n",
    "    assert all(isinstance(point, Point) for point in points), \"All list values must be of type shapely.geometry.Point\"\n",
    "    \n",
    "    return LineString(points)"
   ]
  },
  {
   "cell_type": "code",
   "execution_count": 11,
   "id": "e3312cc6-cce3-4541-9bd4-4ec51b74b72c",
   "metadata": {
    "tags": []
   },
   "outputs": [],
   "source": [
    "line1 = create_line_geometry([Point(45.2, 22.34), Point(100.22, -3.20)])"
   ]
  },
  {
   "cell_type": "code",
   "execution_count": 12,
   "id": "84bfa660-0f77-4f9c-9c8e-3a2f0f7641c2",
   "metadata": {
    "tags": []
   },
   "outputs": [
    {
     "name": "stdout",
     "output_type": "stream",
     "text": [
      "LINESTRING (45.2 22.34, 100.22 -3.2)\n",
      "LineString\n"
     ]
    }
   ],
   "source": [
    "print(line1)\n",
    "print(line1.geom_type)"
   ]
  },
  {
   "cell_type": "markdown",
   "id": "0b30e578-f7fc-48da-8c02-307bc8c7fd32",
   "metadata": {},
   "source": [
    "#### 1c"
   ]
  },
  {
   "cell_type": "code",
   "execution_count": 28,
   "id": "f1f9549f-b672-447f-9a50-a9e04d2cd609",
   "metadata": {
    "tags": []
   },
   "outputs": [],
   "source": [
    "def create_polygon_geometry(coordinates: list[tuple[float, float]]) -> Polygon:\n",
    "    assert isinstance(coordinates, list), \"Input should be a list\"\n",
    "    assert len(coordinates) > 2, \"At minimum three points are required for a polygon\"\n",
    "    assert all(len(c) == 2 for c in coordinates), \"All list values must be coordinate tuples\"\n",
    "    \n",
    "    return Polygon(coordinates)\n",
    "    "
   ]
  },
  {
   "cell_type": "code",
   "execution_count": 59,
   "id": "38f7efe8-6d78-40be-bfa8-47cbfdf68d4b",
   "metadata": {
    "tags": []
   },
   "outputs": [],
   "source": [
    "polygon1 = create_polygon_geometry([(45.2, 22.34), (100.22, -3.20), (70.0, 10.20)])"
   ]
  },
  {
   "cell_type": "code",
   "execution_count": 60,
   "id": "73af6d59-1c19-4522-84b5-8986fad28815",
   "metadata": {},
   "outputs": [
    {
     "name": "stdout",
     "output_type": "stream",
     "text": [
      "POLYGON ((45.2 22.34, 100.22 -3.2, 70 10.2, 45.2 22.34))\n",
      "Polygon\n"
     ]
    }
   ],
   "source": [
    "# NON-EDITABLE CODE CELL FOR TESTING YOUR SOLUTION\n",
    "print(polygon1)\n",
    "print(polygon1.geom_type)"
   ]
  },
  {
   "cell_type": "code",
   "execution_count": 55,
   "id": "627a7f22-f424-4b6f-9c01-e47c6ba0ba55",
   "metadata": {
    "tags": []
   },
   "outputs": [
    {
     "name": "stdout",
     "output_type": "stream",
     "text": [
      "The function (correctly) detected an error. The error message was ‘Input should be a list’\n"
     ]
    }
   ],
   "source": [
    "# NON-EDITABLE CODE CELL FOR TESTING YOUR SOLUTION\n",
    "try:\n",
    "    # Pass something else than a list\n",
    "    create_polygon_geometry(\"Give me a polygon\")\n",
    "except AssertionError as exception:\n",
    "    print(f\"The function (correctly) detected an error. The error message was ‘{exception.args[0]}’\")\n",
    "except Exception as exception:\n",
    "    raise exception"
   ]
  },
  {
   "cell_type": "markdown",
   "id": "e6188f2a-ecd1-492d-b8b8-0331dae4b1e6",
   "metadata": {
    "tags": []
   },
   "source": [
    "### Problem 2"
   ]
  },
  {
   "cell_type": "markdown",
   "id": "c654f74c-fb4f-47f9-93c4-669ae56d20da",
   "metadata": {},
   "source": [
    "#### 2a"
   ]
  },
  {
   "cell_type": "code",
   "execution_count": 61,
   "id": "728939a8-362a-4a3f-94f7-b9025e6d910b",
   "metadata": {
    "tags": []
   },
   "outputs": [],
   "source": [
    "def get_centroid(geom: BaseGeometry) -> Point:\n",
    "    assert isinstance(geom, BaseGeometry), \"Input must be a shapely geometry\"\n",
    "    return geom.centroid"
   ]
  },
  {
   "cell_type": "code",
   "execution_count": 62,
   "id": "4ea6ee85-0e8e-4b09-b9c8-9f05e2f8c320",
   "metadata": {
    "tags": []
   },
   "outputs": [
    {
     "name": "stdout",
     "output_type": "stream",
     "text": [
      "POINT (71.80666666666667 9.780000000000001)\n"
     ]
    }
   ],
   "source": [
    "# NON-EDITABLE CODE CELL FOR TESTING YOUR SOLUTION\n",
    "centroid = get_centroid(polygon1)\n",
    "print(centroid)"
   ]
  },
  {
   "cell_type": "code",
   "execution_count": 63,
   "id": "e8583bd5-a942-49a0-a519-6c18c0c37cf1",
   "metadata": {
    "tags": []
   },
   "outputs": [
    {
     "name": "stdout",
     "output_type": "stream",
     "text": [
      "The function (correctly) detected an error. The error message was ‘Input must be a shapely geometry’\n"
     ]
    }
   ],
   "source": [
    "# NON-EDITABLE CODE CELL FOR TESTING YOUR SOLUTION\n",
    "try:\n",
    "    # Pass something else than a Shapely geometry\n",
    "    get_centroid(\"Give me a centroid!\")\n",
    "except AssertionError as exception:\n",
    "    print(f\"The function (correctly) detected an error. The error message was ‘{exception.args[0]}’\")\n",
    "except Exception as exception:\n",
    "    raise exception"
   ]
  },
  {
   "cell_type": "markdown",
   "id": "66c41264-dc25-434b-9948-f911bf1ca25b",
   "metadata": {},
   "source": [
    "#### 2b"
   ]
  },
  {
   "cell_type": "code",
   "execution_count": 64,
   "id": "4e9cf497-f893-4310-acfd-8eb8306ec21e",
   "metadata": {
    "tags": []
   },
   "outputs": [],
   "source": [
    "def get_area(polygon: Polygon) -> float:\n",
    "    assert isinstance(polygon, Polygon), \"Input should be a shapely.geometry.Polygon\"\n",
    "    \n",
    "    return polygon.area"
   ]
  },
  {
   "cell_type": "code",
   "execution_count": 65,
   "id": "66683b21-38de-4649-99bc-23c565828cf0",
   "metadata": {
    "tags": []
   },
   "outputs": [
    {
     "name": "stdout",
     "output_type": "stream",
     "text": [
      "17.28\n"
     ]
    }
   ],
   "source": [
    "# NON-EDITABLE CODE CELL FOR TESTING YOUR SOLUTION\n",
    "area = get_area(polygon1)\n",
    "print(round(area, 2))"
   ]
  },
  {
   "cell_type": "code",
   "execution_count": 66,
   "id": "6a0de878-b7d8-4c41-bf57-a19cb2e765a8",
   "metadata": {
    "tags": []
   },
   "outputs": [
    {
     "name": "stdout",
     "output_type": "stream",
     "text": [
      "The function (correctly) detected an error. The error message was ‘Input should be a shapely.geometry.Polygon’\n"
     ]
    }
   ],
   "source": [
    "# NON-EDITABLE CODE CELL FOR TESTING YOUR SOLUTION\n",
    "try:\n",
    "    # Pass something else than a Shapely geometry\n",
    "    get_area(\"Give me an area!\")\n",
    "except AssertionError as exception:\n",
    "    print(f\"The function (correctly) detected an error. The error message was ‘{exception.args[0]}’\")\n",
    "except Exception as exception:\n",
    "    raise exception"
   ]
  },
  {
   "cell_type": "markdown",
   "id": "2ed17be4-f81f-4ece-86c6-15be34e37c72",
   "metadata": {},
   "source": [
    "#### 2c"
   ]
  },
  {
   "cell_type": "code",
   "execution_count": 75,
   "id": "d24bbac0-72c5-43ff-a307-0631cad08baf",
   "metadata": {
    "tags": []
   },
   "outputs": [],
   "source": [
    "def get_length(geometry: Union[LineString, Polygon]) -> float:\n",
    "    assert isinstance(geometry, (LineString, Polygon)), \"‘geometry’ should be either a LineString or a Polygon\"\n",
    "    \n",
    "    return geometry.length if isinstance(geometry, LineString) else geometry.exterior.length"
   ]
  },
  {
   "cell_type": "code",
   "execution_count": 76,
   "id": "61e39749-85c9-4ebe-b2db-8dc4983ca961",
   "metadata": {
    "tags": []
   },
   "outputs": [
    {
     "name": "stdout",
     "output_type": "stream",
     "text": [
      "Line length: 60.66\n",
      "Polygon exterior length: 121.33\n",
      "The function (correctly) detected an error. The error message was ‘‘geometry’ should be either a LineString or a Polygon’\n"
     ]
    }
   ],
   "source": [
    "# NON-EDITABLE CODE CELL FOR TESTING YOUR SOLUTION\n",
    "line_length = get_length(line1)\n",
    "print(\"Line length:\", round(line_length,2))\n",
    "\n",
    "poly_exterior_length = get_length(polygon1)\n",
    "print(\"Polygon exterior length:\", round(poly_exterior_length,2))\n",
    "\n",
    "try:\n",
    "    # Pass something else than a Shapely LineString or Polygon\n",
    "    get_length(Point(1,2))\n",
    "except (AssertionError, ValueError) as exception:\n",
    "    print(f\"The function (correctly) detected an error. The error message was ‘{exception.args[0]}’\")\n",
    "except Exception as exception:\n",
    "    raise exception"
   ]
  },
  {
   "cell_type": "code",
   "execution_count": null,
   "id": "dbf69cd7-5932-47df-a47d-c4c579ea9e80",
   "metadata": {},
   "outputs": [],
   "source": []
  }
 ],
 "metadata": {
  "kernelspec": {
   "display_name": "Python 3 (ipykernel)",
   "language": "python",
   "name": "python3"
  },
  "language_info": {
   "codemirror_mode": {
    "name": "ipython",
    "version": 3
   },
   "file_extension": ".py",
   "mimetype": "text/x-python",
   "name": "python",
   "nbconvert_exporter": "python",
   "pygments_lexer": "ipython3",
   "version": "3.10.9"
  }
 },
 "nbformat": 4,
 "nbformat_minor": 5
}
