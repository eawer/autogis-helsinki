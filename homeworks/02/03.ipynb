{
 "cells": [
  {
   "cell_type": "markdown",
   "id": "2cc097f5-f127-4df0-b9d6-9998661c2b4b",
   "metadata": {},
   "source": [
    "### Solutions for https://github.com/Automating-GIS-processes-2022/Exercise-2/blob/main/Exercise-2-problem-3.ipynb"
   ]
  },
  {
   "cell_type": "code",
   "execution_count": 1,
   "id": "c05a6443-f934-4c77-8910-47368e4dd14f",
   "metadata": {
    "tags": []
   },
   "outputs": [],
   "source": [
    "import os\n",
    "os.environ['USE_PYGEOS'] = '0'\n",
    "\n",
    "from pathlib import Path\n",
    "import geopandas as gpd\n",
    "from shapely import LineString"
   ]
  },
  {
   "cell_type": "code",
   "execution_count": 2,
   "id": "a054d9f2-fc9d-401c-a126-6071e9cbc79d",
   "metadata": {
    "tags": []
   },
   "outputs": [],
   "source": [
    "DATA_DIRECTORY = Path(\"data\")"
   ]
  },
  {
   "cell_type": "markdown",
   "id": "51cb09af-b289-4ba0-a8d9-25ffb054c0e7",
   "metadata": {
    "tags": []
   },
   "source": [
    "### Problem 3: How far did people travel? (8 points)"
   ]
  },
  {
   "cell_type": "markdown",
   "id": "88726b6c-26fa-400f-8bb8-0e42edf415c0",
   "metadata": {},
   "source": [
    "#### a) Read the input file and re-project it"
   ]
  },
  {
   "cell_type": "code",
   "execution_count": 3,
   "id": "2bc37626-07ad-431e-97ce-76676b6a45ce",
   "metadata": {},
   "outputs": [],
   "source": [
    "kruger_points = gpd.read_file(DATA_DIRECTORY / \"kruger_points.shp\")"
   ]
  },
  {
   "cell_type": "code",
   "execution_count": 4,
   "id": "a49cd364-1a4c-4003-988d-4af58256b261",
   "metadata": {
    "tags": []
   },
   "outputs": [],
   "source": [
    "kruger_points = kruger_points.to_crs(epsg=32735)"
   ]
  },
  {
   "cell_type": "code",
   "execution_count": 5,
   "id": "f1660afd-0f17-4ee1-89e9-75d53cbb9423",
   "metadata": {
    "tags": []
   },
   "outputs": [
    {
     "data": {
      "text/html": [
       "<div>\n",
       "<style scoped>\n",
       "    .dataframe tbody tr th:only-of-type {\n",
       "        vertical-align: middle;\n",
       "    }\n",
       "\n",
       "    .dataframe tbody tr th {\n",
       "        vertical-align: top;\n",
       "    }\n",
       "\n",
       "    .dataframe thead th {\n",
       "        text-align: right;\n",
       "    }\n",
       "</style>\n",
       "<table border=\"1\" class=\"dataframe\">\n",
       "  <thead>\n",
       "    <tr style=\"text-align: right;\">\n",
       "      <th></th>\n",
       "      <th>lat</th>\n",
       "      <th>lon</th>\n",
       "      <th>timestamp</th>\n",
       "      <th>userid</th>\n",
       "      <th>geometry</th>\n",
       "    </tr>\n",
       "  </thead>\n",
       "  <tbody>\n",
       "    <tr>\n",
       "      <th>0</th>\n",
       "      <td>-24.980792</td>\n",
       "      <td>31.484633</td>\n",
       "      <td>2015-07-07 03:02</td>\n",
       "      <td>66487960</td>\n",
       "      <td>POINT (952912.890 7229683.258)</td>\n",
       "    </tr>\n",
       "    <tr>\n",
       "      <th>1</th>\n",
       "      <td>-25.499225</td>\n",
       "      <td>31.508906</td>\n",
       "      <td>2015-07-07 03:18</td>\n",
       "      <td>65281761</td>\n",
       "      <td>POINT (953433.223 7172080.632)</td>\n",
       "    </tr>\n",
       "    <tr>\n",
       "      <th>2</th>\n",
       "      <td>-24.342578</td>\n",
       "      <td>30.930866</td>\n",
       "      <td>2015-03-07 03:38</td>\n",
       "      <td>90916112</td>\n",
       "      <td>POINT (898955.144 7302197.408)</td>\n",
       "    </tr>\n",
       "    <tr>\n",
       "      <th>3</th>\n",
       "      <td>-24.854614</td>\n",
       "      <td>31.519718</td>\n",
       "      <td>2015-10-07 05:04</td>\n",
       "      <td>37959089</td>\n",
       "      <td>POINT (956927.218 7243564.942)</td>\n",
       "    </tr>\n",
       "    <tr>\n",
       "      <th>4</th>\n",
       "      <td>-24.921069</td>\n",
       "      <td>31.520836</td>\n",
       "      <td>2015-10-07 05:19</td>\n",
       "      <td>27793716</td>\n",
       "      <td>POINT (956794.955 7236187.926)</td>\n",
       "    </tr>\n",
       "  </tbody>\n",
       "</table>\n",
       "</div>"
      ],
      "text/plain": [
       "         lat        lon         timestamp    userid  \\\n",
       "0 -24.980792  31.484633  2015-07-07 03:02  66487960   \n",
       "1 -25.499225  31.508906  2015-07-07 03:18  65281761   \n",
       "2 -24.342578  30.930866  2015-03-07 03:38  90916112   \n",
       "3 -24.854614  31.519718  2015-10-07 05:04  37959089   \n",
       "4 -24.921069  31.520836  2015-10-07 05:19  27793716   \n",
       "\n",
       "                         geometry  \n",
       "0  POINT (952912.890 7229683.258)  \n",
       "1  POINT (953433.223 7172080.632)  \n",
       "2  POINT (898955.144 7302197.408)  \n",
       "3  POINT (956927.218 7243564.942)  \n",
       "4  POINT (956794.955 7236187.926)  "
      ]
     },
     "execution_count": 5,
     "metadata": {},
     "output_type": "execute_result"
    }
   ],
   "source": [
    "# NON-EDITABLE CODE CELL FOR TESTING YOUR SOLUTION\n",
    "\n",
    "# Check the data\n",
    "kruger_points.head()"
   ]
  },
  {
   "cell_type": "code",
   "execution_count": 6,
   "id": "fb0c7a53-0018-489a-89f4-fc714c543552",
   "metadata": {
    "tags": []
   },
   "outputs": [],
   "source": [
    "# NON-EDITABLE CODE CELL FOR TESTING YOUR SOLUTION\n",
    "\n",
    "# Check that the crs is correct after re-projecting (should be epsg:32735)\n",
    "import pyproj\n",
    "assert kruger_points.crs == pyproj.CRS(\"EPSG:32735\")"
   ]
  },
  {
   "cell_type": "markdown",
   "id": "f53cb4bc-b390-4bd6-80dd-f2122d62603d",
   "metadata": {},
   "source": [
    "#### b) Group the data by user id"
   ]
  },
  {
   "cell_type": "code",
   "execution_count": 7,
   "id": "a9adfb1a-8ed1-48ad-98cc-88e29306de41",
   "metadata": {
    "tags": []
   },
   "outputs": [],
   "source": [
    "grouped_by_users = kruger_points.groupby('userid')"
   ]
  },
  {
   "cell_type": "code",
   "execution_count": 8,
   "id": "a1e82f44-e413-4edc-a1f9-30afbce68d50",
   "metadata": {
    "tags": []
   },
   "outputs": [],
   "source": [
    "# NON-EDITABLE CODE CELL FOR TESTING YOUR SOLUTION\n",
    "\n",
    "# Check the number of groups:\n",
    "assert len(grouped_by_users.groups) == kruger_points[\"userid\"].nunique(), \"Number of groups should match number of unique users!\""
   ]
  },
  {
   "cell_type": "markdown",
   "id": "10a91164-53df-4d53-babe-8908825a72ea",
   "metadata": {},
   "source": [
    "#### c) Create `shapely.geometry.LineString` objects for each user connecting the points from oldest to most recent"
   ]
  },
  {
   "cell_type": "code",
   "execution_count": 9,
   "id": "e2997843-efee-4f1b-a969-0d367dbf442b",
   "metadata": {
    "tags": []
   },
   "outputs": [],
   "source": [
    "movements = gpd.GeoDataFrame(\n",
    "    kruger_points\n",
    "        .sort_values(\"timestamp\")\n",
    "        .groupby('userid', sort=False)['geometry']\n",
    "        .apply(list)\n",
    "        .loc[lambda series: series.str.len() > 1]\n",
    "        .apply(LineString),\n",
    "    crs=32735\n",
    ")"
   ]
  },
  {
   "cell_type": "code",
   "execution_count": 10,
   "id": "7abaf4ec-0c87-4910-a4bc-1d0550a1677f",
   "metadata": {
    "tags": []
   },
   "outputs": [
    {
     "name": "stdout",
     "output_type": "stream",
     "text": [
      "<class 'geopandas.geodataframe.GeoDataFrame'>\n",
      "epsg:32735\n"
     ]
    },
    {
     "data": {
      "text/html": [
       "<div>\n",
       "<style scoped>\n",
       "    .dataframe tbody tr th:only-of-type {\n",
       "        vertical-align: middle;\n",
       "    }\n",
       "\n",
       "    .dataframe tbody tr th {\n",
       "        vertical-align: top;\n",
       "    }\n",
       "\n",
       "    .dataframe thead th {\n",
       "        text-align: right;\n",
       "    }\n",
       "</style>\n",
       "<table border=\"1\" class=\"dataframe\">\n",
       "  <thead>\n",
       "    <tr style=\"text-align: right;\">\n",
       "      <th></th>\n",
       "      <th>geometry</th>\n",
       "    </tr>\n",
       "    <tr>\n",
       "      <th>userid</th>\n",
       "      <th></th>\n",
       "    </tr>\n",
       "  </thead>\n",
       "  <tbody>\n",
       "    <tr>\n",
       "      <th>78183633</th>\n",
       "      <td>LINESTRING (917548.841 7176756.235, 916219.784...</td>\n",
       "    </tr>\n",
       "    <tr>\n",
       "      <th>20420100</th>\n",
       "      <td>LINESTRING (963788.403 7228015.063, 963788.403...</td>\n",
       "    </tr>\n",
       "    <tr>\n",
       "      <th>88360442</th>\n",
       "      <td>LINESTRING (951568.263 7233650.679, 955715.541...</td>\n",
       "    </tr>\n",
       "    <tr>\n",
       "      <th>48538532</th>\n",
       "      <td>LINESTRING (919803.743 7175996.901, 899001.009...</td>\n",
       "    </tr>\n",
       "    <tr>\n",
       "      <th>91153427</th>\n",
       "      <td>LINESTRING (917530.151 7210909.389, 917530.151...</td>\n",
       "    </tr>\n",
       "    <tr>\n",
       "      <th>...</th>\n",
       "      <td>...</td>\n",
       "    </tr>\n",
       "    <tr>\n",
       "      <th>46347466</th>\n",
       "      <td>LINESTRING (993265.687 7203488.841, 908253.019...</td>\n",
       "    </tr>\n",
       "    <tr>\n",
       "      <th>39778980</th>\n",
       "      <td>LINESTRING (937414.214 7170464.721, 937414.214...</td>\n",
       "    </tr>\n",
       "    <tr>\n",
       "      <th>19119058</th>\n",
       "      <td>LINESTRING (955095.247 7256517.771, 956847.806...</td>\n",
       "    </tr>\n",
       "    <tr>\n",
       "      <th>81326644</th>\n",
       "      <td>LINESTRING (900262.761 7373880.440, 905933.275...</td>\n",
       "    </tr>\n",
       "    <tr>\n",
       "      <th>65543482</th>\n",
       "      <td>LINESTRING (910138.659 7283016.903, 902745.696...</td>\n",
       "    </tr>\n",
       "  </tbody>\n",
       "</table>\n",
       "<p>9026 rows × 1 columns</p>\n",
       "</div>"
      ],
      "text/plain": [
       "                                                   geometry\n",
       "userid                                                     \n",
       "78183633  LINESTRING (917548.841 7176756.235, 916219.784...\n",
       "20420100  LINESTRING (963788.403 7228015.063, 963788.403...\n",
       "88360442  LINESTRING (951568.263 7233650.679, 955715.541...\n",
       "48538532  LINESTRING (919803.743 7175996.901, 899001.009...\n",
       "91153427  LINESTRING (917530.151 7210909.389, 917530.151...\n",
       "...                                                     ...\n",
       "46347466  LINESTRING (993265.687 7203488.841, 908253.019...\n",
       "39778980  LINESTRING (937414.214 7170464.721, 937414.214...\n",
       "19119058  LINESTRING (955095.247 7256517.771, 956847.806...\n",
       "81326644  LINESTRING (900262.761 7373880.440, 905933.275...\n",
       "65543482  LINESTRING (910138.659 7283016.903, 902745.696...\n",
       "\n",
       "[9026 rows x 1 columns]"
      ]
     },
     "execution_count": 10,
     "metadata": {},
     "output_type": "execute_result"
    }
   ],
   "source": [
    "# NON-EDITABLE CODE CELL FOR TESTING YOUR SOLUTION\n",
    "\n",
    "# Check the result\n",
    "print(type(movements))\n",
    "print(movements.crs)\n",
    "\n",
    "movements"
   ]
  },
  {
   "cell_type": "markdown",
   "id": "cd9c8a24-b137-4bf0-a2d3-341f696f94eb",
   "metadata": {},
   "source": [
    "#### d) Calculate the distance between all posts of a user"
   ]
  },
  {
   "cell_type": "code",
   "execution_count": 11,
   "id": "988ea797-e21c-42bf-b107-c02d3f9a7cf4",
   "metadata": {
    "tags": []
   },
   "outputs": [
    {
     "data": {
      "text/html": [
       "<div>\n",
       "<style scoped>\n",
       "    .dataframe tbody tr th:only-of-type {\n",
       "        vertical-align: middle;\n",
       "    }\n",
       "\n",
       "    .dataframe tbody tr th {\n",
       "        vertical-align: top;\n",
       "    }\n",
       "\n",
       "    .dataframe thead th {\n",
       "        text-align: right;\n",
       "    }\n",
       "</style>\n",
       "<table border=\"1\" class=\"dataframe\">\n",
       "  <thead>\n",
       "    <tr style=\"text-align: right;\">\n",
       "      <th></th>\n",
       "      <th>geometry</th>\n",
       "      <th>distance</th>\n",
       "    </tr>\n",
       "    <tr>\n",
       "      <th>userid</th>\n",
       "      <th></th>\n",
       "      <th></th>\n",
       "    </tr>\n",
       "  </thead>\n",
       "  <tbody>\n",
       "    <tr>\n",
       "      <th>78183633</th>\n",
       "      <td>LINESTRING (917548.841 7176756.235, 916219.784...</td>\n",
       "      <td>371386.424418</td>\n",
       "    </tr>\n",
       "    <tr>\n",
       "      <th>20420100</th>\n",
       "      <td>LINESTRING (963788.403 7228015.063, 963788.403...</td>\n",
       "      <td>150721.814651</td>\n",
       "    </tr>\n",
       "    <tr>\n",
       "      <th>88360442</th>\n",
       "      <td>LINESTRING (951568.263 7233650.679, 955715.541...</td>\n",
       "      <td>13312.130911</td>\n",
       "    </tr>\n",
       "    <tr>\n",
       "      <th>48538532</th>\n",
       "      <td>LINESTRING (919803.743 7175996.901, 899001.009...</td>\n",
       "      <td>42632.852606</td>\n",
       "    </tr>\n",
       "    <tr>\n",
       "      <th>91153427</th>\n",
       "      <td>LINESTRING (917530.151 7210909.389, 917530.151...</td>\n",
       "      <td>36403.553545</td>\n",
       "    </tr>\n",
       "    <tr>\n",
       "      <th>...</th>\n",
       "      <td>...</td>\n",
       "      <td>...</td>\n",
       "    </tr>\n",
       "    <tr>\n",
       "      <th>46347466</th>\n",
       "      <td>LINESTRING (993265.687 7203488.841, 908253.019...</td>\n",
       "      <td>85520.367048</td>\n",
       "    </tr>\n",
       "    <tr>\n",
       "      <th>39778980</th>\n",
       "      <td>LINESTRING (937414.214 7170464.721, 937414.214...</td>\n",
       "      <td>0.000000</td>\n",
       "    </tr>\n",
       "    <tr>\n",
       "      <th>19119058</th>\n",
       "      <td>LINESTRING (955095.247 7256517.771, 956847.806...</td>\n",
       "      <td>1966.603155</td>\n",
       "    </tr>\n",
       "    <tr>\n",
       "      <th>81326644</th>\n",
       "      <td>LINESTRING (900262.761 7373880.440, 905933.275...</td>\n",
       "      <td>12996.419820</td>\n",
       "    </tr>\n",
       "    <tr>\n",
       "      <th>65543482</th>\n",
       "      <td>LINESTRING (910138.659 7283016.903, 902745.696...</td>\n",
       "      <td>29431.559310</td>\n",
       "    </tr>\n",
       "  </tbody>\n",
       "</table>\n",
       "<p>9026 rows × 2 columns</p>\n",
       "</div>"
      ],
      "text/plain": [
       "                                                   geometry       distance\n",
       "userid                                                                    \n",
       "78183633  LINESTRING (917548.841 7176756.235, 916219.784...  371386.424418\n",
       "20420100  LINESTRING (963788.403 7228015.063, 963788.403...  150721.814651\n",
       "88360442  LINESTRING (951568.263 7233650.679, 955715.541...   13312.130911\n",
       "48538532  LINESTRING (919803.743 7175996.901, 899001.009...   42632.852606\n",
       "91153427  LINESTRING (917530.151 7210909.389, 917530.151...   36403.553545\n",
       "...                                                     ...            ...\n",
       "46347466  LINESTRING (993265.687 7203488.841, 908253.019...   85520.367048\n",
       "39778980  LINESTRING (937414.214 7170464.721, 937414.214...       0.000000\n",
       "19119058  LINESTRING (955095.247 7256517.771, 956847.806...    1966.603155\n",
       "81326644  LINESTRING (900262.761 7373880.440, 905933.275...   12996.419820\n",
       "65543482  LINESTRING (910138.659 7283016.903, 902745.696...   29431.559310\n",
       "\n",
       "[9026 rows x 2 columns]"
      ]
     },
     "execution_count": 11,
     "metadata": {},
     "output_type": "execute_result"
    }
   ],
   "source": [
    "movements[\"distance\"] = movements.length\n",
    "movements"
   ]
  },
  {
   "cell_type": "code",
   "execution_count": 12,
   "id": "d83f4183-85bd-4909-ae7f-a638ad98b05f",
   "metadata": {
    "tags": []
   },
   "outputs": [
    {
     "data": {
      "text/html": [
       "<div>\n",
       "<style scoped>\n",
       "    .dataframe tbody tr th:only-of-type {\n",
       "        vertical-align: middle;\n",
       "    }\n",
       "\n",
       "    .dataframe tbody tr th {\n",
       "        vertical-align: top;\n",
       "    }\n",
       "\n",
       "    .dataframe thead th {\n",
       "        text-align: right;\n",
       "    }\n",
       "</style>\n",
       "<table border=\"1\" class=\"dataframe\">\n",
       "  <thead>\n",
       "    <tr style=\"text-align: right;\">\n",
       "      <th></th>\n",
       "      <th>geometry</th>\n",
       "      <th>distance</th>\n",
       "    </tr>\n",
       "    <tr>\n",
       "      <th>userid</th>\n",
       "      <th></th>\n",
       "      <th></th>\n",
       "    </tr>\n",
       "  </thead>\n",
       "  <tbody>\n",
       "    <tr>\n",
       "      <th>78183633</th>\n",
       "      <td>LINESTRING (917548.841 7176756.235, 916219.784...</td>\n",
       "      <td>371386.424418</td>\n",
       "    </tr>\n",
       "    <tr>\n",
       "      <th>20420100</th>\n",
       "      <td>LINESTRING (963788.403 7228015.063, 963788.403...</td>\n",
       "      <td>150721.814651</td>\n",
       "    </tr>\n",
       "    <tr>\n",
       "      <th>88360442</th>\n",
       "      <td>LINESTRING (951568.263 7233650.679, 955715.541...</td>\n",
       "      <td>13312.130911</td>\n",
       "    </tr>\n",
       "    <tr>\n",
       "      <th>48538532</th>\n",
       "      <td>LINESTRING (919803.743 7175996.901, 899001.009...</td>\n",
       "      <td>42632.852606</td>\n",
       "    </tr>\n",
       "    <tr>\n",
       "      <th>91153427</th>\n",
       "      <td>LINESTRING (917530.151 7210909.389, 917530.151...</td>\n",
       "      <td>36403.553545</td>\n",
       "    </tr>\n",
       "  </tbody>\n",
       "</table>\n",
       "</div>"
      ],
      "text/plain": [
       "                                                   geometry       distance\n",
       "userid                                                                    \n",
       "78183633  LINESTRING (917548.841 7176756.235, 916219.784...  371386.424418\n",
       "20420100  LINESTRING (963788.403 7228015.063, 963788.403...  150721.814651\n",
       "88360442  LINESTRING (951568.263 7233650.679, 955715.541...   13312.130911\n",
       "48538532  LINESTRING (919803.743 7175996.901, 899001.009...   42632.852606\n",
       "91153427  LINESTRING (917530.151 7210909.389, 917530.151...   36403.553545"
      ]
     },
     "execution_count": 12,
     "metadata": {},
     "output_type": "execute_result"
    }
   ],
   "source": [
    "# NON-EDITABLE CODE CELL FOR TESTING YOUR SOLUTION\n",
    "\n",
    "#Check the output\n",
    "movements.head()"
   ]
  },
  {
   "cell_type": "markdown",
   "id": "483c5917-db01-4484-b8a8-2dc6c1ce1949",
   "metadata": {},
   "source": [
    "#### e) Answer the original questions"
   ]
  },
  {
   "cell_type": "code",
   "execution_count": 13,
   "id": "bcec01ef-1213-4c55-94c3-8adee09901c4",
   "metadata": {
    "tags": []
   },
   "outputs": [
    {
     "data": {
      "text/plain": [
       "([0.0], [107132.06782599601], [6970668.816343962])"
      ]
     },
     "execution_count": 13,
     "metadata": {},
     "output_type": "execute_result"
    }
   ],
   "source": [
    "shortest_distance, mean_distance, longest_distance = movements.describe().loc[[\"min\", \"mean\", \"max\"]].values.tolist()\n",
    "shortest_distance, mean_distance, longest_distance"
   ]
  },
  {
   "cell_type": "markdown",
   "id": "bcbf7830-d5f5-4df9-b8de-e4a12902de85",
   "metadata": {},
   "source": [
    "#### f) Save the movements in a file"
   ]
  },
  {
   "cell_type": "code",
   "execution_count": 14,
   "id": "4666c7be-2a45-44aa-a127-4594fa679fb1",
   "metadata": {
    "tags": []
   },
   "outputs": [],
   "source": [
    "movements.to_file(DATA_DIRECTORY / \"movements.shp\")"
   ]
  },
  {
   "cell_type": "code",
   "execution_count": 15,
   "id": "413d5f18-d320-4c70-90aa-ea9fd4f92bcf",
   "metadata": {
    "tags": []
   },
   "outputs": [],
   "source": [
    "# NON-EDITABLE CODE CELL FOR TESTING YOUR SOLUTION\n",
    "\n",
    "assert (DATA_DIRECTORY / \"movements.shp\").exists()"
   ]
  }
 ],
 "metadata": {
  "kernelspec": {
   "display_name": "Python 3 (ipykernel)",
   "language": "python",
   "name": "python3"
  },
  "language_info": {
   "codemirror_mode": {
    "name": "ipython",
    "version": 3
   },
   "file_extension": ".py",
   "mimetype": "text/x-python",
   "name": "python",
   "nbconvert_exporter": "python",
   "pygments_lexer": "ipython3",
   "version": "3.10.9"
  }
 },
 "nbformat": 4,
 "nbformat_minor": 5
}
