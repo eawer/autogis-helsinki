{
 "cells": [
  {
   "cell_type": "markdown",
   "id": "a2db6ad2-412d-4ea3-89a8-c377ef3b56e7",
   "metadata": {},
   "source": [
    "### Solution for https://github.com/Automating-GIS-processes-2022/Exercise-4/blob/main/Exercise-4-problem-1.ipynb"
   ]
  },
  {
   "cell_type": "code",
   "execution_count": 1,
   "id": "8543ed44-8f0f-48ae-9587-bcd33005ff99",
   "metadata": {
    "tags": []
   },
   "outputs": [],
   "source": [
    "import os\n",
    "os.environ['USE_PYGEOS'] = '0'\n",
    "\n",
    "\n",
    "from pathlib import Path\n",
    "import mapclassify\n",
    "import numpy as np\n",
    "import pandas as pd\n",
    "import geopandas as gpd\n",
    "from matplotlib import pyplot as plt"
   ]
  },
  {
   "cell_type": "code",
   "execution_count": 2,
   "id": "08d63a33-cd18-4756-a2d7-7eff24ec5fdd",
   "metadata": {
    "tags": []
   },
   "outputs": [],
   "source": [
    "NOTEBOOK_PATH = Path().resolve()\n",
    "DATA_DIRECTORY = NOTEBOOK_PATH / \"data\""
   ]
  },
  {
   "cell_type": "markdown",
   "id": "4eb89914-7018-4164-946e-f4e3de422833",
   "metadata": {
    "tags": []
   },
   "source": [
    "### Problem 1: Join accessibility datasets into a grid and visualise the data on a map (10 points)"
   ]
  },
  {
   "cell_type": "markdown",
   "id": "ecd0f3c3-4669-40f5-a5d2-0ce2f77be993",
   "metadata": {},
   "source": [
    "#### a) Read the grid cell data set"
   ]
  },
  {
   "cell_type": "code",
   "execution_count": 3,
   "id": "fae2eed2-fc27-40ec-84de-9bdae106d0db",
   "metadata": {
    "tags": []
   },
   "outputs": [
    {
     "data": {
      "text/html": [
       "<div>\n",
       "<style scoped>\n",
       "    .dataframe tbody tr th:only-of-type {\n",
       "        vertical-align: middle;\n",
       "    }\n",
       "\n",
       "    .dataframe tbody tr th {\n",
       "        vertical-align: top;\n",
       "    }\n",
       "\n",
       "    .dataframe thead th {\n",
       "        text-align: right;\n",
       "    }\n",
       "</style>\n",
       "<table border=\"1\" class=\"dataframe\">\n",
       "  <thead>\n",
       "    <tr style=\"text-align: right;\">\n",
       "      <th></th>\n",
       "      <th>geometry</th>\n",
       "    </tr>\n",
       "    <tr>\n",
       "      <th>YKR_ID</th>\n",
       "      <th></th>\n",
       "    </tr>\n",
       "  </thead>\n",
       "  <tbody>\n",
       "    <tr>\n",
       "      <th>5785640</th>\n",
       "      <td>POLYGON ((382000.000 6697750.000, 381750.000 6...</td>\n",
       "    </tr>\n",
       "    <tr>\n",
       "      <th>5785641</th>\n",
       "      <td>POLYGON ((382250.000 6697750.000, 382000.000 6...</td>\n",
       "    </tr>\n",
       "    <tr>\n",
       "      <th>5785642</th>\n",
       "      <td>POLYGON ((382500.000 6697750.000, 382250.000 6...</td>\n",
       "    </tr>\n",
       "    <tr>\n",
       "      <th>5785643</th>\n",
       "      <td>POLYGON ((382750.000 6697750.000, 382500.000 6...</td>\n",
       "    </tr>\n",
       "    <tr>\n",
       "      <th>5787544</th>\n",
       "      <td>POLYGON ((381250.000 6697500.000, 381000.000 6...</td>\n",
       "    </tr>\n",
       "  </tbody>\n",
       "</table>\n",
       "</div>"
      ],
      "text/plain": [
       "                                                  geometry\n",
       "YKR_ID                                                    \n",
       "5785640  POLYGON ((382000.000 6697750.000, 381750.000 6...\n",
       "5785641  POLYGON ((382250.000 6697750.000, 382000.000 6...\n",
       "5785642  POLYGON ((382500.000 6697750.000, 382250.000 6...\n",
       "5785643  POLYGON ((382750.000 6697750.000, 382500.000 6...\n",
       "5787544  POLYGON ((381250.000 6697500.000, 381000.000 6..."
      ]
     },
     "execution_count": 3,
     "metadata": {},
     "output_type": "execute_result"
    }
   ],
   "source": [
    "grid = gpd.read_file(DATA_DIRECTORY / \"YKR_grid_EPSG3067.gpkg\")\n",
    "grid = grid.set_index(\"YKR_ID\")\n",
    "grid.head()"
   ]
  },
  {
   "cell_type": "code",
   "execution_count": 4,
   "id": "9ea58d14-3a59-4072-afa2-eb9cdb2b3c8a",
   "metadata": {
    "tags": []
   },
   "outputs": [
    {
     "data": {
      "text/plain": [
       "<AxesSubplot: >"
      ]
     },
     "execution_count": 4,
     "metadata": {},
     "output_type": "execute_result"
    },
    {
     "data": {
      "image/png": "[encoded data removed]",
      "text/plain": [
       "<Figure size 640x480 with 1 Axes>"
      ]
     },
     "metadata": {},
     "output_type": "display_data"
    }
   ],
   "source": [
    "grid.plot()"
   ]
  },
  {
   "cell_type": "markdown",
   "id": "5af92a30-b490-43b1-bcf1-1bb7469c0c72",
   "metadata": {},
   "source": [
    "#### b) Read the travel time data sets and join them to the grid cells"
   ]
  },
  {
   "cell_type": "code",
   "execution_count": 5,
   "id": "e2c8eb7f-a2d2-41e9-a7dd-0ea5260da0aa",
   "metadata": {
    "tags": []
   },
   "outputs": [
    {
     "data": {
      "text/html": [
       "<div>\n",
       "<style scoped>\n",
       "    .dataframe tbody tr th:only-of-type {\n",
       "        vertical-align: middle;\n",
       "    }\n",
       "\n",
       "    .dataframe tbody tr th {\n",
       "        vertical-align: top;\n",
       "    }\n",
       "\n",
       "    .dataframe thead th {\n",
       "        text-align: right;\n",
       "    }\n",
       "</style>\n",
       "<table border=\"1\" class=\"dataframe\">\n",
       "  <thead>\n",
       "    <tr style=\"text-align: right;\">\n",
       "      <th></th>\n",
       "      <th>car_r_t_Itis</th>\n",
       "      <th>pt_r_t_Itis</th>\n",
       "    </tr>\n",
       "    <tr>\n",
       "      <th>from_id</th>\n",
       "      <th></th>\n",
       "      <th></th>\n",
       "    </tr>\n",
       "  </thead>\n",
       "  <tbody>\n",
       "    <tr>\n",
       "      <th>5785640</th>\n",
       "      <td>50</td>\n",
       "      <td>132</td>\n",
       "    </tr>\n",
       "    <tr>\n",
       "      <th>5785641</th>\n",
       "      <td>51</td>\n",
       "      <td>135</td>\n",
       "    </tr>\n",
       "    <tr>\n",
       "      <th>5785642</th>\n",
       "      <td>58</td>\n",
       "      <td>137</td>\n",
       "    </tr>\n",
       "    <tr>\n",
       "      <th>5785643</th>\n",
       "      <td>57</td>\n",
       "      <td>141</td>\n",
       "    </tr>\n",
       "    <tr>\n",
       "      <th>5787544</th>\n",
       "      <td>50</td>\n",
       "      <td>125</td>\n",
       "    </tr>\n",
       "  </tbody>\n",
       "</table>\n",
       "</div>"
      ],
      "text/plain": [
       "         car_r_t_Itis  pt_r_t_Itis\n",
       "from_id                           \n",
       "5785640            50          132\n",
       "5785641            51          135\n",
       "5785642            58          137\n",
       "5785643            57          141\n",
       "5787544            50          125"
      ]
     },
     "execution_count": 5,
     "metadata": {},
     "output_type": "execute_result"
    }
   ],
   "source": [
    "travel_times_itis = pd.read_csv(\"data/travel_times_to_5944003_Itis.txt\", sep=\";\", usecols=[\"from_id\", \"pt_r_t\", \"car_r_t\"], index_col=\"from_id\")\n",
    "travel_times_itis = travel_times_itis.loc[(travel_times_itis != -1).all(axis=1)]\n",
    "travel_times_itis = travel_times_itis.rename(columns={\n",
    "    \"pt_r_t\": \"pt_r_t_Itis\",\n",
    "    \"car_r_t\": \"car_r_t_Itis\",\n",
    "})\n",
    "travel_times_itis.head()"
   ]
  },
  {
   "cell_type": "code",
   "execution_count": 6,
   "id": "68bc0e0f-54d7-415c-bbe6-221b8209bcc5",
   "metadata": {
    "tags": []
   },
   "outputs": [
    {
     "data": {
      "text/html": [
       "<div>\n",
       "<style scoped>\n",
       "    .dataframe tbody tr th:only-of-type {\n",
       "        vertical-align: middle;\n",
       "    }\n",
       "\n",
       "    .dataframe tbody tr th {\n",
       "        vertical-align: top;\n",
       "    }\n",
       "\n",
       "    .dataframe thead th {\n",
       "        text-align: right;\n",
       "    }\n",
       "</style>\n",
       "<table border=\"1\" class=\"dataframe\">\n",
       "  <thead>\n",
       "    <tr style=\"text-align: right;\">\n",
       "      <th></th>\n",
       "      <th>car_r_t_Myyrmanni</th>\n",
       "      <th>pt_r_t_Myyrmanni</th>\n",
       "    </tr>\n",
       "    <tr>\n",
       "      <th>from_id</th>\n",
       "      <th></th>\n",
       "      <th></th>\n",
       "    </tr>\n",
       "  </thead>\n",
       "  <tbody>\n",
       "    <tr>\n",
       "      <th>5785640</th>\n",
       "      <td>39</td>\n",
       "      <td>90</td>\n",
       "    </tr>\n",
       "    <tr>\n",
       "      <th>5785641</th>\n",
       "      <td>39</td>\n",
       "      <td>93</td>\n",
       "    </tr>\n",
       "    <tr>\n",
       "      <th>5785642</th>\n",
       "      <td>47</td>\n",
       "      <td>95</td>\n",
       "    </tr>\n",
       "    <tr>\n",
       "      <th>5785643</th>\n",
       "      <td>51</td>\n",
       "      <td>99</td>\n",
       "    </tr>\n",
       "    <tr>\n",
       "      <th>5787544</th>\n",
       "      <td>38</td>\n",
       "      <td>83</td>\n",
       "    </tr>\n",
       "  </tbody>\n",
       "</table>\n",
       "</div>"
      ],
      "text/plain": [
       "         car_r_t_Myyrmanni  pt_r_t_Myyrmanni\n",
       "from_id                                     \n",
       "5785640                 39                90\n",
       "5785641                 39                93\n",
       "5785642                 47                95\n",
       "5785643                 51                99\n",
       "5787544                 38                83"
      ]
     },
     "execution_count": 6,
     "metadata": {},
     "output_type": "execute_result"
    }
   ],
   "source": [
    "travel_times_myyrmanni = pd.read_csv(\"data/travel_times_to_5902043_Myyrmanni.txt\", sep=\";\", usecols=[\"from_id\", \"pt_r_t\", \"car_r_t\"], index_col=\"from_id\")\n",
    "travel_times_myyrmanni = travel_times_myyrmanni.loc[(travel_times_myyrmanni != -1).all(axis=1)]\n",
    "travel_times_myyrmanni = travel_times_myyrmanni.rename(columns={\n",
    "    \"car_r_t\": \"car_r_t_Myyrmanni\",\n",
    "    \"pt_r_t\": \"pt_r_t_Myyrmanni\",\n",
    "})\n",
    "travel_times_myyrmanni.head()"
   ]
  },
  {
   "cell_type": "code",
   "execution_count": 7,
   "id": "fdd52ff1-a454-4e5c-8cbf-eacbea3ae88c",
   "metadata": {
    "tags": []
   },
   "outputs": [
    {
     "data": {
      "text/html": [
       "<div>\n",
       "<style scoped>\n",
       "    .dataframe tbody tr th:only-of-type {\n",
       "        vertical-align: middle;\n",
       "    }\n",
       "\n",
       "    .dataframe tbody tr th {\n",
       "        vertical-align: top;\n",
       "    }\n",
       "\n",
       "    .dataframe thead th {\n",
       "        text-align: right;\n",
       "    }\n",
       "</style>\n",
       "<table border=\"1\" class=\"dataframe\">\n",
       "  <thead>\n",
       "    <tr style=\"text-align: right;\">\n",
       "      <th></th>\n",
       "      <th>car_r_t_Itis</th>\n",
       "      <th>pt_r_t_Itis</th>\n",
       "      <th>car_r_t_Myyrmanni</th>\n",
       "      <th>pt_r_t_Myyrmanni</th>\n",
       "    </tr>\n",
       "    <tr>\n",
       "      <th>from_id</th>\n",
       "      <th></th>\n",
       "      <th></th>\n",
       "      <th></th>\n",
       "      <th></th>\n",
       "    </tr>\n",
       "  </thead>\n",
       "  <tbody>\n",
       "    <tr>\n",
       "      <th>5785640</th>\n",
       "      <td>50</td>\n",
       "      <td>132</td>\n",
       "      <td>39</td>\n",
       "      <td>90</td>\n",
       "    </tr>\n",
       "    <tr>\n",
       "      <th>5785641</th>\n",
       "      <td>51</td>\n",
       "      <td>135</td>\n",
       "      <td>39</td>\n",
       "      <td>93</td>\n",
       "    </tr>\n",
       "    <tr>\n",
       "      <th>5785642</th>\n",
       "      <td>58</td>\n",
       "      <td>137</td>\n",
       "      <td>47</td>\n",
       "      <td>95</td>\n",
       "    </tr>\n",
       "    <tr>\n",
       "      <th>5785643</th>\n",
       "      <td>57</td>\n",
       "      <td>141</td>\n",
       "      <td>51</td>\n",
       "      <td>99</td>\n",
       "    </tr>\n",
       "    <tr>\n",
       "      <th>5787544</th>\n",
       "      <td>50</td>\n",
       "      <td>125</td>\n",
       "      <td>38</td>\n",
       "      <td>83</td>\n",
       "    </tr>\n",
       "    <tr>\n",
       "      <th>...</th>\n",
       "      <td>...</td>\n",
       "      <td>...</td>\n",
       "      <td>...</td>\n",
       "      <td>...</td>\n",
       "    </tr>\n",
       "    <tr>\n",
       "      <th>6016697</th>\n",
       "      <td>59</td>\n",
       "      <td>81</td>\n",
       "      <td>53</td>\n",
       "      <td>97</td>\n",
       "    </tr>\n",
       "    <tr>\n",
       "      <th>6016698</th>\n",
       "      <td>60</td>\n",
       "      <td>79</td>\n",
       "      <td>54</td>\n",
       "      <td>95</td>\n",
       "    </tr>\n",
       "    <tr>\n",
       "      <th>6016699</th>\n",
       "      <td>62</td>\n",
       "      <td>81</td>\n",
       "      <td>56</td>\n",
       "      <td>97</td>\n",
       "    </tr>\n",
       "    <tr>\n",
       "      <th>6018253</th>\n",
       "      <td>61</td>\n",
       "      <td>84</td>\n",
       "      <td>55</td>\n",
       "      <td>100</td>\n",
       "    </tr>\n",
       "    <tr>\n",
       "      <th>6018254</th>\n",
       "      <td>63</td>\n",
       "      <td>83</td>\n",
       "      <td>57</td>\n",
       "      <td>98</td>\n",
       "    </tr>\n",
       "  </tbody>\n",
       "</table>\n",
       "<p>13020 rows × 4 columns</p>\n",
       "</div>"
      ],
      "text/plain": [
       "         car_r_t_Itis  pt_r_t_Itis  car_r_t_Myyrmanni  pt_r_t_Myyrmanni\n",
       "from_id                                                                \n",
       "5785640            50          132                 39                90\n",
       "5785641            51          135                 39                93\n",
       "5785642            58          137                 47                95\n",
       "5785643            57          141                 51                99\n",
       "5787544            50          125                 38                83\n",
       "...               ...          ...                ...               ...\n",
       "6016697            59           81                 53                97\n",
       "6016698            60           79                 54                95\n",
       "6016699            62           81                 56                97\n",
       "6018253            61           84                 55               100\n",
       "6018254            63           83                 57                98\n",
       "\n",
       "[13020 rows x 4 columns]"
      ]
     },
     "execution_count": 7,
     "metadata": {},
     "output_type": "execute_result"
    }
   ],
   "source": [
    "travel_times_itis.join(travel_times_myyrmanni)"
   ]
  },
  {
   "cell_type": "code",
   "execution_count": 8,
   "id": "06b542a7-7e6a-432b-b7d6-4b8854f2ba13",
   "metadata": {},
   "outputs": [
    {
     "data": {
      "text/html": [
       "<div>\n",
       "<style scoped>\n",
       "    .dataframe tbody tr th:only-of-type {\n",
       "        vertical-align: middle;\n",
       "    }\n",
       "\n",
       "    .dataframe tbody tr th {\n",
       "        vertical-align: top;\n",
       "    }\n",
       "\n",
       "    .dataframe thead th {\n",
       "        text-align: right;\n",
       "    }\n",
       "</style>\n",
       "<table border=\"1\" class=\"dataframe\">\n",
       "  <thead>\n",
       "    <tr style=\"text-align: right;\">\n",
       "      <th></th>\n",
       "      <th>geometry</th>\n",
       "      <th>car_r_t_Itis</th>\n",
       "      <th>pt_r_t_Itis</th>\n",
       "      <th>car_r_t_Myyrmanni</th>\n",
       "      <th>pt_r_t_Myyrmanni</th>\n",
       "    </tr>\n",
       "  </thead>\n",
       "  <tbody>\n",
       "    <tr>\n",
       "      <th>5785640</th>\n",
       "      <td>POLYGON ((382000.000 6697750.000, 381750.000 6...</td>\n",
       "      <td>50</td>\n",
       "      <td>132</td>\n",
       "      <td>39</td>\n",
       "      <td>90</td>\n",
       "    </tr>\n",
       "    <tr>\n",
       "      <th>5785641</th>\n",
       "      <td>POLYGON ((382250.000 6697750.000, 382000.000 6...</td>\n",
       "      <td>51</td>\n",
       "      <td>135</td>\n",
       "      <td>39</td>\n",
       "      <td>93</td>\n",
       "    </tr>\n",
       "    <tr>\n",
       "      <th>5785642</th>\n",
       "      <td>POLYGON ((382500.000 6697750.000, 382250.000 6...</td>\n",
       "      <td>58</td>\n",
       "      <td>137</td>\n",
       "      <td>47</td>\n",
       "      <td>95</td>\n",
       "    </tr>\n",
       "    <tr>\n",
       "      <th>5785643</th>\n",
       "      <td>POLYGON ((382750.000 6697750.000, 382500.000 6...</td>\n",
       "      <td>57</td>\n",
       "      <td>141</td>\n",
       "      <td>51</td>\n",
       "      <td>99</td>\n",
       "    </tr>\n",
       "    <tr>\n",
       "      <th>5787544</th>\n",
       "      <td>POLYGON ((381250.000 6697500.000, 381000.000 6...</td>\n",
       "      <td>50</td>\n",
       "      <td>125</td>\n",
       "      <td>38</td>\n",
       "      <td>83</td>\n",
       "    </tr>\n",
       "  </tbody>\n",
       "</table>\n",
       "</div>"
      ],
      "text/plain": [
       "                                                  geometry  car_r_t_Itis  \\\n",
       "5785640  POLYGON ((382000.000 6697750.000, 381750.000 6...            50   \n",
       "5785641  POLYGON ((382250.000 6697750.000, 382000.000 6...            51   \n",
       "5785642  POLYGON ((382500.000 6697750.000, 382250.000 6...            58   \n",
       "5785643  POLYGON ((382750.000 6697750.000, 382500.000 6...            57   \n",
       "5787544  POLYGON ((381250.000 6697500.000, 381000.000 6...            50   \n",
       "\n",
       "         pt_r_t_Itis  car_r_t_Myyrmanni  pt_r_t_Myyrmanni  \n",
       "5785640          132                 39                90  \n",
       "5785641          135                 39                93  \n",
       "5785642          137                 47                95  \n",
       "5785643          141                 51                99  \n",
       "5787544          125                 38                83  "
      ]
     },
     "execution_count": 8,
     "metadata": {},
     "output_type": "execute_result"
    }
   ],
   "source": [
    "grid = grid.join(travel_times_itis.join(travel_times_myyrmanni), how=\"inner\")\n",
    "grid.head()"
   ]
  },
  {
   "cell_type": "code",
   "execution_count": 9,
   "id": "3c3c0982-5596-4c7f-91f6-75cd482b72bf",
   "metadata": {
    "tags": []
   },
   "outputs": [],
   "source": [
    "# NON-EDITABLE TEST CELL\n",
    "import geopandas\n",
    "assert type(grid) == geopandas.geodataframe.GeoDataFrame, \"Output should be a geodataframe.\""
   ]
  },
  {
   "cell_type": "code",
   "execution_count": 10,
   "id": "1bc2caf3-e833-4cce-b326-5202176424b5",
   "metadata": {
    "tags": []
   },
   "outputs": [],
   "source": [
    "# NON-EDITABLE TEST CELL\n",
    "# Check that the merged output have (at least) the necessary columns\n",
    "required_columns = ['pt_r_t_Itis', 'car_r_t_Itis', 'pt_r_t_Myyrmanni', 'car_r_t_Myyrmanni', 'geometry']\n",
    "\n",
    "assert all(column in grid.columns for column in required_columns), \"Couldn’t find all required columns.\""
   ]
  },
  {
   "cell_type": "code",
   "execution_count": 11,
   "id": "ea7844d8-5873-40c5-b246-79145add0609",
   "metadata": {
    "tags": []
   },
   "outputs": [],
   "source": [
    "# NON-EDITABLE TEST CELL\n",
    "# Check that -1 values are not present in the columns\n",
    "for shopping_centre in (\"Itis\", \"Myyrmanni\"):\n",
    "    for column in (\"car_r_t\", \"pt_r_t\"):\n",
    "        assert -1 not in grid[f\"{column}_{shopping_centre}\"], \"NoData values (-1) should be removed from the data!\""
   ]
  },
  {
   "cell_type": "markdown",
   "id": "fce7027c-d10c-4ad3-8659-03c96228a6a3",
   "metadata": {},
   "source": [
    "#### c) Classify the travel times into five-minute intervals"
   ]
  },
  {
   "cell_type": "code",
   "execution_count": 12,
   "id": "8f9bd61d-b902-46df-9d63-c582636bd4f7",
   "metadata": {
    "tags": []
   },
   "outputs": [],
   "source": [
    "classbreaks = [5, 10, 15, 20, 25, 30, 35, 40, 45, 50, 55, 60]"
   ]
  },
  {
   "cell_type": "code",
   "execution_count": 13,
   "id": "9b2c9aa4-971a-471f-bc13-88acb3c0b09f",
   "metadata": {
    "tags": []
   },
   "outputs": [],
   "source": [
    "grid[\"pt_r_t_cl_Itis\"] = grid[[\"pt_r_t_Itis\"]].apply(mapclassify.UserDefined.make(bins=classbreaks))\n",
    "grid[\"pt_r_t_cl_Myyrmanni\"] = grid[[\"pt_r_t_Myyrmanni\"]].apply(mapclassify.UserDefined.make(bins=classbreaks))"
   ]
  },
  {
   "cell_type": "code",
   "execution_count": 14,
   "id": "f6796a0e-1d34-4e8f-8752-5613d5dc3d67",
   "metadata": {
    "tags": []
   },
   "outputs": [],
   "source": [
    "grid[\"car_r_t_cl_Itis\"] = grid[[\"car_r_t_Itis\"]].apply(mapclassify.UserDefined.make(bins=classbreaks))\n",
    "grid[\"car_r_t_cl_Myyrmanni\"] = grid[[\"car_r_t_Myyrmanni\"]].apply(mapclassify.UserDefined.make(bins=classbreaks))"
   ]
  },
  {
   "cell_type": "code",
   "execution_count": 15,
   "id": "081adc61-79e4-4a53-bdc5-e9e670f48c0a",
   "metadata": {
    "tags": []
   },
   "outputs": [
    {
     "data": {
      "text/html": [
       "<div>\n",
       "<style scoped>\n",
       "    .dataframe tbody tr th:only-of-type {\n",
       "        vertical-align: middle;\n",
       "    }\n",
       "\n",
       "    .dataframe tbody tr th {\n",
       "        vertical-align: top;\n",
       "    }\n",
       "\n",
       "    .dataframe thead th {\n",
       "        text-align: right;\n",
       "    }\n",
       "</style>\n",
       "<table border=\"1\" class=\"dataframe\">\n",
       "  <thead>\n",
       "    <tr style=\"text-align: right;\">\n",
       "      <th></th>\n",
       "      <th>geometry</th>\n",
       "      <th>car_r_t_Itis</th>\n",
       "      <th>pt_r_t_Itis</th>\n",
       "      <th>car_r_t_Myyrmanni</th>\n",
       "      <th>pt_r_t_Myyrmanni</th>\n",
       "      <th>pt_r_t_cl_Itis</th>\n",
       "      <th>pt_r_t_cl_Myyrmanni</th>\n",
       "      <th>car_r_t_cl_Itis</th>\n",
       "      <th>car_r_t_cl_Myyrmanni</th>\n",
       "    </tr>\n",
       "  </thead>\n",
       "  <tbody>\n",
       "    <tr>\n",
       "      <th>5785640</th>\n",
       "      <td>POLYGON ((382000.000 6697750.000, 381750.000 6...</td>\n",
       "      <td>50</td>\n",
       "      <td>132</td>\n",
       "      <td>39</td>\n",
       "      <td>90</td>\n",
       "      <td>12</td>\n",
       "      <td>12</td>\n",
       "      <td>9</td>\n",
       "      <td>7</td>\n",
       "    </tr>\n",
       "    <tr>\n",
       "      <th>5785641</th>\n",
       "      <td>POLYGON ((382250.000 6697750.000, 382000.000 6...</td>\n",
       "      <td>51</td>\n",
       "      <td>135</td>\n",
       "      <td>39</td>\n",
       "      <td>93</td>\n",
       "      <td>12</td>\n",
       "      <td>12</td>\n",
       "      <td>10</td>\n",
       "      <td>7</td>\n",
       "    </tr>\n",
       "    <tr>\n",
       "      <th>5785642</th>\n",
       "      <td>POLYGON ((382500.000 6697750.000, 382250.000 6...</td>\n",
       "      <td>58</td>\n",
       "      <td>137</td>\n",
       "      <td>47</td>\n",
       "      <td>95</td>\n",
       "      <td>12</td>\n",
       "      <td>12</td>\n",
       "      <td>11</td>\n",
       "      <td>9</td>\n",
       "    </tr>\n",
       "    <tr>\n",
       "      <th>5785643</th>\n",
       "      <td>POLYGON ((382750.000 6697750.000, 382500.000 6...</td>\n",
       "      <td>57</td>\n",
       "      <td>141</td>\n",
       "      <td>51</td>\n",
       "      <td>99</td>\n",
       "      <td>12</td>\n",
       "      <td>12</td>\n",
       "      <td>11</td>\n",
       "      <td>10</td>\n",
       "    </tr>\n",
       "    <tr>\n",
       "      <th>5787544</th>\n",
       "      <td>POLYGON ((381250.000 6697500.000, 381000.000 6...</td>\n",
       "      <td>50</td>\n",
       "      <td>125</td>\n",
       "      <td>38</td>\n",
       "      <td>83</td>\n",
       "      <td>12</td>\n",
       "      <td>12</td>\n",
       "      <td>9</td>\n",
       "      <td>7</td>\n",
       "    </tr>\n",
       "  </tbody>\n",
       "</table>\n",
       "</div>"
      ],
      "text/plain": [
       "                                                  geometry  car_r_t_Itis  \\\n",
       "5785640  POLYGON ((382000.000 6697750.000, 381750.000 6...            50   \n",
       "5785641  POLYGON ((382250.000 6697750.000, 382000.000 6...            51   \n",
       "5785642  POLYGON ((382500.000 6697750.000, 382250.000 6...            58   \n",
       "5785643  POLYGON ((382750.000 6697750.000, 382500.000 6...            57   \n",
       "5787544  POLYGON ((381250.000 6697500.000, 381000.000 6...            50   \n",
       "\n",
       "         pt_r_t_Itis  car_r_t_Myyrmanni  pt_r_t_Myyrmanni  pt_r_t_cl_Itis  \\\n",
       "5785640          132                 39                90              12   \n",
       "5785641          135                 39                93              12   \n",
       "5785642          137                 47                95              12   \n",
       "5785643          141                 51                99              12   \n",
       "5787544          125                 38                83              12   \n",
       "\n",
       "         pt_r_t_cl_Myyrmanni  car_r_t_cl_Itis  car_r_t_cl_Myyrmanni  \n",
       "5785640                   12                9                     7  \n",
       "5785641                   12               10                     7  \n",
       "5785642                   12               11                     9  \n",
       "5785643                   12               11                    10  \n",
       "5787544                   12                9                     7  "
      ]
     },
     "execution_count": 15,
     "metadata": {},
     "output_type": "execute_result"
    }
   ],
   "source": [
    "grid.head()"
   ]
  },
  {
   "cell_type": "code",
   "execution_count": 16,
   "id": "adec05f5-e66b-43af-9362-6d3d0565ace9",
   "metadata": {
    "tags": []
   },
   "outputs": [
    {
     "name": "stdout",
     "output_type": "stream",
     "text": [
      "travel times by public transport:\n"
     ]
    },
    {
     "data": {
      "text/html": [
       "<div>\n",
       "<style scoped>\n",
       "    .dataframe tbody tr th:only-of-type {\n",
       "        vertical-align: middle;\n",
       "    }\n",
       "\n",
       "    .dataframe tbody tr th {\n",
       "        vertical-align: top;\n",
       "    }\n",
       "\n",
       "    .dataframe thead th {\n",
       "        text-align: right;\n",
       "    }\n",
       "</style>\n",
       "<table border=\"1\" class=\"dataframe\">\n",
       "  <thead>\n",
       "    <tr style=\"text-align: right;\">\n",
       "      <th></th>\n",
       "      <th>pt_r_t_Itis</th>\n",
       "      <th>pt_r_t_cl_Itis</th>\n",
       "    </tr>\n",
       "  </thead>\n",
       "  <tbody>\n",
       "    <tr>\n",
       "      <th>5785640</th>\n",
       "      <td>132</td>\n",
       "      <td>12</td>\n",
       "    </tr>\n",
       "    <tr>\n",
       "      <th>5785641</th>\n",
       "      <td>135</td>\n",
       "      <td>12</td>\n",
       "    </tr>\n",
       "    <tr>\n",
       "      <th>5785642</th>\n",
       "      <td>137</td>\n",
       "      <td>12</td>\n",
       "    </tr>\n",
       "    <tr>\n",
       "      <th>5785643</th>\n",
       "      <td>141</td>\n",
       "      <td>12</td>\n",
       "    </tr>\n",
       "    <tr>\n",
       "      <th>5787544</th>\n",
       "      <td>125</td>\n",
       "      <td>12</td>\n",
       "    </tr>\n",
       "  </tbody>\n",
       "</table>\n",
       "</div>"
      ],
      "text/plain": [
       "         pt_r_t_Itis  pt_r_t_cl_Itis\n",
       "5785640          132              12\n",
       "5785641          135              12\n",
       "5785642          137              12\n",
       "5785643          141              12\n",
       "5787544          125              12"
      ]
     },
     "execution_count": 16,
     "metadata": {},
     "output_type": "execute_result"
    }
   ],
   "source": [
    "# NON-EDITABLE TEST CELL\n",
    "# Check the output\n",
    "print(\"travel times by public transport:\")\n",
    "grid[['pt_r_t_Itis', 'pt_r_t_cl_Itis']].head()"
   ]
  },
  {
   "cell_type": "code",
   "execution_count": 17,
   "id": "132f3eb3-48b3-4af3-ac37-96a07ef1629a",
   "metadata": {
    "tags": []
   },
   "outputs": [
    {
     "name": "stdout",
     "output_type": "stream",
     "text": [
      "Travel times by car:\n"
     ]
    },
    {
     "data": {
      "text/html": [
       "<div>\n",
       "<style scoped>\n",
       "    .dataframe tbody tr th:only-of-type {\n",
       "        vertical-align: middle;\n",
       "    }\n",
       "\n",
       "    .dataframe tbody tr th {\n",
       "        vertical-align: top;\n",
       "    }\n",
       "\n",
       "    .dataframe thead th {\n",
       "        text-align: right;\n",
       "    }\n",
       "</style>\n",
       "<table border=\"1\" class=\"dataframe\">\n",
       "  <thead>\n",
       "    <tr style=\"text-align: right;\">\n",
       "      <th></th>\n",
       "      <th>car_r_t_Myyrmanni</th>\n",
       "      <th>car_r_t_cl_Myyrmanni</th>\n",
       "    </tr>\n",
       "  </thead>\n",
       "  <tbody>\n",
       "    <tr>\n",
       "      <th>5785640</th>\n",
       "      <td>39</td>\n",
       "      <td>7</td>\n",
       "    </tr>\n",
       "    <tr>\n",
       "      <th>5785641</th>\n",
       "      <td>39</td>\n",
       "      <td>7</td>\n",
       "    </tr>\n",
       "    <tr>\n",
       "      <th>5785642</th>\n",
       "      <td>47</td>\n",
       "      <td>9</td>\n",
       "    </tr>\n",
       "    <tr>\n",
       "      <th>5785643</th>\n",
       "      <td>51</td>\n",
       "      <td>10</td>\n",
       "    </tr>\n",
       "    <tr>\n",
       "      <th>5787544</th>\n",
       "      <td>38</td>\n",
       "      <td>7</td>\n",
       "    </tr>\n",
       "  </tbody>\n",
       "</table>\n",
       "</div>"
      ],
      "text/plain": [
       "         car_r_t_Myyrmanni  car_r_t_cl_Myyrmanni\n",
       "5785640                 39                     7\n",
       "5785641                 39                     7\n",
       "5785642                 47                     9\n",
       "5785643                 51                    10\n",
       "5787544                 38                     7"
      ]
     },
     "execution_count": 17,
     "metadata": {},
     "output_type": "execute_result"
    }
   ],
   "source": [
    "# NON-EDITABLE TEST CELL\n",
    "# Check the output\n",
    "print(\"Travel times by car:\")\n",
    "grid[[\"car_r_t_Myyrmanni\", \"car_r_t_cl_Myyrmanni\"]].head()"
   ]
  },
  {
   "cell_type": "code",
   "execution_count": 18,
   "id": "bb5ab646-4f39-4eab-bc32-3bf2286edf7d",
   "metadata": {
    "tags": []
   },
   "outputs": [
    {
     "data": {
      "text/plain": [
       "<AxesSubplot: >"
      ]
     },
     "execution_count": 18,
     "metadata": {},
     "output_type": "execute_result"
    },
    {
     "data": {
      "image/png": "[encoded data removed]",
      "text/plain": [
       "<Figure size 1000x1000 with 4 Axes>"
      ]
     },
     "metadata": {},
     "output_type": "display_data"
    }
   ],
   "source": [
    "fig, axs = plt.subplots(2, 2, figsize=(10, 10))\n",
    "grid.plot(column=\"pt_r_t_cl_Itis\", cmap=\"RdYlBu\", ax=axs[0, 0])\n",
    "grid.plot(column=\"car_r_t_cl_Itis\", cmap=\"RdYlBu\", ax=axs[0, 1])\n",
    "grid.plot(column=\"pt_r_t_cl_Myyrmanni\", cmap=\"RdYlBu\", ax=axs[1, 0])\n",
    "grid.plot(column=\"car_r_t_cl_Myyrmanni\", cmap=\"RdYlBu\", ax=axs[1, 1])"
   ]
  },
  {
   "cell_type": "code",
   "execution_count": 19,
   "id": "59f545aa-57fe-4b33-9802-126f037eee35",
   "metadata": {
    "tags": []
   },
   "outputs": [],
   "source": [
    "fig.savefig(DATA_DIRECTORY / \"shopping_centre_accessibility.png\") "
   ]
  },
  {
   "cell_type": "code",
   "execution_count": 20,
   "id": "6a226274-7437-4225-b29c-7626f9be9cd1",
   "metadata": {
    "tags": []
   },
   "outputs": [],
   "source": [
    "# NON-EDITABLE TEST CELL\n",
    "# Check that output figure file exists\n",
    "assert (DATA_DIRECTORY / \"shopping_centre_accessibility.png\").exists()"
   ]
  }
 ],
 "metadata": {
  "kernelspec": {
   "display_name": "Python 3 (ipykernel)",
   "language": "python",
   "name": "python3"
  },
  "language_info": {
   "codemirror_mode": {
    "name": "ipython",
    "version": 3
   },
   "file_extension": ".py",
   "mimetype": "text/x-python",
   "name": "python",
   "nbconvert_exporter": "python",
   "pygments_lexer": "ipython3",
   "version": "3.10.9"
  }
 },
 "nbformat": 4,
 "nbformat_minor": 5
}
