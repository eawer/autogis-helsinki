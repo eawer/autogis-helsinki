{
 "cells": [
  {
   "cell_type": "markdown",
   "id": "5869dda2-a3d3-4c24-9c06-8b25fdc55434",
   "metadata": {},
   "source": [
    "### Solutions for https://github.com/Automating-GIS-processes-2022/Exercise-3/blob/main/Exercise-3-Problem-1.ipynb"
   ]
  },
  {
   "cell_type": "code",
   "execution_count": 1,
   "id": "1d304880-5a6b-4711-aa37-b89ec0c770be",
   "metadata": {
    "tags": []
   },
   "outputs": [],
   "source": [
    "import os\n",
    "os.environ['USE_PYGEOS'] = '0'\n",
    "\n",
    "import pandas as pd\n",
    "import geopandas as gpd"
   ]
  },
  {
   "cell_type": "markdown",
   "id": "a56c358b-c6fa-48cd-a483-b77f31bf1b47",
   "metadata": {
    "tags": []
   },
   "source": [
    "### Problem 1:Geocode shopping centers (5 points)"
   ]
  },
  {
   "cell_type": "markdown",
   "id": "12c6d01f-fbf9-4d4c-9772-e44142d5f510",
   "metadata": {},
   "source": [
    "#### b) Read the list of addresses"
   ]
  },
  {
   "cell_type": "code",
   "execution_count": 53,
   "id": "50e01915-172c-4926-b40c-43c8993a9fed",
   "metadata": {
    "tags": []
   },
   "outputs": [
    {
     "data": {
      "text/html": [
       "<div>\n",
       "<style scoped>\n",
       "    .dataframe tbody tr th:only-of-type {\n",
       "        vertical-align: middle;\n",
       "    }\n",
       "\n",
       "    .dataframe tbody tr th {\n",
       "        vertical-align: top;\n",
       "    }\n",
       "\n",
       "    .dataframe thead th {\n",
       "        text-align: right;\n",
       "    }\n",
       "</style>\n",
       "<table border=\"1\" class=\"dataframe\">\n",
       "  <thead>\n",
       "    <tr style=\"text-align: right;\">\n",
       "      <th></th>\n",
       "      <th>id</th>\n",
       "      <th>name</th>\n",
       "      <th>addr</th>\n",
       "    </tr>\n",
       "  </thead>\n",
       "  <tbody>\n",
       "    <tr>\n",
       "      <th>0</th>\n",
       "      <td>0</td>\n",
       "      <td>Itis</td>\n",
       "      <td>Itäkatu 1-7, 00930 Helsinki, Finland</td>\n",
       "    </tr>\n",
       "    <tr>\n",
       "      <th>1</th>\n",
       "      <td>1</td>\n",
       "      <td>Forum</td>\n",
       "      <td>Mannerheimintie 14–20, 00100 Helsinki, Finland</td>\n",
       "    </tr>\n",
       "    <tr>\n",
       "      <th>2</th>\n",
       "      <td>2</td>\n",
       "      <td>Iso-omena</td>\n",
       "      <td>Piispansilta 11, 02230 Espoo, Finland</td>\n",
       "    </tr>\n",
       "    <tr>\n",
       "      <th>3</th>\n",
       "      <td>3</td>\n",
       "      <td>Sello</td>\n",
       "      <td>Leppävaarankatu 3-9, 02600 Espoo, Finland</td>\n",
       "    </tr>\n",
       "    <tr>\n",
       "      <th>4</th>\n",
       "      <td>4</td>\n",
       "      <td>Jumbo</td>\n",
       "      <td>Vantaanportinkatu 3, 01510 Vantaa, Finland</td>\n",
       "    </tr>\n",
       "    <tr>\n",
       "      <th>5</th>\n",
       "      <td>5</td>\n",
       "      <td>REDI</td>\n",
       "      <td>Hermannin rantatie 5, 00580 Helsinki, Finland</td>\n",
       "    </tr>\n",
       "    <tr>\n",
       "      <th>6</th>\n",
       "      <td>6</td>\n",
       "      <td>Tripla</td>\n",
       "      <td>Fredikanterassi 1, 00520 Helsinki, Finland</td>\n",
       "    </tr>\n",
       "  </tbody>\n",
       "</table>\n",
       "</div>"
      ],
      "text/plain": [
       "   id       name                                            addr\n",
       "0   0       Itis            Itäkatu 1-7, 00930 Helsinki, Finland\n",
       "1   1      Forum  Mannerheimintie 14–20, 00100 Helsinki, Finland\n",
       "2   2  Iso-omena           Piispansilta 11, 02230 Espoo, Finland\n",
       "3   3      Sello       Leppävaarankatu 3-9, 02600 Espoo, Finland\n",
       "4   4      Jumbo      Vantaanportinkatu 3, 01510 Vantaa, Finland\n",
       "5   5       REDI   Hermannin rantatie 5, 00580 Helsinki, Finland\n",
       "6   6     Tripla      Fredikanterassi 1, 00520 Helsinki, Finland"
      ]
     },
     "execution_count": 53,
     "metadata": {},
     "output_type": "execute_result"
    }
   ],
   "source": [
    "shopping_centres = pd.read_csv(\"data/shopping_centres.txt\", sep=\";\")\n",
    "shopping_centres"
   ]
  },
  {
   "cell_type": "code",
   "execution_count": 54,
   "id": "15636813-763d-4d73-9f09-e04a246cd06b",
   "metadata": {
    "tags": []
   },
   "outputs": [],
   "source": [
    "# NON-EDITABLE CODE CELL FOR TESTING YOUR SOLUTION\n",
    "import pandas\n",
    "assert isinstance(shopping_centres, pandas.DataFrame)\n",
    "for column in (\"id\", \"name\", \"addr\"):\n",
    "    assert column in shopping_centres.columns"
   ]
  },
  {
   "cell_type": "markdown",
   "id": "15d9ea8b-d445-417d-aa63-657a85ebb4c7",
   "metadata": {},
   "source": [
    "#### c) Geocode the addresses"
   ]
  },
  {
   "cell_type": "code",
   "execution_count": 55,
   "id": "ca062025-99db-4821-a860-2226b4c95741",
   "metadata": {
    "tags": []
   },
   "outputs": [
    {
     "data": {
      "text/html": [
       "<div>\n",
       "<style scoped>\n",
       "    .dataframe tbody tr th:only-of-type {\n",
       "        vertical-align: middle;\n",
       "    }\n",
       "\n",
       "    .dataframe tbody tr th {\n",
       "        vertical-align: top;\n",
       "    }\n",
       "\n",
       "    .dataframe thead th {\n",
       "        text-align: right;\n",
       "    }\n",
       "</style>\n",
       "<table border=\"1\" class=\"dataframe\">\n",
       "  <thead>\n",
       "    <tr style=\"text-align: right;\">\n",
       "      <th></th>\n",
       "      <th>id</th>\n",
       "      <th>name</th>\n",
       "      <th>addr</th>\n",
       "      <th>geometry</th>\n",
       "      <th>address</th>\n",
       "    </tr>\n",
       "  </thead>\n",
       "  <tbody>\n",
       "    <tr>\n",
       "      <th>0</th>\n",
       "      <td>0</td>\n",
       "      <td>Itis</td>\n",
       "      <td>Itäkatu 1-7, 00930 Helsinki, Finland</td>\n",
       "      <td>POINT (25504598.602 6677662.109)</td>\n",
       "      <td>Kauppakeskus Itis, 1-7, Itäkatu, Itäkeskus, Va...</td>\n",
       "    </tr>\n",
       "    <tr>\n",
       "      <th>1</th>\n",
       "      <td>1</td>\n",
       "      <td>Forum</td>\n",
       "      <td>Mannerheimintie 14–20, 00100 Helsinki, Finland</td>\n",
       "      <td>POINT (25496573.542 6672878.360)</td>\n",
       "      <td>Salaattiasema, 14-20, Mannerheimintie, Keskust...</td>\n",
       "    </tr>\n",
       "    <tr>\n",
       "      <th>2</th>\n",
       "      <td>2</td>\n",
       "      <td>Iso-omena</td>\n",
       "      <td>Piispansilta 11, 02230 Espoo, Finland</td>\n",
       "      <td>POINT (25485470.435 6672070.967)</td>\n",
       "      <td>Iso Omena, 11, Piispansilta, Matinkylä, Suur-M...</td>\n",
       "    </tr>\n",
       "    <tr>\n",
       "      <th>3</th>\n",
       "      <td>3</td>\n",
       "      <td>Sello</td>\n",
       "      <td>Leppävaarankatu 3-9, 02600 Espoo, Finland</td>\n",
       "      <td>POINT (25489491.076 6678322.265)</td>\n",
       "      <td>Lasten kappeli Arkki, 3-9, Leppävaarankatu, Sä...</td>\n",
       "    </tr>\n",
       "    <tr>\n",
       "      <th>4</th>\n",
       "      <td>4</td>\n",
       "      <td>Jumbo</td>\n",
       "      <td>Vantaanportinkatu 3, 01510 Vantaa, Finland</td>\n",
       "      <td>POINT (25497943.932 6686656.982)</td>\n",
       "      <td>Stockmann, 3, Vantaanportinkatu, Vantaanportti...</td>\n",
       "    </tr>\n",
       "    <tr>\n",
       "      <th>5</th>\n",
       "      <td>5</td>\n",
       "      <td>REDI</td>\n",
       "      <td>Hermannin rantatie 5, 00580 Helsinki, Finland</td>\n",
       "      <td>POINT (25498869.737 6674838.689)</td>\n",
       "      <td>Oluthuone Haavi, 5, Hermannin rantatie, Verkko...</td>\n",
       "    </tr>\n",
       "    <tr>\n",
       "      <th>6</th>\n",
       "      <td>6</td>\n",
       "      <td>Tripla</td>\n",
       "      <td>Fredikanterassi 1, 00520 Helsinki, Finland</td>\n",
       "      <td>POINT (25496145.658 6676164.227)</td>\n",
       "      <td>Mall of Tripla, 1, Fredikanterassi, Keski-Pasi...</td>\n",
       "    </tr>\n",
       "  </tbody>\n",
       "</table>\n",
       "</div>"
      ],
      "text/plain": [
       "   id       name                                            addr  \\\n",
       "0   0       Itis            Itäkatu 1-7, 00930 Helsinki, Finland   \n",
       "1   1      Forum  Mannerheimintie 14–20, 00100 Helsinki, Finland   \n",
       "2   2  Iso-omena           Piispansilta 11, 02230 Espoo, Finland   \n",
       "3   3      Sello       Leppävaarankatu 3-9, 02600 Espoo, Finland   \n",
       "4   4      Jumbo      Vantaanportinkatu 3, 01510 Vantaa, Finland   \n",
       "5   5       REDI   Hermannin rantatie 5, 00580 Helsinki, Finland   \n",
       "6   6     Tripla      Fredikanterassi 1, 00520 Helsinki, Finland   \n",
       "\n",
       "                           geometry  \\\n",
       "0  POINT (25504598.602 6677662.109)   \n",
       "1  POINT (25496573.542 6672878.360)   \n",
       "2  POINT (25485470.435 6672070.967)   \n",
       "3  POINT (25489491.076 6678322.265)   \n",
       "4  POINT (25497943.932 6686656.982)   \n",
       "5  POINT (25498869.737 6674838.689)   \n",
       "6  POINT (25496145.658 6676164.227)   \n",
       "\n",
       "                                             address  \n",
       "0  Kauppakeskus Itis, 1-7, Itäkatu, Itäkeskus, Va...  \n",
       "1  Salaattiasema, 14-20, Mannerheimintie, Keskust...  \n",
       "2  Iso Omena, 11, Piispansilta, Matinkylä, Suur-M...  \n",
       "3  Lasten kappeli Arkki, 3-9, Leppävaarankatu, Sä...  \n",
       "4  Stockmann, 3, Vantaanportinkatu, Vantaanportti...  \n",
       "5  Oluthuone Haavi, 5, Hermannin rantatie, Verkko...  \n",
       "6  Mall of Tripla, 1, Fredikanterassi, Keski-Pasi...  "
      ]
     },
     "execution_count": 55,
     "metadata": {},
     "output_type": "execute_result"
    }
   ],
   "source": [
    "geometries = gpd.tools.geocode(shopping_centres[\"addr\"], provider=\"nominatim\", user_agent=\"autogis2022\", timeout=10)\n",
    "shopping_centres = shopping_centres.join(geometries)\n",
    "shopping_centres = gpd.GeoDataFrame(shopping_centres, crs=4326)\n",
    "shopping_centres = shopping_centres.to_crs(epsg=3879)\n",
    "shopping_centres"
   ]
  },
  {
   "cell_type": "code",
   "execution_count": 57,
   "id": "23faca1e-b84c-4cbc-9ca5-7c6cba0dbf3e",
   "metadata": {
    "tags": []
   },
   "outputs": [],
   "source": [
    "# NON-EDITABLE CODE CELL FOR TESTING YOUR SOLUTION\n",
    "import geopandas\n",
    "assert isinstance(shopping_centres, geopandas.GeoDataFrame)\n",
    "for column in (\"id\", \"name\", \"addr\", \"geometry\"):\n",
    "    assert column in shopping_centres.columns"
   ]
  },
  {
   "cell_type": "code",
   "execution_count": 58,
   "id": "624b9b7c-0341-4729-8e79-187b3313a758",
   "metadata": {
    "tags": []
   },
   "outputs": [],
   "source": [
    "# NON-EDITABLE CODE CELL FOR TESTING YOUR SOLUTION\n",
    "import pyproj\n",
    "assert shopping_centres.crs == pyproj.CRS(\"EPSG:3879\")"
   ]
  },
  {
   "cell_type": "markdown",
   "id": "5c87f5c4-4f46-441b-a803-95a433e26539",
   "metadata": {},
   "source": [
    "#### d) Save the resulting vector data set"
   ]
  },
  {
   "cell_type": "code",
   "execution_count": 59,
   "id": "bbe6d1f5-e349-47fb-8cf1-e8fd696c8e11",
   "metadata": {
    "tags": []
   },
   "outputs": [],
   "source": [
    "shopping_centres.to_file(\"data/shopping_centres.gpkg\")"
   ]
  }
 ],
 "metadata": {
  "kernelspec": {
   "display_name": "Python 3 (ipykernel)",
   "language": "python",
   "name": "python3"
  },
  "language_info": {
   "codemirror_mode": {
    "name": "ipython",
    "version": 3
   },
   "file_extension": ".py",
   "mimetype": "text/x-python",
   "name": "python",
   "nbconvert_exporter": "python",
   "pygments_lexer": "ipython3",
   "version": "3.10.9"
  }
 },
 "nbformat": 4,
 "nbformat_minor": 5
}
