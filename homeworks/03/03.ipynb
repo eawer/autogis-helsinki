{
 "cells": [
  {
   "cell_type": "markdown",
   "id": "5869dda2-a3d3-4c24-9c06-8b25fdc55434",
   "metadata": {},
   "source": [
    "### Solutions for https://github.com/Automating-GIS-processes-2022/Exercise-3/blob/main/Exercise-3-Problem-3.ipynb"
   ]
  },
  {
   "cell_type": "code",
   "execution_count": 1,
   "id": "1d304880-5a6b-4711-aa37-b89ec0c770be",
   "metadata": {
    "tags": []
   },
   "outputs": [],
   "source": [
    "import os\n",
    "os.environ['USE_PYGEOS'] = '0'\n",
    "\n",
    "import geopandas as gpd"
   ]
  },
  {
   "cell_type": "markdown",
   "id": "a56c358b-c6fa-48cd-a483-b77f31bf1b47",
   "metadata": {
    "tags": []
   },
   "source": [
    "### Problem 3: How many people live near shopping centers? (8 points)"
   ]
  },
  {
   "cell_type": "markdown",
   "id": "12c6d01f-fbf9-4d4c-9772-e44142d5f510",
   "metadata": {},
   "source": [
    "#### a) Load the population grid data set and the buffer geometries"
   ]
  },
  {
   "cell_type": "code",
   "execution_count": 14,
   "id": "a70192dd-b639-4d5d-ba7f-585967f876c7",
   "metadata": {
    "tags": []
   },
   "outputs": [
    {
     "data": {
      "text/html": [
       "<div>\n",
       "<style scoped>\n",
       "    .dataframe tbody tr th:only-of-type {\n",
       "        vertical-align: middle;\n",
       "    }\n",
       "\n",
       "    .dataframe tbody tr th {\n",
       "        vertical-align: top;\n",
       "    }\n",
       "\n",
       "    .dataframe thead th {\n",
       "        text-align: right;\n",
       "    }\n",
       "</style>\n",
       "<table border=\"1\" class=\"dataframe\">\n",
       "  <thead>\n",
       "    <tr style=\"text-align: right;\">\n",
       "      <th></th>\n",
       "      <th>population</th>\n",
       "      <th>geometry</th>\n",
       "    </tr>\n",
       "  </thead>\n",
       "  <tbody>\n",
       "    <tr>\n",
       "      <th>0</th>\n",
       "      <td>5</td>\n",
       "      <td>POLYGON ((25472499.995 6685998.998, 25472499.9...</td>\n",
       "    </tr>\n",
       "    <tr>\n",
       "      <th>1</th>\n",
       "      <td>8</td>\n",
       "      <td>POLYGON ((25472499.995 6684249.004, 25472499.9...</td>\n",
       "    </tr>\n",
       "    <tr>\n",
       "      <th>2</th>\n",
       "      <td>5</td>\n",
       "      <td>POLYGON ((25472499.995 6683999.005, 25472499.9...</td>\n",
       "    </tr>\n",
       "    <tr>\n",
       "      <th>3</th>\n",
       "      <td>13</td>\n",
       "      <td>POLYGON ((25472499.995 6682998.998, 25472499.9...</td>\n",
       "    </tr>\n",
       "    <tr>\n",
       "      <th>4</th>\n",
       "      <td>5</td>\n",
       "      <td>POLYGON ((25472749.993 6690249.003, 25472749.9...</td>\n",
       "    </tr>\n",
       "  </tbody>\n",
       "</table>\n",
       "</div>"
      ],
      "text/plain": [
       "   population                                           geometry\n",
       "0           5  POLYGON ((25472499.995 6685998.998, 25472499.9...\n",
       "1           8  POLYGON ((25472499.995 6684249.004, 25472499.9...\n",
       "2           5  POLYGON ((25472499.995 6683999.005, 25472499.9...\n",
       "3          13  POLYGON ((25472499.995 6682998.998, 25472499.9...\n",
       "4           5  POLYGON ((25472749.993 6690249.003, 25472749.9..."
      ]
     },
     "execution_count": 14,
     "metadata": {},
     "output_type": "execute_result"
    }
   ],
   "source": [
    "population_grid = gpd.read_file(\n",
    "    (\n",
    "        \"https://kartta.hsy.fi/geoserver/wfs\"\n",
    "        \"?service=wfs\"\n",
    "        \"&version=2.0.0\"\n",
    "        \"&request=GetFeature\"\n",
    "        \"&typeName=asuminen_ja_maankaytto:Vaestotietoruudukko_2020\"\n",
    "        \"&srsName=EPSG:3879\"\n",
    "    ),\n",
    ")\n",
    "population_grid.crs = \"EPSG:3879\"\n",
    "population_grid = population_grid[[\"asukkaita\", \"geometry\"]]\n",
    "population_grid = population_grid.rename(columns={\"asukkaita\": \"population\"})\n",
    "population_grid.head()"
   ]
  },
  {
   "cell_type": "code",
   "execution_count": 17,
   "id": "8d8ec9c8-1c36-4201-b07d-f13f9385e312",
   "metadata": {
    "tags": []
   },
   "outputs": [],
   "source": [
    "# NON-EDITABLE CODE CELL FOR TESTING YOUR SOLUTION\n",
    "import geopandas\n",
    "import pyproj\n",
    "\n",
    "assert isinstance(population_grid, geopandas.GeoDataFrame)\n",
    "assert population_grid.crs == pyproj.CRS(\"EPSG:3879\")"
   ]
  },
  {
   "cell_type": "code",
   "execution_count": 16,
   "id": "50e01915-172c-4926-b40c-43c8993a9fed",
   "metadata": {
    "tags": []
   },
   "outputs": [
    {
     "data": {
      "text/html": [
       "<div>\n",
       "<style scoped>\n",
       "    .dataframe tbody tr th:only-of-type {\n",
       "        vertical-align: middle;\n",
       "    }\n",
       "\n",
       "    .dataframe tbody tr th {\n",
       "        vertical-align: top;\n",
       "    }\n",
       "\n",
       "    .dataframe thead th {\n",
       "        text-align: right;\n",
       "    }\n",
       "</style>\n",
       "<table border=\"1\" class=\"dataframe\">\n",
       "  <thead>\n",
       "    <tr style=\"text-align: right;\">\n",
       "      <th></th>\n",
       "      <th>id</th>\n",
       "      <th>name</th>\n",
       "      <th>addr</th>\n",
       "      <th>address</th>\n",
       "      <th>geometry</th>\n",
       "    </tr>\n",
       "  </thead>\n",
       "  <tbody>\n",
       "    <tr>\n",
       "      <th>0</th>\n",
       "      <td>0</td>\n",
       "      <td>Itis</td>\n",
       "      <td>Itäkatu 1-7, 00930 Helsinki, Finland</td>\n",
       "      <td>Kauppakeskus Itis, 1-7, Itäkatu, Itäkeskus, Va...</td>\n",
       "      <td>POLYGON ((25506098.602 6677662.109, 25506091.3...</td>\n",
       "    </tr>\n",
       "    <tr>\n",
       "      <th>1</th>\n",
       "      <td>1</td>\n",
       "      <td>Forum</td>\n",
       "      <td>Mannerheimintie 14–20, 00100 Helsinki, Finland</td>\n",
       "      <td>Salaattiasema, 14-20, Mannerheimintie, Keskust...</td>\n",
       "      <td>POLYGON ((25498073.542 6672878.360, 25498066.3...</td>\n",
       "    </tr>\n",
       "    <tr>\n",
       "      <th>2</th>\n",
       "      <td>2</td>\n",
       "      <td>Iso-omena</td>\n",
       "      <td>Piispansilta 11, 02230 Espoo, Finland</td>\n",
       "      <td>Iso Omena, 11, Piispansilta, Matinkylä, Suur-M...</td>\n",
       "      <td>POLYGON ((25486970.435 6672070.967, 25486963.2...</td>\n",
       "    </tr>\n",
       "    <tr>\n",
       "      <th>3</th>\n",
       "      <td>3</td>\n",
       "      <td>Sello</td>\n",
       "      <td>Leppävaarankatu 3-9, 02600 Espoo, Finland</td>\n",
       "      <td>Lasten kappeli Arkki, 3-9, Leppävaarankatu, Sä...</td>\n",
       "      <td>POLYGON ((25490991.076 6678322.265, 25490983.8...</td>\n",
       "    </tr>\n",
       "    <tr>\n",
       "      <th>4</th>\n",
       "      <td>4</td>\n",
       "      <td>Jumbo</td>\n",
       "      <td>Vantaanportinkatu 3, 01510 Vantaa, Finland</td>\n",
       "      <td>Stockmann, 3, Vantaanportinkatu, Vantaanportti...</td>\n",
       "      <td>POLYGON ((25499443.932 6686656.982, 25499436.7...</td>\n",
       "    </tr>\n",
       "    <tr>\n",
       "      <th>5</th>\n",
       "      <td>5</td>\n",
       "      <td>REDI</td>\n",
       "      <td>Hermannin rantatie 5, 00580 Helsinki, Finland</td>\n",
       "      <td>Oluthuone Haavi, 5, Hermannin rantatie, Verkko...</td>\n",
       "      <td>POLYGON ((25500369.737 6674838.689, 25500362.5...</td>\n",
       "    </tr>\n",
       "    <tr>\n",
       "      <th>6</th>\n",
       "      <td>6</td>\n",
       "      <td>Tripla</td>\n",
       "      <td>Fredikanterassi 1, 00520 Helsinki, Finland</td>\n",
       "      <td>Mall of Tripla, 1, Fredikanterassi, Keski-Pasi...</td>\n",
       "      <td>POLYGON ((25497645.658 6676164.227, 25497638.4...</td>\n",
       "    </tr>\n",
       "  </tbody>\n",
       "</table>\n",
       "</div>"
      ],
      "text/plain": [
       "   id       name                                            addr  \\\n",
       "0   0       Itis            Itäkatu 1-7, 00930 Helsinki, Finland   \n",
       "1   1      Forum  Mannerheimintie 14–20, 00100 Helsinki, Finland   \n",
       "2   2  Iso-omena           Piispansilta 11, 02230 Espoo, Finland   \n",
       "3   3      Sello       Leppävaarankatu 3-9, 02600 Espoo, Finland   \n",
       "4   4      Jumbo      Vantaanportinkatu 3, 01510 Vantaa, Finland   \n",
       "5   5       REDI   Hermannin rantatie 5, 00580 Helsinki, Finland   \n",
       "6   6     Tripla      Fredikanterassi 1, 00520 Helsinki, Finland   \n",
       "\n",
       "                                             address  \\\n",
       "0  Kauppakeskus Itis, 1-7, Itäkatu, Itäkeskus, Va...   \n",
       "1  Salaattiasema, 14-20, Mannerheimintie, Keskust...   \n",
       "2  Iso Omena, 11, Piispansilta, Matinkylä, Suur-M...   \n",
       "3  Lasten kappeli Arkki, 3-9, Leppävaarankatu, Sä...   \n",
       "4  Stockmann, 3, Vantaanportinkatu, Vantaanportti...   \n",
       "5  Oluthuone Haavi, 5, Hermannin rantatie, Verkko...   \n",
       "6  Mall of Tripla, 1, Fredikanterassi, Keski-Pasi...   \n",
       "\n",
       "                                            geometry  \n",
       "0  POLYGON ((25506098.602 6677662.109, 25506091.3...  \n",
       "1  POLYGON ((25498073.542 6672878.360, 25498066.3...  \n",
       "2  POLYGON ((25486970.435 6672070.967, 25486963.2...  \n",
       "3  POLYGON ((25490991.076 6678322.265, 25490983.8...  \n",
       "4  POLYGON ((25499443.932 6686656.982, 25499436.7...  \n",
       "5  POLYGON ((25500369.737 6674838.689, 25500362.5...  \n",
       "6  POLYGON ((25497645.658 6676164.227, 25497638.4...  "
      ]
     },
     "execution_count": 16,
     "metadata": {},
     "output_type": "execute_result"
    }
   ],
   "source": [
    "shopping_centre_buffers = gpd.read_file(\"data/shopping_centres.gpkg\", layer=\"buffers\")\n",
    "shopping_centre_buffers"
   ]
  },
  {
   "cell_type": "code",
   "execution_count": 18,
   "id": "2c2e580b-140e-4bc2-9c23-9b3bbc6f49df",
   "metadata": {
    "tags": []
   },
   "outputs": [],
   "source": [
    "# NON-EDITABLE CODE CELL FOR TESTING YOUR SOLUTION\n",
    "assert isinstance(shopping_centre_buffers, geopandas.GeoDataFrame)\n",
    "assert shopping_centre_buffers.geometry.geom_type.unique() == [\"Polygon\"]\n",
    "assert shopping_centre_buffers.crs == pyproj.CRS(\"EPSG:3879\")"
   ]
  },
  {
   "cell_type": "code",
   "execution_count": 21,
   "id": "0625fd2d-c9a7-43aa-abf4-934573c30dd3",
   "metadata": {
    "tags": []
   },
   "outputs": [
    {
     "data": {
      "text/plain": [
       "{None,\n",
       " 'contains',\n",
       " 'contains_properly',\n",
       " 'covered_by',\n",
       " 'covers',\n",
       " 'crosses',\n",
       " 'intersects',\n",
       " 'overlaps',\n",
       " 'touches',\n",
       " 'within'}"
      ]
     },
     "execution_count": 21,
     "metadata": {},
     "output_type": "execute_result"
    }
   ],
   "source": [
    "shopping_centre_buffers.sindex.valid_query_predicates"
   ]
  },
  {
   "cell_type": "markdown",
   "id": "b234b1f7-5a99-4f27-b696-450171cfb870",
   "metadata": {},
   "source": [
    "#### b) Carry out a spatial join between the `population_grid` and the `shopping_centre_buffers`"
   ]
  },
  {
   "cell_type": "code",
   "execution_count": 26,
   "id": "3ccf4512-c99c-4bbe-a7d0-88e59ed3181a",
   "metadata": {
    "tags": []
   },
   "outputs": [
    {
     "data": {
      "text/html": [
       "<div>\n",
       "<style scoped>\n",
       "    .dataframe tbody tr th:only-of-type {\n",
       "        vertical-align: middle;\n",
       "    }\n",
       "\n",
       "    .dataframe tbody tr th {\n",
       "        vertical-align: top;\n",
       "    }\n",
       "\n",
       "    .dataframe thead th {\n",
       "        text-align: right;\n",
       "    }\n",
       "</style>\n",
       "<table border=\"1\" class=\"dataframe\">\n",
       "  <thead>\n",
       "    <tr style=\"text-align: right;\">\n",
       "      <th></th>\n",
       "      <th>id</th>\n",
       "      <th>name</th>\n",
       "      <th>addr</th>\n",
       "      <th>address</th>\n",
       "      <th>geometry</th>\n",
       "      <th>index_right</th>\n",
       "      <th>population</th>\n",
       "    </tr>\n",
       "  </thead>\n",
       "  <tbody>\n",
       "    <tr>\n",
       "      <th>0</th>\n",
       "      <td>0</td>\n",
       "      <td>Itis</td>\n",
       "      <td>Itäkatu 1-7, 00930 Helsinki, Finland</td>\n",
       "      <td>Kauppakeskus Itis, 1-7, Itäkatu, Itäkeskus, Va...</td>\n",
       "      <td>POLYGON ((25506098.602 6677662.109, 25506091.3...</td>\n",
       "      <td>5232</td>\n",
       "      <td>63</td>\n",
       "    </tr>\n",
       "    <tr>\n",
       "      <th>0</th>\n",
       "      <td>0</td>\n",
       "      <td>Itis</td>\n",
       "      <td>Itäkatu 1-7, 00930 Helsinki, Finland</td>\n",
       "      <td>Kauppakeskus Itis, 1-7, Itäkatu, Itäkeskus, Va...</td>\n",
       "      <td>POLYGON ((25506098.602 6677662.109, 25506091.3...</td>\n",
       "      <td>5231</td>\n",
       "      <td>43</td>\n",
       "    </tr>\n",
       "    <tr>\n",
       "      <th>0</th>\n",
       "      <td>0</td>\n",
       "      <td>Itis</td>\n",
       "      <td>Itäkatu 1-7, 00930 Helsinki, Finland</td>\n",
       "      <td>Kauppakeskus Itis, 1-7, Itäkatu, Itäkeskus, Va...</td>\n",
       "      <td>POLYGON ((25506098.602 6677662.109, 25506091.3...</td>\n",
       "      <td>5230</td>\n",
       "      <td>80</td>\n",
       "    </tr>\n",
       "    <tr>\n",
       "      <th>0</th>\n",
       "      <td>0</td>\n",
       "      <td>Itis</td>\n",
       "      <td>Itäkatu 1-7, 00930 Helsinki, Finland</td>\n",
       "      <td>Kauppakeskus Itis, 1-7, Itäkatu, Itäkeskus, Va...</td>\n",
       "      <td>POLYGON ((25506098.602 6677662.109, 25506091.3...</td>\n",
       "      <td>5229</td>\n",
       "      <td>319</td>\n",
       "    </tr>\n",
       "    <tr>\n",
       "      <th>0</th>\n",
       "      <td>0</td>\n",
       "      <td>Itis</td>\n",
       "      <td>Itäkatu 1-7, 00930 Helsinki, Finland</td>\n",
       "      <td>Kauppakeskus Itis, 1-7, Itäkatu, Itäkeskus, Va...</td>\n",
       "      <td>POLYGON ((25506098.602 6677662.109, 25506091.3...</td>\n",
       "      <td>5344</td>\n",
       "      <td>202</td>\n",
       "    </tr>\n",
       "    <tr>\n",
       "      <th>...</th>\n",
       "      <td>...</td>\n",
       "      <td>...</td>\n",
       "      <td>...</td>\n",
       "      <td>...</td>\n",
       "      <td>...</td>\n",
       "      <td>...</td>\n",
       "      <td>...</td>\n",
       "    </tr>\n",
       "    <tr>\n",
       "      <th>6</th>\n",
       "      <td>6</td>\n",
       "      <td>Tripla</td>\n",
       "      <td>Fredikanterassi 1, 00520 Helsinki, Finland</td>\n",
       "      <td>Mall of Tripla, 1, Fredikanterassi, Keski-Pasi...</td>\n",
       "      <td>POLYGON ((25497645.658 6676164.227, 25497638.4...</td>\n",
       "      <td>3388</td>\n",
       "      <td>17</td>\n",
       "    </tr>\n",
       "    <tr>\n",
       "      <th>6</th>\n",
       "      <td>6</td>\n",
       "      <td>Tripla</td>\n",
       "      <td>Fredikanterassi 1, 00520 Helsinki, Finland</td>\n",
       "      <td>Mall of Tripla, 1, Fredikanterassi, Keski-Pasi...</td>\n",
       "      <td>POLYGON ((25497645.658 6676164.227, 25497638.4...</td>\n",
       "      <td>3235</td>\n",
       "      <td>162</td>\n",
       "    </tr>\n",
       "    <tr>\n",
       "      <th>6</th>\n",
       "      <td>6</td>\n",
       "      <td>Tripla</td>\n",
       "      <td>Fredikanterassi 1, 00520 Helsinki, Finland</td>\n",
       "      <td>Mall of Tripla, 1, Fredikanterassi, Keski-Pasi...</td>\n",
       "      <td>POLYGON ((25497645.658 6676164.227, 25497638.4...</td>\n",
       "      <td>3573</td>\n",
       "      <td>395</td>\n",
       "    </tr>\n",
       "    <tr>\n",
       "      <th>6</th>\n",
       "      <td>6</td>\n",
       "      <td>Tripla</td>\n",
       "      <td>Fredikanterassi 1, 00520 Helsinki, Finland</td>\n",
       "      <td>Mall of Tripla, 1, Fredikanterassi, Keski-Pasi...</td>\n",
       "      <td>POLYGON ((25497645.658 6676164.227, 25497638.4...</td>\n",
       "      <td>3572</td>\n",
       "      <td>963</td>\n",
       "    </tr>\n",
       "    <tr>\n",
       "      <th>6</th>\n",
       "      <td>6</td>\n",
       "      <td>Tripla</td>\n",
       "      <td>Fredikanterassi 1, 00520 Helsinki, Finland</td>\n",
       "      <td>Mall of Tripla, 1, Fredikanterassi, Keski-Pasi...</td>\n",
       "      <td>POLYGON ((25497645.658 6676164.227, 25497638.4...</td>\n",
       "      <td>3571</td>\n",
       "      <td>368</td>\n",
       "    </tr>\n",
       "  </tbody>\n",
       "</table>\n",
       "<p>422 rows × 7 columns</p>\n",
       "</div>"
      ],
      "text/plain": [
       "    id    name                                        addr  \\\n",
       "0    0    Itis        Itäkatu 1-7, 00930 Helsinki, Finland   \n",
       "0    0    Itis        Itäkatu 1-7, 00930 Helsinki, Finland   \n",
       "0    0    Itis        Itäkatu 1-7, 00930 Helsinki, Finland   \n",
       "0    0    Itis        Itäkatu 1-7, 00930 Helsinki, Finland   \n",
       "0    0    Itis        Itäkatu 1-7, 00930 Helsinki, Finland   \n",
       "..  ..     ...                                         ...   \n",
       "6    6  Tripla  Fredikanterassi 1, 00520 Helsinki, Finland   \n",
       "6    6  Tripla  Fredikanterassi 1, 00520 Helsinki, Finland   \n",
       "6    6  Tripla  Fredikanterassi 1, 00520 Helsinki, Finland   \n",
       "6    6  Tripla  Fredikanterassi 1, 00520 Helsinki, Finland   \n",
       "6    6  Tripla  Fredikanterassi 1, 00520 Helsinki, Finland   \n",
       "\n",
       "                                              address  \\\n",
       "0   Kauppakeskus Itis, 1-7, Itäkatu, Itäkeskus, Va...   \n",
       "0   Kauppakeskus Itis, 1-7, Itäkatu, Itäkeskus, Va...   \n",
       "0   Kauppakeskus Itis, 1-7, Itäkatu, Itäkeskus, Va...   \n",
       "0   Kauppakeskus Itis, 1-7, Itäkatu, Itäkeskus, Va...   \n",
       "0   Kauppakeskus Itis, 1-7, Itäkatu, Itäkeskus, Va...   \n",
       "..                                                ...   \n",
       "6   Mall of Tripla, 1, Fredikanterassi, Keski-Pasi...   \n",
       "6   Mall of Tripla, 1, Fredikanterassi, Keski-Pasi...   \n",
       "6   Mall of Tripla, 1, Fredikanterassi, Keski-Pasi...   \n",
       "6   Mall of Tripla, 1, Fredikanterassi, Keski-Pasi...   \n",
       "6   Mall of Tripla, 1, Fredikanterassi, Keski-Pasi...   \n",
       "\n",
       "                                             geometry  index_right  population  \n",
       "0   POLYGON ((25506098.602 6677662.109, 25506091.3...         5232          63  \n",
       "0   POLYGON ((25506098.602 6677662.109, 25506091.3...         5231          43  \n",
       "0   POLYGON ((25506098.602 6677662.109, 25506091.3...         5230          80  \n",
       "0   POLYGON ((25506098.602 6677662.109, 25506091.3...         5229         319  \n",
       "0   POLYGON ((25506098.602 6677662.109, 25506091.3...         5344         202  \n",
       "..                                                ...          ...         ...  \n",
       "6   POLYGON ((25497645.658 6676164.227, 25497638.4...         3388          17  \n",
       "6   POLYGON ((25497645.658 6676164.227, 25497638.4...         3235         162  \n",
       "6   POLYGON ((25497645.658 6676164.227, 25497638.4...         3573         395  \n",
       "6   POLYGON ((25497645.658 6676164.227, 25497638.4...         3572         963  \n",
       "6   POLYGON ((25497645.658 6676164.227, 25497638.4...         3571         368  \n",
       "\n",
       "[422 rows x 7 columns]"
      ]
     },
     "execution_count": 26,
     "metadata": {},
     "output_type": "execute_result"
    }
   ],
   "source": [
    "joined = shopping_centre_buffers.sjoin(population_grid, how=\"inner\", predicate=\"contains\")\n",
    "joined"
   ]
  },
  {
   "cell_type": "markdown",
   "id": "cfec0888-2941-4f90-9497-2093fcaacddf",
   "metadata": {},
   "source": [
    "#### c) Compute the population sum around shopping centres"
   ]
  },
  {
   "cell_type": "code",
   "execution_count": 34,
   "id": "594f70f7-1d1d-4481-a72f-fd69af213859",
   "metadata": {
    "tags": []
   },
   "outputs": [
    {
     "name": "stdout",
     "output_type": "stream",
     "text": [
      "57062 people live within 1.5 km from Forum.\n",
      "26698 people live within 1.5 km from Iso-omena.\n",
      "20889 people live within 1.5 km from Itis.\n",
      "10907 people live within 1.5 km from Jumbo.\n",
      "27164 people live within 1.5 km from REDI.\n",
      "22329 people live within 1.5 km from Sello.\n",
      "24336 people live within 1.5 km from Tripla.\n"
     ]
    }
   ],
   "source": [
    "for name, population in joined.groupby(\"name\")[\"population\"].sum().items():\n",
    "    print(f\"{population} people live within 1.5 km from {name}.\")"
   ]
  }
 ],
 "metadata": {
  "kernelspec": {
   "display_name": "Python 3 (ipykernel)",
   "language": "python",
   "name": "python3"
  },
  "language_info": {
   "codemirror_mode": {
    "name": "ipython",
    "version": 3
   },
   "file_extension": ".py",
   "mimetype": "text/x-python",
   "name": "python",
   "nbconvert_exporter": "python",
   "pygments_lexer": "ipython3",
   "version": "3.10.9"
  }
 },
 "nbformat": 4,
 "nbformat_minor": 5
}
